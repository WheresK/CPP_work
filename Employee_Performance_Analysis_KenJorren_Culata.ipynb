{
  "nbformat": 4,
  "nbformat_minor": 0,
  "metadata": {
    "colab": {
      "provenance": []
    },
    "kernelspec": {
      "name": "python3",
      "display_name": "Python 3"
    },
    "language_info": {
      "name": "python"
    }
  },
  "cells": [
    {
      "cell_type": "markdown",
      "source": [
        "# **Analysis of Employee Performance Dataset**\n",
        "This assignment on the \"Employee_Performance\" dataset! This dataset provides insights into employees of a company. Your task is to analyze this dataset, draw relationships between variables, and provide meaningful visualizations.\n",
        "\n",
        "## Dataset Overview\n",
        "\n",
        "The \"Employee_Performance\" dataset comprises the following variables:\n",
        "\n",
        "- **Employee_ID:** Unique identifier for each employee.\n",
        "- **Age:** Age of the employee.\n",
        "- **Education_Level:** Education level of the employee (2: High School, 3: Bachelor's Degree, 4: Master's Degree, 5: Ph.D. or MBA).\n",
        "- **Years_of_Experience:** Professional experience of the employee in years.\n",
        "- **Work_Hours_per_Week:** Hours worked by the employee per week.\n",
        "- **Salary:** Salary of the employee.\n",
        "- **Performance_Rating:** Employee performance rating.\n",
        "- **Department:** Department in which the employee works (Sales, Marketing, Engineering, Finance, Human Resources).\n",
        "\n",
        "\n"
      ],
      "metadata": {
        "id": "NBGTRykUJTy0"
      }
    },
    {
      "cell_type": "markdown",
      "source": [
        "## Assignment Instructions\n",
        "\n",
        "### Initial Exploration:\n",
        "\n",
        "- Use the `head()` and `info()` methods to get a preliminary understanding of the dataset's structure and variables.\n",
        "\n",
        "### Framing Analytical Questions:\n",
        "\n",
        "- Based on your initial exploration, frame three distinct analytical questions about the dataset. These questions should delve into different variables and explore relationships between them.\n",
        "\n",
        "    **Examples (but don't limit yourself to these):**\n",
        "    \n",
        "    1. How does the salary vary with education levels across different departments?\n",
        "    2. Is there a relationship between the number of work hours per week and the performance rating?\n",
        "    3. Does years of experience influence the performance rating in all departments equally?\n",
        "\n",
        "### Analysis & Visualization:\n",
        "\n",
        "- For each of the three questions:\n",
        "\n",
        "    - Provide basic descriptive statistics.\n",
        "    - Choose an appropriate visualization technique to represent the data and answer the question. Remember: You cannot use the same visualization technique for more than one question.\n",
        "    - Interpret your findings and draw conclusions based on your visualizations.\n",
        "\n",
        "### Report & Presentation:\n",
        "\n",
        "- Prepare a presentation to share your analysis in the next week's class. Ensure that yourgoogle colab is clear, concise, and well-organized.\n"
      ],
      "metadata": {
        "id": "Y02TgGjWK7MX"
      }
    },
    {
      "cell_type": "markdown",
      "source": [
        "## **Initial Exploration**\n",
        "Before diving into the questions, provide an initial exploration of the dataset. utilize the head() and info() functions and interpret the output."
      ],
      "metadata": {
        "id": "a7f4UzW9JXrI"
      }
    },
    {
      "cell_type": "code",
      "source": [
        "# Import necessary libraries and load the dataset\n",
        "import pandas as pd\n",
        "import matplotlib.pyplot as plt\n",
        "import seaborn as sns"
      ],
      "metadata": {
        "id": "Df3d9S1zKMTi"
      },
      "execution_count": 208,
      "outputs": []
    },
    {
      "cell_type": "code",
      "source": [
        "# Load the dataset into dataframe called employee_df\n",
        "employee_df = pd.read_csv('/content/employee_performance.csv')"
      ],
      "metadata": {
        "id": "ft5si-WZKMJ5"
      },
      "execution_count": 209,
      "outputs": []
    },
    {
      "cell_type": "code",
      "source": [
        "# Display the first few rows of the dataset\n",
        "employee_df.head()"
      ],
      "metadata": {
        "id": "P5JeMduSKL71",
        "colab": {
          "base_uri": "https://localhost:8080/",
          "height": 243
        },
        "outputId": "6c589037-4bf4-4ac1-e86b-78c74a4cae5f"
      },
      "execution_count": 210,
      "outputs": [
        {
          "output_type": "execute_result",
          "data": {
            "text/plain": [
              "   Employee_ID  Age  Education_Level  Years_of_Experience  \\\n",
              "0            1   22                2                   10   \n",
              "1            2   25                4                   14   \n",
              "2            3   25                3                   15   \n",
              "3            4   61                4                    9   \n",
              "4            5   31                5                   18   \n",
              "\n",
              "   Work_Hours_per_Week  Salary  Performance_Rating       Department  \n",
              "0                   46   73000                 2.0            Sales  \n",
              "1                   49   83000                 3.4          Finance  \n",
              "2                   40   84000                 3.0          Finance  \n",
              "3                   41  111500                 2.9        Marketing  \n",
              "4                   38   95500                 4.3  Human Resources  "
            ],
            "text/html": [
              "\n",
              "  <div id=\"df-e3d044b2-a553-4d1f-bee1-5895a98d8308\" class=\"colab-df-container\">\n",
              "    <div>\n",
              "<style scoped>\n",
              "    .dataframe tbody tr th:only-of-type {\n",
              "        vertical-align: middle;\n",
              "    }\n",
              "\n",
              "    .dataframe tbody tr th {\n",
              "        vertical-align: top;\n",
              "    }\n",
              "\n",
              "    .dataframe thead th {\n",
              "        text-align: right;\n",
              "    }\n",
              "</style>\n",
              "<table border=\"1\" class=\"dataframe\">\n",
              "  <thead>\n",
              "    <tr style=\"text-align: right;\">\n",
              "      <th></th>\n",
              "      <th>Employee_ID</th>\n",
              "      <th>Age</th>\n",
              "      <th>Education_Level</th>\n",
              "      <th>Years_of_Experience</th>\n",
              "      <th>Work_Hours_per_Week</th>\n",
              "      <th>Salary</th>\n",
              "      <th>Performance_Rating</th>\n",
              "      <th>Department</th>\n",
              "    </tr>\n",
              "  </thead>\n",
              "  <tbody>\n",
              "    <tr>\n",
              "      <th>0</th>\n",
              "      <td>1</td>\n",
              "      <td>22</td>\n",
              "      <td>2</td>\n",
              "      <td>10</td>\n",
              "      <td>46</td>\n",
              "      <td>73000</td>\n",
              "      <td>2.0</td>\n",
              "      <td>Sales</td>\n",
              "    </tr>\n",
              "    <tr>\n",
              "      <th>1</th>\n",
              "      <td>2</td>\n",
              "      <td>25</td>\n",
              "      <td>4</td>\n",
              "      <td>14</td>\n",
              "      <td>49</td>\n",
              "      <td>83000</td>\n",
              "      <td>3.4</td>\n",
              "      <td>Finance</td>\n",
              "    </tr>\n",
              "    <tr>\n",
              "      <th>2</th>\n",
              "      <td>3</td>\n",
              "      <td>25</td>\n",
              "      <td>3</td>\n",
              "      <td>15</td>\n",
              "      <td>40</td>\n",
              "      <td>84000</td>\n",
              "      <td>3.0</td>\n",
              "      <td>Finance</td>\n",
              "    </tr>\n",
              "    <tr>\n",
              "      <th>3</th>\n",
              "      <td>4</td>\n",
              "      <td>61</td>\n",
              "      <td>4</td>\n",
              "      <td>9</td>\n",
              "      <td>41</td>\n",
              "      <td>111500</td>\n",
              "      <td>2.9</td>\n",
              "      <td>Marketing</td>\n",
              "    </tr>\n",
              "    <tr>\n",
              "      <th>4</th>\n",
              "      <td>5</td>\n",
              "      <td>31</td>\n",
              "      <td>5</td>\n",
              "      <td>18</td>\n",
              "      <td>38</td>\n",
              "      <td>95500</td>\n",
              "      <td>4.3</td>\n",
              "      <td>Human Resources</td>\n",
              "    </tr>\n",
              "  </tbody>\n",
              "</table>\n",
              "</div>\n",
              "    <div class=\"colab-df-buttons\">\n",
              "\n",
              "  <div class=\"colab-df-container\">\n",
              "    <button class=\"colab-df-convert\" onclick=\"convertToInteractive('df-e3d044b2-a553-4d1f-bee1-5895a98d8308')\"\n",
              "            title=\"Convert this dataframe to an interactive table.\"\n",
              "            style=\"display:none;\">\n",
              "\n",
              "  <svg xmlns=\"http://www.w3.org/2000/svg\" height=\"24px\" viewBox=\"0 -960 960 960\">\n",
              "    <path d=\"M120-120v-720h720v720H120Zm60-500h600v-160H180v160Zm220 220h160v-160H400v160Zm0 220h160v-160H400v160ZM180-400h160v-160H180v160Zm440 0h160v-160H620v160ZM180-180h160v-160H180v160Zm440 0h160v-160H620v160Z\"/>\n",
              "  </svg>\n",
              "    </button>\n",
              "\n",
              "  <style>\n",
              "    .colab-df-container {\n",
              "      display:flex;\n",
              "      gap: 12px;\n",
              "    }\n",
              "\n",
              "    .colab-df-convert {\n",
              "      background-color: #E8F0FE;\n",
              "      border: none;\n",
              "      border-radius: 50%;\n",
              "      cursor: pointer;\n",
              "      display: none;\n",
              "      fill: #1967D2;\n",
              "      height: 32px;\n",
              "      padding: 0 0 0 0;\n",
              "      width: 32px;\n",
              "    }\n",
              "\n",
              "    .colab-df-convert:hover {\n",
              "      background-color: #E2EBFA;\n",
              "      box-shadow: 0px 1px 2px rgba(60, 64, 67, 0.3), 0px 1px 3px 1px rgba(60, 64, 67, 0.15);\n",
              "      fill: #174EA6;\n",
              "    }\n",
              "\n",
              "    .colab-df-buttons div {\n",
              "      margin-bottom: 4px;\n",
              "    }\n",
              "\n",
              "    [theme=dark] .colab-df-convert {\n",
              "      background-color: #3B4455;\n",
              "      fill: #D2E3FC;\n",
              "    }\n",
              "\n",
              "    [theme=dark] .colab-df-convert:hover {\n",
              "      background-color: #434B5C;\n",
              "      box-shadow: 0px 1px 3px 1px rgba(0, 0, 0, 0.15);\n",
              "      filter: drop-shadow(0px 1px 2px rgba(0, 0, 0, 0.3));\n",
              "      fill: #FFFFFF;\n",
              "    }\n",
              "  </style>\n",
              "\n",
              "    <script>\n",
              "      const buttonEl =\n",
              "        document.querySelector('#df-e3d044b2-a553-4d1f-bee1-5895a98d8308 button.colab-df-convert');\n",
              "      buttonEl.style.display =\n",
              "        google.colab.kernel.accessAllowed ? 'block' : 'none';\n",
              "\n",
              "      async function convertToInteractive(key) {\n",
              "        const element = document.querySelector('#df-e3d044b2-a553-4d1f-bee1-5895a98d8308');\n",
              "        const dataTable =\n",
              "          await google.colab.kernel.invokeFunction('convertToInteractive',\n",
              "                                                    [key], {});\n",
              "        if (!dataTable) return;\n",
              "\n",
              "        const docLinkHtml = 'Like what you see? Visit the ' +\n",
              "          '<a target=\"_blank\" href=https://colab.research.google.com/notebooks/data_table.ipynb>data table notebook</a>'\n",
              "          + ' to learn more about interactive tables.';\n",
              "        element.innerHTML = '';\n",
              "        dataTable['output_type'] = 'display_data';\n",
              "        await google.colab.output.renderOutput(dataTable, element);\n",
              "        const docLink = document.createElement('div');\n",
              "        docLink.innerHTML = docLinkHtml;\n",
              "        element.appendChild(docLink);\n",
              "      }\n",
              "    </script>\n",
              "  </div>\n",
              "\n",
              "\n",
              "<div id=\"df-f0fecd03-aa83-4442-ba48-73949d26ad5a\">\n",
              "  <button class=\"colab-df-quickchart\" onclick=\"quickchart('df-f0fecd03-aa83-4442-ba48-73949d26ad5a')\"\n",
              "            title=\"Suggest charts\"\n",
              "            style=\"display:none;\">\n",
              "\n",
              "<svg xmlns=\"http://www.w3.org/2000/svg\" height=\"24px\"viewBox=\"0 0 24 24\"\n",
              "     width=\"24px\">\n",
              "    <g>\n",
              "        <path d=\"M19 3H5c-1.1 0-2 .9-2 2v14c0 1.1.9 2 2 2h14c1.1 0 2-.9 2-2V5c0-1.1-.9-2-2-2zM9 17H7v-7h2v7zm4 0h-2V7h2v10zm4 0h-2v-4h2v4z\"/>\n",
              "    </g>\n",
              "</svg>\n",
              "  </button>\n",
              "\n",
              "<style>\n",
              "  .colab-df-quickchart {\n",
              "      --bg-color: #E8F0FE;\n",
              "      --fill-color: #1967D2;\n",
              "      --hover-bg-color: #E2EBFA;\n",
              "      --hover-fill-color: #174EA6;\n",
              "      --disabled-fill-color: #AAA;\n",
              "      --disabled-bg-color: #DDD;\n",
              "  }\n",
              "\n",
              "  [theme=dark] .colab-df-quickchart {\n",
              "      --bg-color: #3B4455;\n",
              "      --fill-color: #D2E3FC;\n",
              "      --hover-bg-color: #434B5C;\n",
              "      --hover-fill-color: #FFFFFF;\n",
              "      --disabled-bg-color: #3B4455;\n",
              "      --disabled-fill-color: #666;\n",
              "  }\n",
              "\n",
              "  .colab-df-quickchart {\n",
              "    background-color: var(--bg-color);\n",
              "    border: none;\n",
              "    border-radius: 50%;\n",
              "    cursor: pointer;\n",
              "    display: none;\n",
              "    fill: var(--fill-color);\n",
              "    height: 32px;\n",
              "    padding: 0;\n",
              "    width: 32px;\n",
              "  }\n",
              "\n",
              "  .colab-df-quickchart:hover {\n",
              "    background-color: var(--hover-bg-color);\n",
              "    box-shadow: 0 1px 2px rgba(60, 64, 67, 0.3), 0 1px 3px 1px rgba(60, 64, 67, 0.15);\n",
              "    fill: var(--button-hover-fill-color);\n",
              "  }\n",
              "\n",
              "  .colab-df-quickchart-complete:disabled,\n",
              "  .colab-df-quickchart-complete:disabled:hover {\n",
              "    background-color: var(--disabled-bg-color);\n",
              "    fill: var(--disabled-fill-color);\n",
              "    box-shadow: none;\n",
              "  }\n",
              "\n",
              "  .colab-df-spinner {\n",
              "    border: 2px solid var(--fill-color);\n",
              "    border-color: transparent;\n",
              "    border-bottom-color: var(--fill-color);\n",
              "    animation:\n",
              "      spin 1s steps(1) infinite;\n",
              "  }\n",
              "\n",
              "  @keyframes spin {\n",
              "    0% {\n",
              "      border-color: transparent;\n",
              "      border-bottom-color: var(--fill-color);\n",
              "      border-left-color: var(--fill-color);\n",
              "    }\n",
              "    20% {\n",
              "      border-color: transparent;\n",
              "      border-left-color: var(--fill-color);\n",
              "      border-top-color: var(--fill-color);\n",
              "    }\n",
              "    30% {\n",
              "      border-color: transparent;\n",
              "      border-left-color: var(--fill-color);\n",
              "      border-top-color: var(--fill-color);\n",
              "      border-right-color: var(--fill-color);\n",
              "    }\n",
              "    40% {\n",
              "      border-color: transparent;\n",
              "      border-right-color: var(--fill-color);\n",
              "      border-top-color: var(--fill-color);\n",
              "    }\n",
              "    60% {\n",
              "      border-color: transparent;\n",
              "      border-right-color: var(--fill-color);\n",
              "    }\n",
              "    80% {\n",
              "      border-color: transparent;\n",
              "      border-right-color: var(--fill-color);\n",
              "      border-bottom-color: var(--fill-color);\n",
              "    }\n",
              "    90% {\n",
              "      border-color: transparent;\n",
              "      border-bottom-color: var(--fill-color);\n",
              "    }\n",
              "  }\n",
              "</style>\n",
              "\n",
              "  <script>\n",
              "    async function quickchart(key) {\n",
              "      const quickchartButtonEl =\n",
              "        document.querySelector('#' + key + ' button');\n",
              "      quickchartButtonEl.disabled = true;  // To prevent multiple clicks.\n",
              "      quickchartButtonEl.classList.add('colab-df-spinner');\n",
              "      try {\n",
              "        const charts = await google.colab.kernel.invokeFunction(\n",
              "            'suggestCharts', [key], {});\n",
              "      } catch (error) {\n",
              "        console.error('Error during call to suggestCharts:', error);\n",
              "      }\n",
              "      quickchartButtonEl.classList.remove('colab-df-spinner');\n",
              "      quickchartButtonEl.classList.add('colab-df-quickchart-complete');\n",
              "    }\n",
              "    (() => {\n",
              "      let quickchartButtonEl =\n",
              "        document.querySelector('#df-f0fecd03-aa83-4442-ba48-73949d26ad5a button');\n",
              "      quickchartButtonEl.style.display =\n",
              "        google.colab.kernel.accessAllowed ? 'block' : 'none';\n",
              "    })();\n",
              "  </script>\n",
              "</div>\n",
              "\n",
              "    </div>\n",
              "  </div>\n"
            ],
            "application/vnd.google.colaboratory.intrinsic+json": {
              "type": "dataframe",
              "variable_name": "employee_df",
              "summary": "{\n  \"name\": \"employee_df\",\n  \"rows\": 200,\n  \"fields\": [\n    {\n      \"column\": \"Employee_ID\",\n      \"properties\": {\n        \"dtype\": \"number\",\n        \"std\": 57,\n        \"min\": 1,\n        \"max\": 200,\n        \"num_unique_values\": 200,\n        \"samples\": [\n          96,\n          16,\n          31\n        ],\n        \"semantic_type\": \"\",\n        \"description\": \"\"\n      }\n    },\n    {\n      \"column\": \"Age\",\n      \"properties\": {\n        \"dtype\": \"number\",\n        \"std\": 12,\n        \"min\": 22,\n        \"max\": 61,\n        \"num_unique_values\": 40,\n        \"samples\": [\n          38,\n          35,\n          47\n        ],\n        \"semantic_type\": \"\",\n        \"description\": \"\"\n      }\n    },\n    {\n      \"column\": \"Education_Level\",\n      \"properties\": {\n        \"dtype\": \"number\",\n        \"std\": 1,\n        \"min\": 2,\n        \"max\": 5,\n        \"num_unique_values\": 4,\n        \"samples\": [\n          4,\n          5,\n          2\n        ],\n        \"semantic_type\": \"\",\n        \"description\": \"\"\n      }\n    },\n    {\n      \"column\": \"Years_of_Experience\",\n      \"properties\": {\n        \"dtype\": \"number\",\n        \"std\": 4,\n        \"min\": -1,\n        \"max\": 20,\n        \"num_unique_values\": 22,\n        \"samples\": [\n          10,\n          4,\n          13\n        ],\n        \"semantic_type\": \"\",\n        \"description\": \"\"\n      }\n    },\n    {\n      \"column\": \"Work_Hours_per_Week\",\n      \"properties\": {\n        \"dtype\": \"number\",\n        \"std\": 4,\n        \"min\": 35,\n        \"max\": 49,\n        \"num_unique_values\": 15,\n        \"samples\": [\n          35,\n          37,\n          46\n        ],\n        \"semantic_type\": \"\",\n        \"description\": \"\"\n      }\n    },\n    {\n      \"column\": \"Salary\",\n      \"properties\": {\n        \"dtype\": \"number\",\n        \"std\": 13562,\n        \"min\": 58500,\n        \"max\": 119000,\n        \"num_unique_values\": 94,\n        \"samples\": [\n          78000,\n          91000,\n          87000\n        ],\n        \"semantic_type\": \"\",\n        \"description\": \"\"\n      }\n    },\n    {\n      \"column\": \"Performance_Rating\",\n      \"properties\": {\n        \"dtype\": \"number\",\n        \"std\": 0.7050141664352365,\n        \"min\": 0.9,\n        \"max\": 4.3,\n        \"num_unique_values\": 34,\n        \"samples\": [\n          2.4,\n          3.6,\n          1.1\n        ],\n        \"semantic_type\": \"\",\n        \"description\": \"\"\n      }\n    },\n    {\n      \"column\": \"Department\",\n      \"properties\": {\n        \"dtype\": \"category\",\n        \"num_unique_values\": 5,\n        \"samples\": [\n          \"Finance\",\n          \"Engineering\",\n          \"Marketing\"\n        ],\n        \"semantic_type\": \"\",\n        \"description\": \"\"\n      }\n    }\n  ]\n}"
            }
          },
          "metadata": {},
          "execution_count": 210
        }
      ]
    },
    {
      "cell_type": "code",
      "source": [
        "# Get information about the dataset, including data types and missing values\n",
        "employee_df.info()"
      ],
      "metadata": {
        "id": "ftzkNc5nLOmE",
        "colab": {
          "base_uri": "https://localhost:8080/"
        },
        "outputId": "2b542f3e-9f20-4a02-8706-9f2fdab2bf1f"
      },
      "execution_count": 211,
      "outputs": [
        {
          "output_type": "stream",
          "name": "stdout",
          "text": [
            "<class 'pandas.core.frame.DataFrame'>\n",
            "RangeIndex: 200 entries, 0 to 199\n",
            "Data columns (total 8 columns):\n",
            " #   Column               Non-Null Count  Dtype  \n",
            "---  ------               --------------  -----  \n",
            " 0   Employee_ID          200 non-null    int64  \n",
            " 1   Age                  200 non-null    int64  \n",
            " 2   Education_Level      200 non-null    int64  \n",
            " 3   Years_of_Experience  200 non-null    int64  \n",
            " 4   Work_Hours_per_Week  200 non-null    int64  \n",
            " 5   Salary               200 non-null    int64  \n",
            " 6   Performance_Rating   200 non-null    float64\n",
            " 7   Department           200 non-null    object \n",
            "dtypes: float64(1), int64(6), object(1)\n",
            "memory usage: 12.6+ KB\n"
          ]
        }
      ]
    },
    {
      "cell_type": "code",
      "source": [
        "employee_df.columns"
      ],
      "metadata": {
        "colab": {
          "base_uri": "https://localhost:8080/"
        },
        "id": "RqKZz8H9JGqm",
        "outputId": "e3c1058e-af2e-4646-f6e6-0fa453f767ea"
      },
      "execution_count": 212,
      "outputs": [
        {
          "output_type": "execute_result",
          "data": {
            "text/plain": [
              "Index(['Employee_ID', 'Age', 'Education_Level', 'Years_of_Experience',\n",
              "       'Work_Hours_per_Week', 'Salary', 'Performance_Rating', 'Department'],\n",
              "      dtype='object')"
            ]
          },
          "metadata": {},
          "execution_count": 212
        }
      ]
    },
    {
      "cell_type": "code",
      "source": [
        "employee_df.describe()"
      ],
      "metadata": {
        "colab": {
          "base_uri": "https://localhost:8080/",
          "height": 320
        },
        "id": "0hMUiySbGdkX",
        "outputId": "978e0756-daff-4de7-ca75-6f3240bb87e6"
      },
      "execution_count": 213,
      "outputs": [
        {
          "output_type": "execute_result",
          "data": {
            "text/plain": [
              "       Employee_ID         Age  Education_Level  Years_of_Experience  \\\n",
              "count   200.000000  200.000000       200.000000           200.000000   \n",
              "mean    100.500000   40.970000         3.395000             9.120000   \n",
              "std      57.879185   12.050526         1.006998             4.932265   \n",
              "min       1.000000   22.000000         2.000000            -1.000000   \n",
              "25%      50.750000   31.000000         3.000000             5.750000   \n",
              "50%     100.500000   41.000000         3.000000             9.000000   \n",
              "75%     150.250000   52.000000         4.000000            13.000000   \n",
              "max     200.000000   61.000000         5.000000            20.000000   \n",
              "\n",
              "       Work_Hours_per_Week         Salary  Performance_Rating  \n",
              "count           200.000000     200.000000          200.000000  \n",
              "mean             41.710000   91347.500000            2.609500  \n",
              "std               4.125652   13562.640593            0.705014  \n",
              "min              35.000000   58500.000000            0.900000  \n",
              "25%              38.000000   81500.000000            2.000000  \n",
              "50%              41.500000   91250.000000            2.500000  \n",
              "75%              45.000000  102000.000000            3.100000  \n",
              "max              49.000000  119000.000000            4.300000  "
            ],
            "text/html": [
              "\n",
              "  <div id=\"df-08c79bd1-cace-4964-9448-2493dc29c30e\" class=\"colab-df-container\">\n",
              "    <div>\n",
              "<style scoped>\n",
              "    .dataframe tbody tr th:only-of-type {\n",
              "        vertical-align: middle;\n",
              "    }\n",
              "\n",
              "    .dataframe tbody tr th {\n",
              "        vertical-align: top;\n",
              "    }\n",
              "\n",
              "    .dataframe thead th {\n",
              "        text-align: right;\n",
              "    }\n",
              "</style>\n",
              "<table border=\"1\" class=\"dataframe\">\n",
              "  <thead>\n",
              "    <tr style=\"text-align: right;\">\n",
              "      <th></th>\n",
              "      <th>Employee_ID</th>\n",
              "      <th>Age</th>\n",
              "      <th>Education_Level</th>\n",
              "      <th>Years_of_Experience</th>\n",
              "      <th>Work_Hours_per_Week</th>\n",
              "      <th>Salary</th>\n",
              "      <th>Performance_Rating</th>\n",
              "    </tr>\n",
              "  </thead>\n",
              "  <tbody>\n",
              "    <tr>\n",
              "      <th>count</th>\n",
              "      <td>200.000000</td>\n",
              "      <td>200.000000</td>\n",
              "      <td>200.000000</td>\n",
              "      <td>200.000000</td>\n",
              "      <td>200.000000</td>\n",
              "      <td>200.000000</td>\n",
              "      <td>200.000000</td>\n",
              "    </tr>\n",
              "    <tr>\n",
              "      <th>mean</th>\n",
              "      <td>100.500000</td>\n",
              "      <td>40.970000</td>\n",
              "      <td>3.395000</td>\n",
              "      <td>9.120000</td>\n",
              "      <td>41.710000</td>\n",
              "      <td>91347.500000</td>\n",
              "      <td>2.609500</td>\n",
              "    </tr>\n",
              "    <tr>\n",
              "      <th>std</th>\n",
              "      <td>57.879185</td>\n",
              "      <td>12.050526</td>\n",
              "      <td>1.006998</td>\n",
              "      <td>4.932265</td>\n",
              "      <td>4.125652</td>\n",
              "      <td>13562.640593</td>\n",
              "      <td>0.705014</td>\n",
              "    </tr>\n",
              "    <tr>\n",
              "      <th>min</th>\n",
              "      <td>1.000000</td>\n",
              "      <td>22.000000</td>\n",
              "      <td>2.000000</td>\n",
              "      <td>-1.000000</td>\n",
              "      <td>35.000000</td>\n",
              "      <td>58500.000000</td>\n",
              "      <td>0.900000</td>\n",
              "    </tr>\n",
              "    <tr>\n",
              "      <th>25%</th>\n",
              "      <td>50.750000</td>\n",
              "      <td>31.000000</td>\n",
              "      <td>3.000000</td>\n",
              "      <td>5.750000</td>\n",
              "      <td>38.000000</td>\n",
              "      <td>81500.000000</td>\n",
              "      <td>2.000000</td>\n",
              "    </tr>\n",
              "    <tr>\n",
              "      <th>50%</th>\n",
              "      <td>100.500000</td>\n",
              "      <td>41.000000</td>\n",
              "      <td>3.000000</td>\n",
              "      <td>9.000000</td>\n",
              "      <td>41.500000</td>\n",
              "      <td>91250.000000</td>\n",
              "      <td>2.500000</td>\n",
              "    </tr>\n",
              "    <tr>\n",
              "      <th>75%</th>\n",
              "      <td>150.250000</td>\n",
              "      <td>52.000000</td>\n",
              "      <td>4.000000</td>\n",
              "      <td>13.000000</td>\n",
              "      <td>45.000000</td>\n",
              "      <td>102000.000000</td>\n",
              "      <td>3.100000</td>\n",
              "    </tr>\n",
              "    <tr>\n",
              "      <th>max</th>\n",
              "      <td>200.000000</td>\n",
              "      <td>61.000000</td>\n",
              "      <td>5.000000</td>\n",
              "      <td>20.000000</td>\n",
              "      <td>49.000000</td>\n",
              "      <td>119000.000000</td>\n",
              "      <td>4.300000</td>\n",
              "    </tr>\n",
              "  </tbody>\n",
              "</table>\n",
              "</div>\n",
              "    <div class=\"colab-df-buttons\">\n",
              "\n",
              "  <div class=\"colab-df-container\">\n",
              "    <button class=\"colab-df-convert\" onclick=\"convertToInteractive('df-08c79bd1-cace-4964-9448-2493dc29c30e')\"\n",
              "            title=\"Convert this dataframe to an interactive table.\"\n",
              "            style=\"display:none;\">\n",
              "\n",
              "  <svg xmlns=\"http://www.w3.org/2000/svg\" height=\"24px\" viewBox=\"0 -960 960 960\">\n",
              "    <path d=\"M120-120v-720h720v720H120Zm60-500h600v-160H180v160Zm220 220h160v-160H400v160Zm0 220h160v-160H400v160ZM180-400h160v-160H180v160Zm440 0h160v-160H620v160ZM180-180h160v-160H180v160Zm440 0h160v-160H620v160Z\"/>\n",
              "  </svg>\n",
              "    </button>\n",
              "\n",
              "  <style>\n",
              "    .colab-df-container {\n",
              "      display:flex;\n",
              "      gap: 12px;\n",
              "    }\n",
              "\n",
              "    .colab-df-convert {\n",
              "      background-color: #E8F0FE;\n",
              "      border: none;\n",
              "      border-radius: 50%;\n",
              "      cursor: pointer;\n",
              "      display: none;\n",
              "      fill: #1967D2;\n",
              "      height: 32px;\n",
              "      padding: 0 0 0 0;\n",
              "      width: 32px;\n",
              "    }\n",
              "\n",
              "    .colab-df-convert:hover {\n",
              "      background-color: #E2EBFA;\n",
              "      box-shadow: 0px 1px 2px rgba(60, 64, 67, 0.3), 0px 1px 3px 1px rgba(60, 64, 67, 0.15);\n",
              "      fill: #174EA6;\n",
              "    }\n",
              "\n",
              "    .colab-df-buttons div {\n",
              "      margin-bottom: 4px;\n",
              "    }\n",
              "\n",
              "    [theme=dark] .colab-df-convert {\n",
              "      background-color: #3B4455;\n",
              "      fill: #D2E3FC;\n",
              "    }\n",
              "\n",
              "    [theme=dark] .colab-df-convert:hover {\n",
              "      background-color: #434B5C;\n",
              "      box-shadow: 0px 1px 3px 1px rgba(0, 0, 0, 0.15);\n",
              "      filter: drop-shadow(0px 1px 2px rgba(0, 0, 0, 0.3));\n",
              "      fill: #FFFFFF;\n",
              "    }\n",
              "  </style>\n",
              "\n",
              "    <script>\n",
              "      const buttonEl =\n",
              "        document.querySelector('#df-08c79bd1-cace-4964-9448-2493dc29c30e button.colab-df-convert');\n",
              "      buttonEl.style.display =\n",
              "        google.colab.kernel.accessAllowed ? 'block' : 'none';\n",
              "\n",
              "      async function convertToInteractive(key) {\n",
              "        const element = document.querySelector('#df-08c79bd1-cace-4964-9448-2493dc29c30e');\n",
              "        const dataTable =\n",
              "          await google.colab.kernel.invokeFunction('convertToInteractive',\n",
              "                                                    [key], {});\n",
              "        if (!dataTable) return;\n",
              "\n",
              "        const docLinkHtml = 'Like what you see? Visit the ' +\n",
              "          '<a target=\"_blank\" href=https://colab.research.google.com/notebooks/data_table.ipynb>data table notebook</a>'\n",
              "          + ' to learn more about interactive tables.';\n",
              "        element.innerHTML = '';\n",
              "        dataTable['output_type'] = 'display_data';\n",
              "        await google.colab.output.renderOutput(dataTable, element);\n",
              "        const docLink = document.createElement('div');\n",
              "        docLink.innerHTML = docLinkHtml;\n",
              "        element.appendChild(docLink);\n",
              "      }\n",
              "    </script>\n",
              "  </div>\n",
              "\n",
              "\n",
              "<div id=\"df-1fc3baee-1b84-463c-bb67-c1237117aebe\">\n",
              "  <button class=\"colab-df-quickchart\" onclick=\"quickchart('df-1fc3baee-1b84-463c-bb67-c1237117aebe')\"\n",
              "            title=\"Suggest charts\"\n",
              "            style=\"display:none;\">\n",
              "\n",
              "<svg xmlns=\"http://www.w3.org/2000/svg\" height=\"24px\"viewBox=\"0 0 24 24\"\n",
              "     width=\"24px\">\n",
              "    <g>\n",
              "        <path d=\"M19 3H5c-1.1 0-2 .9-2 2v14c0 1.1.9 2 2 2h14c1.1 0 2-.9 2-2V5c0-1.1-.9-2-2-2zM9 17H7v-7h2v7zm4 0h-2V7h2v10zm4 0h-2v-4h2v4z\"/>\n",
              "    </g>\n",
              "</svg>\n",
              "  </button>\n",
              "\n",
              "<style>\n",
              "  .colab-df-quickchart {\n",
              "      --bg-color: #E8F0FE;\n",
              "      --fill-color: #1967D2;\n",
              "      --hover-bg-color: #E2EBFA;\n",
              "      --hover-fill-color: #174EA6;\n",
              "      --disabled-fill-color: #AAA;\n",
              "      --disabled-bg-color: #DDD;\n",
              "  }\n",
              "\n",
              "  [theme=dark] .colab-df-quickchart {\n",
              "      --bg-color: #3B4455;\n",
              "      --fill-color: #D2E3FC;\n",
              "      --hover-bg-color: #434B5C;\n",
              "      --hover-fill-color: #FFFFFF;\n",
              "      --disabled-bg-color: #3B4455;\n",
              "      --disabled-fill-color: #666;\n",
              "  }\n",
              "\n",
              "  .colab-df-quickchart {\n",
              "    background-color: var(--bg-color);\n",
              "    border: none;\n",
              "    border-radius: 50%;\n",
              "    cursor: pointer;\n",
              "    display: none;\n",
              "    fill: var(--fill-color);\n",
              "    height: 32px;\n",
              "    padding: 0;\n",
              "    width: 32px;\n",
              "  }\n",
              "\n",
              "  .colab-df-quickchart:hover {\n",
              "    background-color: var(--hover-bg-color);\n",
              "    box-shadow: 0 1px 2px rgba(60, 64, 67, 0.3), 0 1px 3px 1px rgba(60, 64, 67, 0.15);\n",
              "    fill: var(--button-hover-fill-color);\n",
              "  }\n",
              "\n",
              "  .colab-df-quickchart-complete:disabled,\n",
              "  .colab-df-quickchart-complete:disabled:hover {\n",
              "    background-color: var(--disabled-bg-color);\n",
              "    fill: var(--disabled-fill-color);\n",
              "    box-shadow: none;\n",
              "  }\n",
              "\n",
              "  .colab-df-spinner {\n",
              "    border: 2px solid var(--fill-color);\n",
              "    border-color: transparent;\n",
              "    border-bottom-color: var(--fill-color);\n",
              "    animation:\n",
              "      spin 1s steps(1) infinite;\n",
              "  }\n",
              "\n",
              "  @keyframes spin {\n",
              "    0% {\n",
              "      border-color: transparent;\n",
              "      border-bottom-color: var(--fill-color);\n",
              "      border-left-color: var(--fill-color);\n",
              "    }\n",
              "    20% {\n",
              "      border-color: transparent;\n",
              "      border-left-color: var(--fill-color);\n",
              "      border-top-color: var(--fill-color);\n",
              "    }\n",
              "    30% {\n",
              "      border-color: transparent;\n",
              "      border-left-color: var(--fill-color);\n",
              "      border-top-color: var(--fill-color);\n",
              "      border-right-color: var(--fill-color);\n",
              "    }\n",
              "    40% {\n",
              "      border-color: transparent;\n",
              "      border-right-color: var(--fill-color);\n",
              "      border-top-color: var(--fill-color);\n",
              "    }\n",
              "    60% {\n",
              "      border-color: transparent;\n",
              "      border-right-color: var(--fill-color);\n",
              "    }\n",
              "    80% {\n",
              "      border-color: transparent;\n",
              "      border-right-color: var(--fill-color);\n",
              "      border-bottom-color: var(--fill-color);\n",
              "    }\n",
              "    90% {\n",
              "      border-color: transparent;\n",
              "      border-bottom-color: var(--fill-color);\n",
              "    }\n",
              "  }\n",
              "</style>\n",
              "\n",
              "  <script>\n",
              "    async function quickchart(key) {\n",
              "      const quickchartButtonEl =\n",
              "        document.querySelector('#' + key + ' button');\n",
              "      quickchartButtonEl.disabled = true;  // To prevent multiple clicks.\n",
              "      quickchartButtonEl.classList.add('colab-df-spinner');\n",
              "      try {\n",
              "        const charts = await google.colab.kernel.invokeFunction(\n",
              "            'suggestCharts', [key], {});\n",
              "      } catch (error) {\n",
              "        console.error('Error during call to suggestCharts:', error);\n",
              "      }\n",
              "      quickchartButtonEl.classList.remove('colab-df-spinner');\n",
              "      quickchartButtonEl.classList.add('colab-df-quickchart-complete');\n",
              "    }\n",
              "    (() => {\n",
              "      let quickchartButtonEl =\n",
              "        document.querySelector('#df-1fc3baee-1b84-463c-bb67-c1237117aebe button');\n",
              "      quickchartButtonEl.style.display =\n",
              "        google.colab.kernel.accessAllowed ? 'block' : 'none';\n",
              "    })();\n",
              "  </script>\n",
              "</div>\n",
              "\n",
              "    </div>\n",
              "  </div>\n"
            ],
            "application/vnd.google.colaboratory.intrinsic+json": {
              "type": "dataframe",
              "summary": "{\n  \"name\": \"employee_df\",\n  \"rows\": 8,\n  \"fields\": [\n    {\n      \"column\": \"Employee_ID\",\n      \"properties\": {\n        \"dtype\": \"number\",\n        \"std\": 71.77644232399086,\n        \"min\": 1.0,\n        \"max\": 200.0,\n        \"num_unique_values\": 6,\n        \"samples\": [\n          200.0,\n          100.5,\n          150.25\n        ],\n        \"semantic_type\": \"\",\n        \"description\": \"\"\n      }\n    },\n    {\n      \"column\": \"Age\",\n      \"properties\": {\n        \"dtype\": \"number\",\n        \"std\": 59.668603299478335,\n        \"min\": 12.050525958620929,\n        \"max\": 200.0,\n        \"num_unique_values\": 8,\n        \"samples\": [\n          40.97,\n          41.0,\n          200.0\n        ],\n        \"semantic_type\": \"\",\n        \"description\": \"\"\n      }\n    },\n    {\n      \"column\": \"Education_Level\",\n      \"properties\": {\n        \"dtype\": \"number\",\n        \"std\": 69.64007925801982,\n        \"min\": 1.0069981261803085,\n        \"max\": 200.0,\n        \"num_unique_values\": 7,\n        \"samples\": [\n          200.0,\n          3.395,\n          4.0\n        ],\n        \"semantic_type\": \"\",\n        \"description\": \"\"\n      }\n    },\n    {\n      \"column\": \"Years_of_Experience\",\n      \"properties\": {\n        \"dtype\": \"number\",\n        \"std\": 67.91731997674282,\n        \"min\": -1.0,\n        \"max\": 200.0,\n        \"num_unique_values\": 8,\n        \"samples\": [\n          9.12,\n          9.0,\n          200.0\n        ],\n        \"semantic_type\": \"\",\n        \"description\": \"\"\n      }\n    },\n    {\n      \"column\": \"Work_Hours_per_Week\",\n      \"properties\": {\n        \"dtype\": \"number\",\n        \"std\": 59.487555135485934,\n        \"min\": 4.125652072718402,\n        \"max\": 200.0,\n        \"num_unique_values\": 8,\n        \"samples\": [\n          41.71,\n          41.5,\n          200.0\n        ],\n        \"semantic_type\": \"\",\n        \"description\": \"\"\n      }\n    },\n    {\n      \"column\": \"Salary\",\n      \"properties\": {\n        \"dtype\": \"number\",\n        \"std\": 42515.74949507729,\n        \"min\": 200.0,\n        \"max\": 119000.0,\n        \"num_unique_values\": 8,\n        \"samples\": [\n          91347.5,\n          91250.0,\n          200.0\n        ],\n        \"semantic_type\": \"\",\n        \"description\": \"\"\n      }\n    },\n    {\n      \"column\": \"Performance_Rating\",\n      \"properties\": {\n        \"dtype\": \"number\",\n        \"std\": 69.90634666777973,\n        \"min\": 0.7050141664352365,\n        \"max\": 200.0,\n        \"num_unique_values\": 8,\n        \"samples\": [\n          2.6094999999999997,\n          2.5,\n          200.0\n        ],\n        \"semantic_type\": \"\",\n        \"description\": \"\"\n      }\n    }\n  ]\n}"
            }
          },
          "metadata": {},
          "execution_count": 213
        }
      ]
    },
    {
      "cell_type": "code",
      "source": [
        "employee_df.isnull().sum()"
      ],
      "metadata": {
        "colab": {
          "base_uri": "https://localhost:8080/",
          "height": 335
        },
        "id": "xcFwOaH1Gfoe",
        "outputId": "d4d5f5a9-6328-4aee-92b9-e367ec24e9a5"
      },
      "execution_count": 214,
      "outputs": [
        {
          "output_type": "execute_result",
          "data": {
            "text/plain": [
              "Employee_ID            0\n",
              "Age                    0\n",
              "Education_Level        0\n",
              "Years_of_Experience    0\n",
              "Work_Hours_per_Week    0\n",
              "Salary                 0\n",
              "Performance_Rating     0\n",
              "Department             0\n",
              "dtype: int64"
            ],
            "text/html": [
              "<div>\n",
              "<style scoped>\n",
              "    .dataframe tbody tr th:only-of-type {\n",
              "        vertical-align: middle;\n",
              "    }\n",
              "\n",
              "    .dataframe tbody tr th {\n",
              "        vertical-align: top;\n",
              "    }\n",
              "\n",
              "    .dataframe thead th {\n",
              "        text-align: right;\n",
              "    }\n",
              "</style>\n",
              "<table border=\"1\" class=\"dataframe\">\n",
              "  <thead>\n",
              "    <tr style=\"text-align: right;\">\n",
              "      <th></th>\n",
              "      <th>0</th>\n",
              "    </tr>\n",
              "  </thead>\n",
              "  <tbody>\n",
              "    <tr>\n",
              "      <th>Employee_ID</th>\n",
              "      <td>0</td>\n",
              "    </tr>\n",
              "    <tr>\n",
              "      <th>Age</th>\n",
              "      <td>0</td>\n",
              "    </tr>\n",
              "    <tr>\n",
              "      <th>Education_Level</th>\n",
              "      <td>0</td>\n",
              "    </tr>\n",
              "    <tr>\n",
              "      <th>Years_of_Experience</th>\n",
              "      <td>0</td>\n",
              "    </tr>\n",
              "    <tr>\n",
              "      <th>Work_Hours_per_Week</th>\n",
              "      <td>0</td>\n",
              "    </tr>\n",
              "    <tr>\n",
              "      <th>Salary</th>\n",
              "      <td>0</td>\n",
              "    </tr>\n",
              "    <tr>\n",
              "      <th>Performance_Rating</th>\n",
              "      <td>0</td>\n",
              "    </tr>\n",
              "    <tr>\n",
              "      <th>Department</th>\n",
              "      <td>0</td>\n",
              "    </tr>\n",
              "  </tbody>\n",
              "</table>\n",
              "</div><br><label><b>dtype:</b> int64</label>"
            ]
          },
          "metadata": {},
          "execution_count": 214
        }
      ]
    },
    {
      "cell_type": "code",
      "source": [
        "employee_df.duplicated().sum()"
      ],
      "metadata": {
        "colab": {
          "base_uri": "https://localhost:8080/"
        },
        "id": "RTXxcZvCGhwk",
        "outputId": "38b6c5d3-8317-4542-c9f7-981ef03235f6"
      },
      "execution_count": 215,
      "outputs": [
        {
          "output_type": "execute_result",
          "data": {
            "text/plain": [
              "0"
            ]
          },
          "metadata": {},
          "execution_count": 215
        }
      ]
    },
    {
      "cell_type": "code",
      "source": [
        "employee_df['Department'].unique()"
      ],
      "metadata": {
        "colab": {
          "base_uri": "https://localhost:8080/"
        },
        "id": "XkBDsgJsGz0I",
        "outputId": "f751e2aa-a735-4de8-dce2-4ae46a6f0aca"
      },
      "execution_count": 216,
      "outputs": [
        {
          "output_type": "execute_result",
          "data": {
            "text/plain": [
              "array(['Sales', 'Finance', 'Marketing', 'Human Resources', 'Engineering'],\n",
              "      dtype=object)"
            ]
          },
          "metadata": {},
          "execution_count": 216
        }
      ]
    },
    {
      "cell_type": "code",
      "source": [
        "employee_df['Education_Level'].unique()"
      ],
      "metadata": {
        "colab": {
          "base_uri": "https://localhost:8080/"
        },
        "id": "wyBBkMIzHD5z",
        "outputId": "86c16652-550a-40ef-8029-6cf9e1b19dee"
      },
      "execution_count": 217,
      "outputs": [
        {
          "output_type": "execute_result",
          "data": {
            "text/plain": [
              "array([2, 4, 3, 5])"
            ]
          },
          "metadata": {},
          "execution_count": 217
        }
      ]
    },
    {
      "cell_type": "markdown",
      "source": [],
      "metadata": {
        "id": "amnj3TQKQrMr"
      }
    },
    {
      "cell_type": "markdown",
      "source": [
        "## **Framing Analytical Questions:**\n",
        "Based on the initial exploration, frame three distinct analytical questions and visualization about the dataset, using below sections."
      ],
      "metadata": {
        "id": "L962XYu4Jjyk"
      }
    },
    {
      "cell_type": "markdown",
      "source": [
        "## **Question 1:** Are longer work hours associated with higher performance ratings for employees?"
      ],
      "metadata": {
        "id": "ovh9MHhUJlfl"
      }
    },
    {
      "cell_type": "markdown",
      "source": [
        "**Reason for Choosing [Visualization Type]:**  \n",
        "I chose a [Visualization Type,\"bar graph\"] for this question because it provides a great visual comparison between 'Work_Hours_per_Week' & 'Performance_Rating' because it splits nicely into different hour categories, being able to compare the performance rating across the multiple hour categories"
      ],
      "metadata": {
        "id": "nLechwWqJn95"
      }
    },
    {
      "cell_type": "code",
      "source": [
        "# Run Your Statistics\n",
        "hours_performance_rating = employee_df.groupby('Work_Hours_per_Week')['Performance_Rating'].mean()\n",
        "hours_performance_rating"
      ],
      "metadata": {
        "id": "HLv0yj9TJu76",
        "colab": {
          "base_uri": "https://localhost:8080/",
          "height": 585
        },
        "outputId": "bb907c08-524c-4378-f275-8f8ab1315d67"
      },
      "execution_count": 218,
      "outputs": [
        {
          "output_type": "execute_result",
          "data": {
            "text/plain": [
              "Work_Hours_per_Week\n",
              "35    2.177778\n",
              "36    2.205882\n",
              "37    2.861538\n",
              "38    2.462500\n",
              "39    2.415385\n",
              "40    2.700000\n",
              "41    2.600000\n",
              "42    2.741176\n",
              "43    2.790909\n",
              "44    2.741667\n",
              "45    2.900000\n",
              "46    2.717647\n",
              "47    2.525000\n",
              "48    2.933333\n",
              "49    2.240000\n",
              "Name: Performance_Rating, dtype: float64"
            ],
            "text/html": [
              "<div>\n",
              "<style scoped>\n",
              "    .dataframe tbody tr th:only-of-type {\n",
              "        vertical-align: middle;\n",
              "    }\n",
              "\n",
              "    .dataframe tbody tr th {\n",
              "        vertical-align: top;\n",
              "    }\n",
              "\n",
              "    .dataframe thead th {\n",
              "        text-align: right;\n",
              "    }\n",
              "</style>\n",
              "<table border=\"1\" class=\"dataframe\">\n",
              "  <thead>\n",
              "    <tr style=\"text-align: right;\">\n",
              "      <th></th>\n",
              "      <th>Performance_Rating</th>\n",
              "    </tr>\n",
              "    <tr>\n",
              "      <th>Work_Hours_per_Week</th>\n",
              "      <th></th>\n",
              "    </tr>\n",
              "  </thead>\n",
              "  <tbody>\n",
              "    <tr>\n",
              "      <th>35</th>\n",
              "      <td>2.177778</td>\n",
              "    </tr>\n",
              "    <tr>\n",
              "      <th>36</th>\n",
              "      <td>2.205882</td>\n",
              "    </tr>\n",
              "    <tr>\n",
              "      <th>37</th>\n",
              "      <td>2.861538</td>\n",
              "    </tr>\n",
              "    <tr>\n",
              "      <th>38</th>\n",
              "      <td>2.462500</td>\n",
              "    </tr>\n",
              "    <tr>\n",
              "      <th>39</th>\n",
              "      <td>2.415385</td>\n",
              "    </tr>\n",
              "    <tr>\n",
              "      <th>40</th>\n",
              "      <td>2.700000</td>\n",
              "    </tr>\n",
              "    <tr>\n",
              "      <th>41</th>\n",
              "      <td>2.600000</td>\n",
              "    </tr>\n",
              "    <tr>\n",
              "      <th>42</th>\n",
              "      <td>2.741176</td>\n",
              "    </tr>\n",
              "    <tr>\n",
              "      <th>43</th>\n",
              "      <td>2.790909</td>\n",
              "    </tr>\n",
              "    <tr>\n",
              "      <th>44</th>\n",
              "      <td>2.741667</td>\n",
              "    </tr>\n",
              "    <tr>\n",
              "      <th>45</th>\n",
              "      <td>2.900000</td>\n",
              "    </tr>\n",
              "    <tr>\n",
              "      <th>46</th>\n",
              "      <td>2.717647</td>\n",
              "    </tr>\n",
              "    <tr>\n",
              "      <th>47</th>\n",
              "      <td>2.525000</td>\n",
              "    </tr>\n",
              "    <tr>\n",
              "      <th>48</th>\n",
              "      <td>2.933333</td>\n",
              "    </tr>\n",
              "    <tr>\n",
              "      <th>49</th>\n",
              "      <td>2.240000</td>\n",
              "    </tr>\n",
              "  </tbody>\n",
              "</table>\n",
              "</div><br><label><b>dtype:</b> float64</label>"
            ]
          },
          "metadata": {},
          "execution_count": 218
        }
      ]
    },
    {
      "cell_type": "code",
      "execution_count": 246,
      "metadata": {
        "id": "qv3SwgztJN6v",
        "colab": {
          "base_uri": "https://localhost:8080/",
          "height": 428
        },
        "outputId": "94b480fe-12cd-4809-a348-78f44cc9e19e"
      },
      "outputs": [
        {
          "output_type": "display_data",
          "data": {
            "text/plain": [
              "<Figure size 1000x600 with 1 Axes>"
            ],
            "image/png": "[encoded data removed]"
          },
          "metadata": {}
        }
      ],
      "source": [
        "# Run Your Visualization\n",
        "hours_performance_rating.plot(kind='line', figsize=(10, 6))\n",
        "plt.grid(True)\n",
        "plt.title('Average Performance Rating by Work Hours per Week')\n",
        "plt.xlabel('Work Hours per Week')\n",
        "plt.ylabel('Average Performance Rating')\n",
        "plt.ylim(0, 3)\n",
        "# Clean up final result\n",
        "sns.despine(trim=True)\n",
        "plt.show()"
      ]
    },
    {
      "cell_type": "markdown",
      "source": [
        "#### **Insights:**\n",
        "Based on the visualization, we can observe that employees 'Average_Performance_Rating' closely represent a bell curve related to\n",
        "'Work_Hours_per_Week.' Working the least and the most amount of hours results in a lower performance rating."
      ],
      "metadata": {
        "id": "xLjgRCY1J2a1"
      }
    },
    {
      "cell_type": "markdown",
      "source": [
        "---\n",
        "\n",
        "## **Question 2:** What's the average Salary growth with Years of Experience across Departments?"
      ],
      "metadata": {
        "id": "an_-BBEHKABx"
      }
    },
    {
      "cell_type": "markdown",
      "source": [
        "**Reason for Choosing [Visualization Type]:**  \n",
        "I chose a [Visualization Type, \"horizontal bar graph\"] for this question because it allowed me to show the difference between the departments, by splitting the numerical data, 'Salary_Growth' = 'Salary' / 'Years_of_Experience', nicely into different categories, 'Departments.'\n",
        "\n"
      ],
      "metadata": {
        "id": "E_57RDnaKABy"
      }
    },
    {
      "cell_type": "code",
      "source": [
        "# Working with 'Years_Of_Experience' having values [-1, 0] was not allowing me to have a proper 'Salary_Growth' outcome\n",
        "# I decided to replace them with 0.1 to provide a positive value and not change the outcome as much.\n",
        "employee_df['Years_of_Experience'].unique()"
      ],
      "metadata": {
        "colab": {
          "base_uri": "https://localhost:8080/"
        },
        "id": "FCYSaQ9UPm50",
        "outputId": "7a0e2b18-992d-461c-af01-2cc518a2aee7"
      },
      "execution_count": 220,
      "outputs": [
        {
          "output_type": "execute_result",
          "data": {
            "text/plain": [
              "array([10, 14, 15,  9, 18,  8,  6,  3, 13, 12,  7, 11, 16,  4,  2,  0,  5,\n",
              "       20, 17,  1, -1, 19])"
            ]
          },
          "metadata": {},
          "execution_count": 220
        }
      ]
    },
    {
      "cell_type": "code",
      "source": [
        "count_minus_one = (employee_df['Years_of_Experience'] == -1).sum()\n",
        "count_minus_one"
      ],
      "metadata": {
        "colab": {
          "base_uri": "https://localhost:8080/"
        },
        "id": "m1XTNow7P9V3",
        "outputId": "850c8d51-1183-4a89-d87f-a59b4818b490"
      },
      "execution_count": 221,
      "outputs": [
        {
          "output_type": "execute_result",
          "data": {
            "text/plain": [
              "3"
            ]
          },
          "metadata": {},
          "execution_count": 221
        }
      ]
    },
    {
      "cell_type": "code",
      "source": [
        "count_zero = (employee_df['Years_of_Experience'] == 0).sum()\n",
        "count_zero"
      ],
      "metadata": {
        "colab": {
          "base_uri": "https://localhost:8080/"
        },
        "id": "f4JmznwrQCR4",
        "outputId": "ce3c3b93-4450-4dea-c39d-d8b4d3c51a6c"
      },
      "execution_count": 222,
      "outputs": [
        {
          "output_type": "execute_result",
          "data": {
            "text/plain": [
              "8"
            ]
          },
          "metadata": {},
          "execution_count": 222
        }
      ]
    },
    {
      "cell_type": "code",
      "source": [
        "employee_df['Years_of_Experience'].replace(0, 0.1, inplace=True)"
      ],
      "metadata": {
        "id": "fkIQQ4UrQHg_"
      },
      "execution_count": 229,
      "outputs": []
    },
    {
      "cell_type": "code",
      "source": [
        "employee_df['Years_of_Experience'].replace(-1, 0.1, inplace=True)"
      ],
      "metadata": {
        "id": "Kpeld_70QUuA"
      },
      "execution_count": 224,
      "outputs": []
    },
    {
      "cell_type": "code",
      "source": [
        "# Run Your Statistics\n",
        "employee_df['Salary_Growth'] = employee_df['Salary'] / employee_df['Years_of_Experience']\n",
        "salary_growth_by_department = employee_df.groupby('Department')['Salary_Growth'].mean()\n",
        "salary_growth_by_department"
      ],
      "metadata": {
        "id": "15T28XMIKABz",
        "colab": {
          "base_uri": "https://localhost:8080/",
          "height": 272
        },
        "outputId": "986a2f16-6956-414e-cecc-50418b47ea87"
      },
      "execution_count": 225,
      "outputs": [
        {
          "output_type": "execute_result",
          "data": {
            "text/plain": [
              "Department\n",
              "Engineering        69009.168945\n",
              "Finance            79022.638514\n",
              "Human Resources    30966.806111\n",
              "Marketing          38362.814470\n",
              "Sales              72300.412195\n",
              "Name: Salary_Growth, dtype: float64"
            ],
            "text/html": [
              "<div>\n",
              "<style scoped>\n",
              "    .dataframe tbody tr th:only-of-type {\n",
              "        vertical-align: middle;\n",
              "    }\n",
              "\n",
              "    .dataframe tbody tr th {\n",
              "        vertical-align: top;\n",
              "    }\n",
              "\n",
              "    .dataframe thead th {\n",
              "        text-align: right;\n",
              "    }\n",
              "</style>\n",
              "<table border=\"1\" class=\"dataframe\">\n",
              "  <thead>\n",
              "    <tr style=\"text-align: right;\">\n",
              "      <th></th>\n",
              "      <th>Salary_Growth</th>\n",
              "    </tr>\n",
              "    <tr>\n",
              "      <th>Department</th>\n",
              "      <th></th>\n",
              "    </tr>\n",
              "  </thead>\n",
              "  <tbody>\n",
              "    <tr>\n",
              "      <th>Engineering</th>\n",
              "      <td>69009.168945</td>\n",
              "    </tr>\n",
              "    <tr>\n",
              "      <th>Finance</th>\n",
              "      <td>79022.638514</td>\n",
              "    </tr>\n",
              "    <tr>\n",
              "      <th>Human Resources</th>\n",
              "      <td>30966.806111</td>\n",
              "    </tr>\n",
              "    <tr>\n",
              "      <th>Marketing</th>\n",
              "      <td>38362.814470</td>\n",
              "    </tr>\n",
              "    <tr>\n",
              "      <th>Sales</th>\n",
              "      <td>72300.412195</td>\n",
              "    </tr>\n",
              "  </tbody>\n",
              "</table>\n",
              "</div><br><label><b>dtype:</b> float64</label>"
            ]
          },
          "metadata": {},
          "execution_count": 225
        }
      ]
    },
    {
      "cell_type": "code",
      "execution_count": 247,
      "metadata": {
        "id": "5cocWTOnKABz",
        "colab": {
          "base_uri": "https://localhost:8080/",
          "height": 401
        },
        "outputId": "158dee0c-66f9-44ba-b038-0faf09319499"
      },
      "outputs": [
        {
          "output_type": "execute_result",
          "data": {
            "text/plain": [
              "Text(0, 0.5, 'Average Salary Growth')"
            ]
          },
          "metadata": {},
          "execution_count": 247
        },
        {
          "output_type": "display_data",
          "data": {
            "text/plain": [
              "<Figure size 1000x600 with 1 Axes>"
            ],
            "image/png": "[encoded data removed]"
          },
          "metadata": {}
        }
      ],
      "source": [
        "# Run Your Visualization\n",
        "salary_growth_by_department.plot(kind='barh', figsize=(10, 6))\n",
        "plt.title('Average Salary Growth by Department')\n",
        "plt.xlabel('Department')\n",
        "plt.ylabel('Average Salary Growth')"
      ]
    },
    {
      "cell_type": "markdown",
      "source": [
        "#### **Insights:**\n",
        "Based on the visualization, we can observe that the average salary growth in the Finance 'Department' is the greatest when it comes to 'Salary' and 'Years_of_Experience.'"
      ],
      "metadata": {
        "id": "tljarLrvKAB0"
      }
    },
    {
      "cell_type": "markdown",
      "source": [
        "---\n",
        "\n",
        "## **Question 3:** Are older employees more likely to have higher Performance Ratings?"
      ],
      "metadata": {
        "id": "FDZJ4YPyKAib"
      }
    },
    {
      "cell_type": "markdown",
      "source": [
        "**Reason for Choosing [Visualization Type]:**  \n",
        "I chose a [Visualization Type, \"scatter plot\"] for this question because I wanted to to able to categorize the employees by age and view their different ratings. The scatter plot would allow me to see if there were any clusters of performance ratings at a certain age.\n"
      ],
      "metadata": {
        "id": "hAOjcKYDKAib"
      }
    },
    {
      "cell_type": "code",
      "source": [
        "# Run Your Statistics\n",
        "age_corr_rating = employee_df['Age'].corr(employee_df['Performance_Rating'])\n",
        "age_corr_rating"
      ],
      "metadata": {
        "id": "fvyZxnpUKAib",
        "colab": {
          "base_uri": "https://localhost:8080/"
        },
        "outputId": "f375ec96-ab23-4342-ecfb-48b66a8582e4"
      },
      "execution_count": 244,
      "outputs": [
        {
          "output_type": "execute_result",
          "data": {
            "text/plain": [
              "-0.06840099619553366"
            ]
          },
          "metadata": {},
          "execution_count": 244
        }
      ]
    },
    {
      "cell_type": "code",
      "execution_count": 239,
      "metadata": {
        "id": "LutZbMqtKAib",
        "colab": {
          "base_uri": "https://localhost:8080/",
          "height": 429
        },
        "outputId": "1b5625d5-720c-41c9-f3c6-4c5421a8371c"
      },
      "outputs": [
        {
          "output_type": "execute_result",
          "data": {
            "text/plain": [
              "<Axes: xlabel='Age', ylabel='Performance_Rating'>"
            ]
          },
          "metadata": {},
          "execution_count": 239
        },
        {
          "output_type": "display_data",
          "data": {
            "text/plain": [
              "<Figure size 1000x600 with 1 Axes>"
            ],
            "image/png": "[encoded data removed]"
          },
          "metadata": {}
        }
      ],
      "source": [
        "# Run Your Visualization\n",
        "plt.figure(figsize=(10, 6))\n",
        "sns.scatterplot(data=employee_df, x='Age', y='Performance_Rating', color='skyblue')"
      ]
    },
    {
      "cell_type": "markdown",
      "source": [
        "#### **Insights:**\n",
        "Based on the visualization, we can observe that there is no correlation between 'Age' and 'Performance_Rating'. It appears that regardless of being younger or older, performance is not affected.\n",
        "\n"
      ],
      "metadata": {
        "id": "OcA2sILLKAic"
      }
    },
    {
      "cell_type": "markdown",
      "source": [
        "---\n",
        "\n",
        "## **Overall Insights & Conclusions**\n",
        "After exploring the dataset and answering the three analytical questions, my key takeaways are:\n",
        "1. Based on the visualization, we can observe that employees 'Average_Performance_Rating' closely represent a bell curve related to\n",
        "'Work_Hours_per_Week.' Working the least and the amount of hours results in a lower performance rating.\n",
        "\n",
        "If hours need to be cut, we can use this visualization to provide the minimum amount of hours that still offer the best performance. This can establish guidelines for optimal work hours that maximize productivity while preventing burnout. The organization can encourage employees to work within this range to maintain high performance.\n",
        "\n",
        "2. Based on the visualization, we can observe that the average salary growth in the Finance 'Department' is the greatest when it comes to 'Salary' and 'Years_of_Experience.'\n",
        "\n",
        "Finance shows the greatest salary growth with experience, and with this information, the organization can focus on retaining experienced Finance employees and use them as mentors to guide less experienced ones. Providing training and incentives can provide performance improvements and align their growth with the organization's goals.  \n",
        "\n",
        "\n",
        "3. Based on the visualization, we can observe that there is no correlation between 'Age' and 'Performance_Rating'. It appears that regardless of being Younger or older, performance is not affected.\n",
        "\n",
        "Given that age doesn't impact performance, the organization can focus on merit-based promotions and rewards. Emphasis on skills, accomplishments, and contributions rather than focusing on one's age. Encouraging age diversity can bring varied perspectives and innovative solutions.\n",
        "\n"
      ],
      "metadata": {
        "id": "tccD85EdKG5d"
      }
    },
    {
      "cell_type": "code",
      "source": [
        "!jupyter nbconvert --to html \"/content/Employee_Performance_Analysis_KenJorren_Culata.ipynb\""
      ],
      "metadata": {
        "id": "00-9CGrNLhkd",
        "colab": {
          "base_uri": "https://localhost:8080/"
        },
        "outputId": "a374084c-f323-4ea7-b5b4-80cab98e4400"
      },
      "execution_count": 248,
      "outputs": [
        {
          "output_type": "stream",
          "name": "stdout",
          "text": [
            "[NbConvertApp] Converting notebook /content/Employee_Performance_Analysis_KenJorren_Culata.ipynb to html\n",
            "[NbConvertApp] Writing 754406 bytes to /content/Employee_Performance_Analysis_KenJorren_Culata.html\n"
          ]
        }
      ]
    }
  ]
}