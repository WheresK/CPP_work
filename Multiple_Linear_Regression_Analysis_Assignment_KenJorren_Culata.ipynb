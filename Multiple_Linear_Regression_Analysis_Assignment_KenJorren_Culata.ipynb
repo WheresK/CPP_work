{
  "nbformat": 4,
  "nbformat_minor": 0,
  "metadata": {
    "colab": {
      "provenance": []
    },
    "kernelspec": {
      "name": "python3",
      "display_name": "Python 3"
    },
    "language_info": {
      "name": "python"
    }
  },
  "cells": [
    {
      "cell_type": "markdown",
      "source": [
        "# **Multiple Linear Regression (MLR) Assignment: Marketing Data Analysis**\n",
        "**By: KenJorren Culata**\n",
        "\n",
        "CIS 3252.03 Business Intelligence\n",
        "\n",
        "California Polytechnic Pomona Fall 2024\n"
      ],
      "metadata": {
        "id": "wMLy6A-VG_wL"
      }
    },
    {
      "cell_type": "markdown",
      "source": [
        "### Objectives\n",
        "\n",
        "1. Build a multiple linear regression model to predict sales based on youtube, facebook, and newspaper advertising budgets.\n",
        "2. Evaluate and interpret the model, checking assumptions to ensure model validity.\n"
      ],
      "metadata": {
        "id": "nFnwQ9L-Hi1q"
      }
    },
    {
      "cell_type": "markdown",
      "source": [
        "### 1. Data Loading and Exploration"
      ],
      "metadata": {
        "id": "EoUl1_HtH5h6"
      }
    },
    {
      "cell_type": "markdown",
      "source": [
        "**Step 1:** Load the marketing.csv file provided and inspect its structure."
      ],
      "metadata": {
        "id": "5QtvIF9qJ1_h"
      }
    },
    {
      "cell_type": "code",
      "source": [
        "# Importing necessary libraries and load data\n",
        "import pandas as pd\n",
        "import numpy as np\n",
        "import matplotlib.pyplot as plt\n",
        "import seaborn as sns\n",
        "import statsmodels.api as sm\n",
        "from sklearn.model_selection import train_test_split\n",
        "from sklearn.linear_model import LinearRegression\n",
        "from sklearn.metrics import mean_squared_error, r2_score\n",
        "from statsmodels.stats.outliers_influence import variance_inflation_factor\n",
        "df = pd.read_csv('/content/marketing.csv')"
      ],
      "metadata": {
        "id": "LVZJckhlJUpf"
      },
      "execution_count": 81,
      "outputs": []
    },
    {
      "cell_type": "code",
      "source": [
        "# Provide a sample view of the dataset\n",
        "df.head()"
      ],
      "metadata": {
        "colab": {
          "base_uri": "https://localhost:8080/",
          "height": 206
        },
        "id": "Nf4R48UbNcjP",
        "outputId": "cba2eb6f-21cb-4de2-f465-d9de252e8c22"
      },
      "execution_count": 82,
      "outputs": [
        {
          "output_type": "execute_result",
          "data": {
            "text/plain": [
              "   youtube  facebook  newspaper  sales\n",
              "0   276.12     45.36      83.04  26.52\n",
              "1    53.40     47.16      54.12  12.48\n",
              "2    20.64     55.08      83.16  11.16\n",
              "3   181.80     49.56      70.20  22.20\n",
              "4   216.96     12.96      70.08  15.48"
            ],
            "text/html": [
              "\n",
              "  <div id=\"df-1d439518-f05d-4321-84e6-4dbd513cf555\" class=\"colab-df-container\">\n",
              "    <div>\n",
              "<style scoped>\n",
              "    .dataframe tbody tr th:only-of-type {\n",
              "        vertical-align: middle;\n",
              "    }\n",
              "\n",
              "    .dataframe tbody tr th {\n",
              "        vertical-align: top;\n",
              "    }\n",
              "\n",
              "    .dataframe thead th {\n",
              "        text-align: right;\n",
              "    }\n",
              "</style>\n",
              "<table border=\"1\" class=\"dataframe\">\n",
              "  <thead>\n",
              "    <tr style=\"text-align: right;\">\n",
              "      <th></th>\n",
              "      <th>youtube</th>\n",
              "      <th>facebook</th>\n",
              "      <th>newspaper</th>\n",
              "      <th>sales</th>\n",
              "    </tr>\n",
              "  </thead>\n",
              "  <tbody>\n",
              "    <tr>\n",
              "      <th>0</th>\n",
              "      <td>276.12</td>\n",
              "      <td>45.36</td>\n",
              "      <td>83.04</td>\n",
              "      <td>26.52</td>\n",
              "    </tr>\n",
              "    <tr>\n",
              "      <th>1</th>\n",
              "      <td>53.40</td>\n",
              "      <td>47.16</td>\n",
              "      <td>54.12</td>\n",
              "      <td>12.48</td>\n",
              "    </tr>\n",
              "    <tr>\n",
              "      <th>2</th>\n",
              "      <td>20.64</td>\n",
              "      <td>55.08</td>\n",
              "      <td>83.16</td>\n",
              "      <td>11.16</td>\n",
              "    </tr>\n",
              "    <tr>\n",
              "      <th>3</th>\n",
              "      <td>181.80</td>\n",
              "      <td>49.56</td>\n",
              "      <td>70.20</td>\n",
              "      <td>22.20</td>\n",
              "    </tr>\n",
              "    <tr>\n",
              "      <th>4</th>\n",
              "      <td>216.96</td>\n",
              "      <td>12.96</td>\n",
              "      <td>70.08</td>\n",
              "      <td>15.48</td>\n",
              "    </tr>\n",
              "  </tbody>\n",
              "</table>\n",
              "</div>\n",
              "    <div class=\"colab-df-buttons\">\n",
              "\n",
              "  <div class=\"colab-df-container\">\n",
              "    <button class=\"colab-df-convert\" onclick=\"convertToInteractive('df-1d439518-f05d-4321-84e6-4dbd513cf555')\"\n",
              "            title=\"Convert this dataframe to an interactive table.\"\n",
              "            style=\"display:none;\">\n",
              "\n",
              "  <svg xmlns=\"http://www.w3.org/2000/svg\" height=\"24px\" viewBox=\"0 -960 960 960\">\n",
              "    <path d=\"M120-120v-720h720v720H120Zm60-500h600v-160H180v160Zm220 220h160v-160H400v160Zm0 220h160v-160H400v160ZM180-400h160v-160H180v160Zm440 0h160v-160H620v160ZM180-180h160v-160H180v160Zm440 0h160v-160H620v160Z\"/>\n",
              "  </svg>\n",
              "    </button>\n",
              "\n",
              "  <style>\n",
              "    .colab-df-container {\n",
              "      display:flex;\n",
              "      gap: 12px;\n",
              "    }\n",
              "\n",
              "    .colab-df-convert {\n",
              "      background-color: #E8F0FE;\n",
              "      border: none;\n",
              "      border-radius: 50%;\n",
              "      cursor: pointer;\n",
              "      display: none;\n",
              "      fill: #1967D2;\n",
              "      height: 32px;\n",
              "      padding: 0 0 0 0;\n",
              "      width: 32px;\n",
              "    }\n",
              "\n",
              "    .colab-df-convert:hover {\n",
              "      background-color: #E2EBFA;\n",
              "      box-shadow: 0px 1px 2px rgba(60, 64, 67, 0.3), 0px 1px 3px 1px rgba(60, 64, 67, 0.15);\n",
              "      fill: #174EA6;\n",
              "    }\n",
              "\n",
              "    .colab-df-buttons div {\n",
              "      margin-bottom: 4px;\n",
              "    }\n",
              "\n",
              "    [theme=dark] .colab-df-convert {\n",
              "      background-color: #3B4455;\n",
              "      fill: #D2E3FC;\n",
              "    }\n",
              "\n",
              "    [theme=dark] .colab-df-convert:hover {\n",
              "      background-color: #434B5C;\n",
              "      box-shadow: 0px 1px 3px 1px rgba(0, 0, 0, 0.15);\n",
              "      filter: drop-shadow(0px 1px 2px rgba(0, 0, 0, 0.3));\n",
              "      fill: #FFFFFF;\n",
              "    }\n",
              "  </style>\n",
              "\n",
              "    <script>\n",
              "      const buttonEl =\n",
              "        document.querySelector('#df-1d439518-f05d-4321-84e6-4dbd513cf555 button.colab-df-convert');\n",
              "      buttonEl.style.display =\n",
              "        google.colab.kernel.accessAllowed ? 'block' : 'none';\n",
              "\n",
              "      async function convertToInteractive(key) {\n",
              "        const element = document.querySelector('#df-1d439518-f05d-4321-84e6-4dbd513cf555');\n",
              "        const dataTable =\n",
              "          await google.colab.kernel.invokeFunction('convertToInteractive',\n",
              "                                                    [key], {});\n",
              "        if (!dataTable) return;\n",
              "\n",
              "        const docLinkHtml = 'Like what you see? Visit the ' +\n",
              "          '<a target=\"_blank\" href=https://colab.research.google.com/notebooks/data_table.ipynb>data table notebook</a>'\n",
              "          + ' to learn more about interactive tables.';\n",
              "        element.innerHTML = '';\n",
              "        dataTable['output_type'] = 'display_data';\n",
              "        await google.colab.output.renderOutput(dataTable, element);\n",
              "        const docLink = document.createElement('div');\n",
              "        docLink.innerHTML = docLinkHtml;\n",
              "        element.appendChild(docLink);\n",
              "      }\n",
              "    </script>\n",
              "  </div>\n",
              "\n",
              "\n",
              "<div id=\"df-2879c1b2-c71e-485c-a630-55915c318108\">\n",
              "  <button class=\"colab-df-quickchart\" onclick=\"quickchart('df-2879c1b2-c71e-485c-a630-55915c318108')\"\n",
              "            title=\"Suggest charts\"\n",
              "            style=\"display:none;\">\n",
              "\n",
              "<svg xmlns=\"http://www.w3.org/2000/svg\" height=\"24px\"viewBox=\"0 0 24 24\"\n",
              "     width=\"24px\">\n",
              "    <g>\n",
              "        <path d=\"M19 3H5c-1.1 0-2 .9-2 2v14c0 1.1.9 2 2 2h14c1.1 0 2-.9 2-2V5c0-1.1-.9-2-2-2zM9 17H7v-7h2v7zm4 0h-2V7h2v10zm4 0h-2v-4h2v4z\"/>\n",
              "    </g>\n",
              "</svg>\n",
              "  </button>\n",
              "\n",
              "<style>\n",
              "  .colab-df-quickchart {\n",
              "      --bg-color: #E8F0FE;\n",
              "      --fill-color: #1967D2;\n",
              "      --hover-bg-color: #E2EBFA;\n",
              "      --hover-fill-color: #174EA6;\n",
              "      --disabled-fill-color: #AAA;\n",
              "      --disabled-bg-color: #DDD;\n",
              "  }\n",
              "\n",
              "  [theme=dark] .colab-df-quickchart {\n",
              "      --bg-color: #3B4455;\n",
              "      --fill-color: #D2E3FC;\n",
              "      --hover-bg-color: #434B5C;\n",
              "      --hover-fill-color: #FFFFFF;\n",
              "      --disabled-bg-color: #3B4455;\n",
              "      --disabled-fill-color: #666;\n",
              "  }\n",
              "\n",
              "  .colab-df-quickchart {\n",
              "    background-color: var(--bg-color);\n",
              "    border: none;\n",
              "    border-radius: 50%;\n",
              "    cursor: pointer;\n",
              "    display: none;\n",
              "    fill: var(--fill-color);\n",
              "    height: 32px;\n",
              "    padding: 0;\n",
              "    width: 32px;\n",
              "  }\n",
              "\n",
              "  .colab-df-quickchart:hover {\n",
              "    background-color: var(--hover-bg-color);\n",
              "    box-shadow: 0 1px 2px rgba(60, 64, 67, 0.3), 0 1px 3px 1px rgba(60, 64, 67, 0.15);\n",
              "    fill: var(--button-hover-fill-color);\n",
              "  }\n",
              "\n",
              "  .colab-df-quickchart-complete:disabled,\n",
              "  .colab-df-quickchart-complete:disabled:hover {\n",
              "    background-color: var(--disabled-bg-color);\n",
              "    fill: var(--disabled-fill-color);\n",
              "    box-shadow: none;\n",
              "  }\n",
              "\n",
              "  .colab-df-spinner {\n",
              "    border: 2px solid var(--fill-color);\n",
              "    border-color: transparent;\n",
              "    border-bottom-color: var(--fill-color);\n",
              "    animation:\n",
              "      spin 1s steps(1) infinite;\n",
              "  }\n",
              "\n",
              "  @keyframes spin {\n",
              "    0% {\n",
              "      border-color: transparent;\n",
              "      border-bottom-color: var(--fill-color);\n",
              "      border-left-color: var(--fill-color);\n",
              "    }\n",
              "    20% {\n",
              "      border-color: transparent;\n",
              "      border-left-color: var(--fill-color);\n",
              "      border-top-color: var(--fill-color);\n",
              "    }\n",
              "    30% {\n",
              "      border-color: transparent;\n",
              "      border-left-color: var(--fill-color);\n",
              "      border-top-color: var(--fill-color);\n",
              "      border-right-color: var(--fill-color);\n",
              "    }\n",
              "    40% {\n",
              "      border-color: transparent;\n",
              "      border-right-color: var(--fill-color);\n",
              "      border-top-color: var(--fill-color);\n",
              "    }\n",
              "    60% {\n",
              "      border-color: transparent;\n",
              "      border-right-color: var(--fill-color);\n",
              "    }\n",
              "    80% {\n",
              "      border-color: transparent;\n",
              "      border-right-color: var(--fill-color);\n",
              "      border-bottom-color: var(--fill-color);\n",
              "    }\n",
              "    90% {\n",
              "      border-color: transparent;\n",
              "      border-bottom-color: var(--fill-color);\n",
              "    }\n",
              "  }\n",
              "</style>\n",
              "\n",
              "  <script>\n",
              "    async function quickchart(key) {\n",
              "      const quickchartButtonEl =\n",
              "        document.querySelector('#' + key + ' button');\n",
              "      quickchartButtonEl.disabled = true;  // To prevent multiple clicks.\n",
              "      quickchartButtonEl.classList.add('colab-df-spinner');\n",
              "      try {\n",
              "        const charts = await google.colab.kernel.invokeFunction(\n",
              "            'suggestCharts', [key], {});\n",
              "      } catch (error) {\n",
              "        console.error('Error during call to suggestCharts:', error);\n",
              "      }\n",
              "      quickchartButtonEl.classList.remove('colab-df-spinner');\n",
              "      quickchartButtonEl.classList.add('colab-df-quickchart-complete');\n",
              "    }\n",
              "    (() => {\n",
              "      let quickchartButtonEl =\n",
              "        document.querySelector('#df-2879c1b2-c71e-485c-a630-55915c318108 button');\n",
              "      quickchartButtonEl.style.display =\n",
              "        google.colab.kernel.accessAllowed ? 'block' : 'none';\n",
              "    })();\n",
              "  </script>\n",
              "</div>\n",
              "\n",
              "    </div>\n",
              "  </div>\n"
            ],
            "application/vnd.google.colaboratory.intrinsic+json": {
              "type": "dataframe",
              "variable_name": "df",
              "summary": "{\n  \"name\": \"df\",\n  \"rows\": 200,\n  \"fields\": [\n    {\n      \"column\": \"youtube\",\n      \"properties\": {\n        \"dtype\": \"number\",\n        \"std\": 103.02508357788967,\n        \"min\": 0.84,\n        \"max\": 355.67999999999995,\n        \"num_unique_values\": 190,\n        \"samples\": [\n          345.12,\n          343.2,\n          93.84\n        ],\n        \"semantic_type\": \"\",\n        \"description\": \"\"\n      }\n    },\n    {\n      \"column\": \"facebook\",\n      \"properties\": {\n        \"dtype\": \"number\",\n        \"std\": 17.816171011402467,\n        \"min\": 0.0,\n        \"max\": 59.52,\n        \"num_unique_values\": 167,\n        \"samples\": [\n          9.839999999999998,\n          44.28,\n          53.4\n        ],\n        \"semantic_type\": \"\",\n        \"description\": \"\"\n      }\n    },\n    {\n      \"column\": \"newspaper\",\n      \"properties\": {\n        \"dtype\": \"number\",\n        \"std\": 26.1343450062274,\n        \"min\": 0.36,\n        \"max\": 136.79999999999998,\n        \"num_unique_values\": 172,\n        \"samples\": [\n          26.76,\n          6.84,\n          20.4\n        ],\n        \"semantic_type\": \"\",\n        \"description\": \"\"\n      }\n    },\n    {\n      \"column\": \"sales\",\n      \"properties\": {\n        \"dtype\": \"number\",\n        \"std\": 6.260947878852574,\n        \"min\": 1.92,\n        \"max\": 32.4,\n        \"num_unique_values\": 121,\n        \"samples\": [\n          13.68,\n          25.44,\n          15.48\n        ],\n        \"semantic_type\": \"\",\n        \"description\": \"\"\n      }\n    }\n  ]\n}"
            }
          },
          "metadata": {},
          "execution_count": 82
        }
      ]
    },
    {
      "cell_type": "code",
      "source": [
        "# This data set has 200 entries. 4 columns: youtube, facebook, newspaper, sales. Datatype: float64. No missing entries\n",
        "df.info()"
      ],
      "metadata": {
        "colab": {
          "base_uri": "https://localhost:8080/"
        },
        "id": "cJ7SDPVuNVUu",
        "outputId": "e85b015f-8177-4166-9fe5-d5f33c121331"
      },
      "execution_count": 83,
      "outputs": [
        {
          "output_type": "stream",
          "name": "stdout",
          "text": [
            "<class 'pandas.core.frame.DataFrame'>\n",
            "RangeIndex: 200 entries, 0 to 199\n",
            "Data columns (total 4 columns):\n",
            " #   Column     Non-Null Count  Dtype  \n",
            "---  ------     --------------  -----  \n",
            " 0   youtube    200 non-null    float64\n",
            " 1   facebook   200 non-null    float64\n",
            " 2   newspaper  200 non-null    float64\n",
            " 3   sales      200 non-null    float64\n",
            "dtypes: float64(4)\n",
            "memory usage: 6.4 KB\n"
          ]
        }
      ]
    },
    {
      "cell_type": "code",
      "source": [
        "# Verification of any missing entries\n",
        "df.isnull().sum()"
      ],
      "metadata": {
        "colab": {
          "base_uri": "https://localhost:8080/",
          "height": 209
        },
        "id": "qIJ7slulOx4g",
        "outputId": "bd883c94-ad40-489f-8100-866f4207bc87"
      },
      "execution_count": 84,
      "outputs": [
        {
          "output_type": "execute_result",
          "data": {
            "text/plain": [
              "youtube      0\n",
              "facebook     0\n",
              "newspaper    0\n",
              "sales        0\n",
              "dtype: int64"
            ],
            "text/html": [
              "<div>\n",
              "<style scoped>\n",
              "    .dataframe tbody tr th:only-of-type {\n",
              "        vertical-align: middle;\n",
              "    }\n",
              "\n",
              "    .dataframe tbody tr th {\n",
              "        vertical-align: top;\n",
              "    }\n",
              "\n",
              "    .dataframe thead th {\n",
              "        text-align: right;\n",
              "    }\n",
              "</style>\n",
              "<table border=\"1\" class=\"dataframe\">\n",
              "  <thead>\n",
              "    <tr style=\"text-align: right;\">\n",
              "      <th></th>\n",
              "      <th>0</th>\n",
              "    </tr>\n",
              "  </thead>\n",
              "  <tbody>\n",
              "    <tr>\n",
              "      <th>youtube</th>\n",
              "      <td>0</td>\n",
              "    </tr>\n",
              "    <tr>\n",
              "      <th>facebook</th>\n",
              "      <td>0</td>\n",
              "    </tr>\n",
              "    <tr>\n",
              "      <th>newspaper</th>\n",
              "      <td>0</td>\n",
              "    </tr>\n",
              "    <tr>\n",
              "      <th>sales</th>\n",
              "      <td>0</td>\n",
              "    </tr>\n",
              "  </tbody>\n",
              "</table>\n",
              "</div><br><label><b>dtype:</b> int64</label>"
            ]
          },
          "metadata": {},
          "execution_count": 84
        }
      ]
    },
    {
      "cell_type": "code",
      "source": [
        "# Verification of any duplicate entries\n",
        "df.duplicated()"
      ],
      "metadata": {
        "colab": {
          "base_uri": "https://localhost:8080/",
          "height": 458
        },
        "id": "-ywwzb6BPAQS",
        "outputId": "88f5a165-ed15-447b-d413-235f1a87f870"
      },
      "execution_count": 85,
      "outputs": [
        {
          "output_type": "execute_result",
          "data": {
            "text/plain": [
              "0      False\n",
              "1      False\n",
              "2      False\n",
              "3      False\n",
              "4      False\n",
              "       ...  \n",
              "195    False\n",
              "196    False\n",
              "197    False\n",
              "198    False\n",
              "199    False\n",
              "Length: 200, dtype: bool"
            ],
            "text/html": [
              "<div>\n",
              "<style scoped>\n",
              "    .dataframe tbody tr th:only-of-type {\n",
              "        vertical-align: middle;\n",
              "    }\n",
              "\n",
              "    .dataframe tbody tr th {\n",
              "        vertical-align: top;\n",
              "    }\n",
              "\n",
              "    .dataframe thead th {\n",
              "        text-align: right;\n",
              "    }\n",
              "</style>\n",
              "<table border=\"1\" class=\"dataframe\">\n",
              "  <thead>\n",
              "    <tr style=\"text-align: right;\">\n",
              "      <th></th>\n",
              "      <th>0</th>\n",
              "    </tr>\n",
              "  </thead>\n",
              "  <tbody>\n",
              "    <tr>\n",
              "      <th>0</th>\n",
              "      <td>False</td>\n",
              "    </tr>\n",
              "    <tr>\n",
              "      <th>1</th>\n",
              "      <td>False</td>\n",
              "    </tr>\n",
              "    <tr>\n",
              "      <th>2</th>\n",
              "      <td>False</td>\n",
              "    </tr>\n",
              "    <tr>\n",
              "      <th>3</th>\n",
              "      <td>False</td>\n",
              "    </tr>\n",
              "    <tr>\n",
              "      <th>4</th>\n",
              "      <td>False</td>\n",
              "    </tr>\n",
              "    <tr>\n",
              "      <th>...</th>\n",
              "      <td>...</td>\n",
              "    </tr>\n",
              "    <tr>\n",
              "      <th>195</th>\n",
              "      <td>False</td>\n",
              "    </tr>\n",
              "    <tr>\n",
              "      <th>196</th>\n",
              "      <td>False</td>\n",
              "    </tr>\n",
              "    <tr>\n",
              "      <th>197</th>\n",
              "      <td>False</td>\n",
              "    </tr>\n",
              "    <tr>\n",
              "      <th>198</th>\n",
              "      <td>False</td>\n",
              "    </tr>\n",
              "    <tr>\n",
              "      <th>199</th>\n",
              "      <td>False</td>\n",
              "    </tr>\n",
              "  </tbody>\n",
              "</table>\n",
              "<p>200 rows × 1 columns</p>\n",
              "</div><br><label><b>dtype:</b> bool</label>"
            ]
          },
          "metadata": {},
          "execution_count": 85
        }
      ]
    },
    {
      "cell_type": "markdown",
      "source": [
        "**Step 2:** Calculate basic statistics for each column (mean, standard deviation, min, max) to understand the data distribution."
      ],
      "metadata": {
        "id": "VlgymnrNJ5uw"
      }
    },
    {
      "cell_type": "code",
      "source": [
        "# Statistical summary of numerical columns\n",
        "df.describe()"
      ],
      "metadata": {
        "colab": {
          "base_uri": "https://localhost:8080/",
          "height": 300
        },
        "id": "tIdBus_lJ-po",
        "outputId": "eb895e95-7be8-4226-b146-54e61c545991"
      },
      "execution_count": 86,
      "outputs": [
        {
          "output_type": "execute_result",
          "data": {
            "text/plain": [
              "          youtube    facebook   newspaper       sales\n",
              "count  200.000000  200.000000  200.000000  200.000000\n",
              "mean   176.451000   27.916800   36.664800   16.827000\n",
              "std    103.025084   17.816171   26.134345    6.260948\n",
              "min      0.840000    0.000000    0.360000    1.920000\n",
              "25%     89.250000   11.970000   15.300000   12.450000\n",
              "50%    179.700000   27.480000   30.900000   15.480000\n",
              "75%    262.590000   43.830000   54.120000   20.880000\n",
              "max    355.680000   59.520000  136.800000   32.400000"
            ],
            "text/html": [
              "\n",
              "  <div id=\"df-c4d36acf-7f3a-4ce5-aa20-810170ac9af6\" class=\"colab-df-container\">\n",
              "    <div>\n",
              "<style scoped>\n",
              "    .dataframe tbody tr th:only-of-type {\n",
              "        vertical-align: middle;\n",
              "    }\n",
              "\n",
              "    .dataframe tbody tr th {\n",
              "        vertical-align: top;\n",
              "    }\n",
              "\n",
              "    .dataframe thead th {\n",
              "        text-align: right;\n",
              "    }\n",
              "</style>\n",
              "<table border=\"1\" class=\"dataframe\">\n",
              "  <thead>\n",
              "    <tr style=\"text-align: right;\">\n",
              "      <th></th>\n",
              "      <th>youtube</th>\n",
              "      <th>facebook</th>\n",
              "      <th>newspaper</th>\n",
              "      <th>sales</th>\n",
              "    </tr>\n",
              "  </thead>\n",
              "  <tbody>\n",
              "    <tr>\n",
              "      <th>count</th>\n",
              "      <td>200.000000</td>\n",
              "      <td>200.000000</td>\n",
              "      <td>200.000000</td>\n",
              "      <td>200.000000</td>\n",
              "    </tr>\n",
              "    <tr>\n",
              "      <th>mean</th>\n",
              "      <td>176.451000</td>\n",
              "      <td>27.916800</td>\n",
              "      <td>36.664800</td>\n",
              "      <td>16.827000</td>\n",
              "    </tr>\n",
              "    <tr>\n",
              "      <th>std</th>\n",
              "      <td>103.025084</td>\n",
              "      <td>17.816171</td>\n",
              "      <td>26.134345</td>\n",
              "      <td>6.260948</td>\n",
              "    </tr>\n",
              "    <tr>\n",
              "      <th>min</th>\n",
              "      <td>0.840000</td>\n",
              "      <td>0.000000</td>\n",
              "      <td>0.360000</td>\n",
              "      <td>1.920000</td>\n",
              "    </tr>\n",
              "    <tr>\n",
              "      <th>25%</th>\n",
              "      <td>89.250000</td>\n",
              "      <td>11.970000</td>\n",
              "      <td>15.300000</td>\n",
              "      <td>12.450000</td>\n",
              "    </tr>\n",
              "    <tr>\n",
              "      <th>50%</th>\n",
              "      <td>179.700000</td>\n",
              "      <td>27.480000</td>\n",
              "      <td>30.900000</td>\n",
              "      <td>15.480000</td>\n",
              "    </tr>\n",
              "    <tr>\n",
              "      <th>75%</th>\n",
              "      <td>262.590000</td>\n",
              "      <td>43.830000</td>\n",
              "      <td>54.120000</td>\n",
              "      <td>20.880000</td>\n",
              "    </tr>\n",
              "    <tr>\n",
              "      <th>max</th>\n",
              "      <td>355.680000</td>\n",
              "      <td>59.520000</td>\n",
              "      <td>136.800000</td>\n",
              "      <td>32.400000</td>\n",
              "    </tr>\n",
              "  </tbody>\n",
              "</table>\n",
              "</div>\n",
              "    <div class=\"colab-df-buttons\">\n",
              "\n",
              "  <div class=\"colab-df-container\">\n",
              "    <button class=\"colab-df-convert\" onclick=\"convertToInteractive('df-c4d36acf-7f3a-4ce5-aa20-810170ac9af6')\"\n",
              "            title=\"Convert this dataframe to an interactive table.\"\n",
              "            style=\"display:none;\">\n",
              "\n",
              "  <svg xmlns=\"http://www.w3.org/2000/svg\" height=\"24px\" viewBox=\"0 -960 960 960\">\n",
              "    <path d=\"M120-120v-720h720v720H120Zm60-500h600v-160H180v160Zm220 220h160v-160H400v160Zm0 220h160v-160H400v160ZM180-400h160v-160H180v160Zm440 0h160v-160H620v160ZM180-180h160v-160H180v160Zm440 0h160v-160H620v160Z\"/>\n",
              "  </svg>\n",
              "    </button>\n",
              "\n",
              "  <style>\n",
              "    .colab-df-container {\n",
              "      display:flex;\n",
              "      gap: 12px;\n",
              "    }\n",
              "\n",
              "    .colab-df-convert {\n",
              "      background-color: #E8F0FE;\n",
              "      border: none;\n",
              "      border-radius: 50%;\n",
              "      cursor: pointer;\n",
              "      display: none;\n",
              "      fill: #1967D2;\n",
              "      height: 32px;\n",
              "      padding: 0 0 0 0;\n",
              "      width: 32px;\n",
              "    }\n",
              "\n",
              "    .colab-df-convert:hover {\n",
              "      background-color: #E2EBFA;\n",
              "      box-shadow: 0px 1px 2px rgba(60, 64, 67, 0.3), 0px 1px 3px 1px rgba(60, 64, 67, 0.15);\n",
              "      fill: #174EA6;\n",
              "    }\n",
              "\n",
              "    .colab-df-buttons div {\n",
              "      margin-bottom: 4px;\n",
              "    }\n",
              "\n",
              "    [theme=dark] .colab-df-convert {\n",
              "      background-color: #3B4455;\n",
              "      fill: #D2E3FC;\n",
              "    }\n",
              "\n",
              "    [theme=dark] .colab-df-convert:hover {\n",
              "      background-color: #434B5C;\n",
              "      box-shadow: 0px 1px 3px 1px rgba(0, 0, 0, 0.15);\n",
              "      filter: drop-shadow(0px 1px 2px rgba(0, 0, 0, 0.3));\n",
              "      fill: #FFFFFF;\n",
              "    }\n",
              "  </style>\n",
              "\n",
              "    <script>\n",
              "      const buttonEl =\n",
              "        document.querySelector('#df-c4d36acf-7f3a-4ce5-aa20-810170ac9af6 button.colab-df-convert');\n",
              "      buttonEl.style.display =\n",
              "        google.colab.kernel.accessAllowed ? 'block' : 'none';\n",
              "\n",
              "      async function convertToInteractive(key) {\n",
              "        const element = document.querySelector('#df-c4d36acf-7f3a-4ce5-aa20-810170ac9af6');\n",
              "        const dataTable =\n",
              "          await google.colab.kernel.invokeFunction('convertToInteractive',\n",
              "                                                    [key], {});\n",
              "        if (!dataTable) return;\n",
              "\n",
              "        const docLinkHtml = 'Like what you see? Visit the ' +\n",
              "          '<a target=\"_blank\" href=https://colab.research.google.com/notebooks/data_table.ipynb>data table notebook</a>'\n",
              "          + ' to learn more about interactive tables.';\n",
              "        element.innerHTML = '';\n",
              "        dataTable['output_type'] = 'display_data';\n",
              "        await google.colab.output.renderOutput(dataTable, element);\n",
              "        const docLink = document.createElement('div');\n",
              "        docLink.innerHTML = docLinkHtml;\n",
              "        element.appendChild(docLink);\n",
              "      }\n",
              "    </script>\n",
              "  </div>\n",
              "\n",
              "\n",
              "<div id=\"df-4313d4a4-ef0e-4578-bb2f-15f7e7d3db57\">\n",
              "  <button class=\"colab-df-quickchart\" onclick=\"quickchart('df-4313d4a4-ef0e-4578-bb2f-15f7e7d3db57')\"\n",
              "            title=\"Suggest charts\"\n",
              "            style=\"display:none;\">\n",
              "\n",
              "<svg xmlns=\"http://www.w3.org/2000/svg\" height=\"24px\"viewBox=\"0 0 24 24\"\n",
              "     width=\"24px\">\n",
              "    <g>\n",
              "        <path d=\"M19 3H5c-1.1 0-2 .9-2 2v14c0 1.1.9 2 2 2h14c1.1 0 2-.9 2-2V5c0-1.1-.9-2-2-2zM9 17H7v-7h2v7zm4 0h-2V7h2v10zm4 0h-2v-4h2v4z\"/>\n",
              "    </g>\n",
              "</svg>\n",
              "  </button>\n",
              "\n",
              "<style>\n",
              "  .colab-df-quickchart {\n",
              "      --bg-color: #E8F0FE;\n",
              "      --fill-color: #1967D2;\n",
              "      --hover-bg-color: #E2EBFA;\n",
              "      --hover-fill-color: #174EA6;\n",
              "      --disabled-fill-color: #AAA;\n",
              "      --disabled-bg-color: #DDD;\n",
              "  }\n",
              "\n",
              "  [theme=dark] .colab-df-quickchart {\n",
              "      --bg-color: #3B4455;\n",
              "      --fill-color: #D2E3FC;\n",
              "      --hover-bg-color: #434B5C;\n",
              "      --hover-fill-color: #FFFFFF;\n",
              "      --disabled-bg-color: #3B4455;\n",
              "      --disabled-fill-color: #666;\n",
              "  }\n",
              "\n",
              "  .colab-df-quickchart {\n",
              "    background-color: var(--bg-color);\n",
              "    border: none;\n",
              "    border-radius: 50%;\n",
              "    cursor: pointer;\n",
              "    display: none;\n",
              "    fill: var(--fill-color);\n",
              "    height: 32px;\n",
              "    padding: 0;\n",
              "    width: 32px;\n",
              "  }\n",
              "\n",
              "  .colab-df-quickchart:hover {\n",
              "    background-color: var(--hover-bg-color);\n",
              "    box-shadow: 0 1px 2px rgba(60, 64, 67, 0.3), 0 1px 3px 1px rgba(60, 64, 67, 0.15);\n",
              "    fill: var(--button-hover-fill-color);\n",
              "  }\n",
              "\n",
              "  .colab-df-quickchart-complete:disabled,\n",
              "  .colab-df-quickchart-complete:disabled:hover {\n",
              "    background-color: var(--disabled-bg-color);\n",
              "    fill: var(--disabled-fill-color);\n",
              "    box-shadow: none;\n",
              "  }\n",
              "\n",
              "  .colab-df-spinner {\n",
              "    border: 2px solid var(--fill-color);\n",
              "    border-color: transparent;\n",
              "    border-bottom-color: var(--fill-color);\n",
              "    animation:\n",
              "      spin 1s steps(1) infinite;\n",
              "  }\n",
              "\n",
              "  @keyframes spin {\n",
              "    0% {\n",
              "      border-color: transparent;\n",
              "      border-bottom-color: var(--fill-color);\n",
              "      border-left-color: var(--fill-color);\n",
              "    }\n",
              "    20% {\n",
              "      border-color: transparent;\n",
              "      border-left-color: var(--fill-color);\n",
              "      border-top-color: var(--fill-color);\n",
              "    }\n",
              "    30% {\n",
              "      border-color: transparent;\n",
              "      border-left-color: var(--fill-color);\n",
              "      border-top-color: var(--fill-color);\n",
              "      border-right-color: var(--fill-color);\n",
              "    }\n",
              "    40% {\n",
              "      border-color: transparent;\n",
              "      border-right-color: var(--fill-color);\n",
              "      border-top-color: var(--fill-color);\n",
              "    }\n",
              "    60% {\n",
              "      border-color: transparent;\n",
              "      border-right-color: var(--fill-color);\n",
              "    }\n",
              "    80% {\n",
              "      border-color: transparent;\n",
              "      border-right-color: var(--fill-color);\n",
              "      border-bottom-color: var(--fill-color);\n",
              "    }\n",
              "    90% {\n",
              "      border-color: transparent;\n",
              "      border-bottom-color: var(--fill-color);\n",
              "    }\n",
              "  }\n",
              "</style>\n",
              "\n",
              "  <script>\n",
              "    async function quickchart(key) {\n",
              "      const quickchartButtonEl =\n",
              "        document.querySelector('#' + key + ' button');\n",
              "      quickchartButtonEl.disabled = true;  // To prevent multiple clicks.\n",
              "      quickchartButtonEl.classList.add('colab-df-spinner');\n",
              "      try {\n",
              "        const charts = await google.colab.kernel.invokeFunction(\n",
              "            'suggestCharts', [key], {});\n",
              "      } catch (error) {\n",
              "        console.error('Error during call to suggestCharts:', error);\n",
              "      }\n",
              "      quickchartButtonEl.classList.remove('colab-df-spinner');\n",
              "      quickchartButtonEl.classList.add('colab-df-quickchart-complete');\n",
              "    }\n",
              "    (() => {\n",
              "      let quickchartButtonEl =\n",
              "        document.querySelector('#df-4313d4a4-ef0e-4578-bb2f-15f7e7d3db57 button');\n",
              "      quickchartButtonEl.style.display =\n",
              "        google.colab.kernel.accessAllowed ? 'block' : 'none';\n",
              "    })();\n",
              "  </script>\n",
              "</div>\n",
              "\n",
              "    </div>\n",
              "  </div>\n"
            ],
            "application/vnd.google.colaboratory.intrinsic+json": {
              "type": "dataframe",
              "summary": "{\n  \"name\": \"df\",\n  \"rows\": 8,\n  \"fields\": [\n    {\n      \"column\": \"youtube\",\n      \"properties\": {\n        \"dtype\": \"number\",\n        \"std\": 109.34864579557772,\n        \"min\": 0.84,\n        \"max\": 355.67999999999995,\n        \"num_unique_values\": 8,\n        \"samples\": [\n          176.451,\n          179.7,\n          200.0\n        ],\n        \"semantic_type\": \"\",\n        \"description\": \"\"\n      }\n    },\n    {\n      \"column\": \"facebook\",\n      \"properties\": {\n        \"dtype\": \"number\",\n        \"std\": 63.90747840922523,\n        \"min\": 0.0,\n        \"max\": 200.0,\n        \"num_unique_values\": 8,\n        \"samples\": [\n          27.916800000000002,\n          27.48,\n          200.0\n        ],\n        \"semantic_type\": \"\",\n        \"description\": \"\"\n      }\n    },\n    {\n      \"column\": \"newspaper\",\n      \"properties\": {\n        \"dtype\": \"number\",\n        \"std\": 69.25589472789022,\n        \"min\": 0.36,\n        \"max\": 200.0,\n        \"num_unique_values\": 8,\n        \"samples\": [\n          36.6648,\n          30.9,\n          200.0\n        ],\n        \"semantic_type\": \"\",\n        \"description\": \"\"\n      }\n    },\n    {\n      \"column\": \"sales\",\n      \"properties\": {\n        \"dtype\": \"number\",\n        \"std\": 65.99266425352545,\n        \"min\": 1.92,\n        \"max\": 200.0,\n        \"num_unique_values\": 8,\n        \"samples\": [\n          16.827,\n          15.48,\n          200.0\n        ],\n        \"semantic_type\": \"\",\n        \"description\": \"\"\n      }\n    }\n  ]\n}"
            }
          },
          "metadata": {},
          "execution_count": 86
        }
      ]
    },
    {
      "cell_type": "markdown",
      "source": [
        "**Step 3:** Plot each feature against sales to visualize potential relationships."
      ],
      "metadata": {
        "id": "8xK_VFTXJ_AE"
      }
    },
    {
      "cell_type": "code",
      "source": [
        "# Visualization to visualize\n",
        "plt.figure(figsize=(10, 6))\n",
        "sns.pairplot(df, corner=True)\n",
        "plt.title('Correlation Matrix')\n",
        "plt.show()"
      ],
      "metadata": {
        "colab": {
          "base_uri": "https://localhost:8080/",
          "height": 979
        },
        "id": "fG5bUl7IK4XS",
        "outputId": "7979d46e-94ce-498b-e462-e0084bdc3856"
      },
      "execution_count": 87,
      "outputs": [
        {
          "output_type": "display_data",
          "data": {
            "text/plain": [
              "<Figure size 1000x600 with 0 Axes>"
            ]
          },
          "metadata": {}
        },
        {
          "output_type": "display_data",
          "data": {
            "text/plain": [
              "<Figure size 1000x1000 with 14 Axes>"
            ],
            "image/png": "[encoded data removed]"
          },
          "metadata": {}
        }
      ]
    },
    {
      "cell_type": "markdown",
      "source": [
        "### 2. Multiple Linear Regression Model"
      ],
      "metadata": {
        "id": "74t3iBGSIezm"
      }
    },
    {
      "cell_type": "markdown",
      "source": [
        "**Step 1:** Define youtube, facebook, and newspaper as predictor variables and sales as the target variable."
      ],
      "metadata": {
        "id": "ev3FV1QgKaxh"
      }
    },
    {
      "cell_type": "code",
      "source": [
        "# Defining Target (y) and Predictors (X), partitioning the dataset into 2 variables\n",
        "X = df[['youtube', 'facebook', 'newspaper']]\n",
        "y = df['sales']"
      ],
      "metadata": {
        "id": "9BdNsKfrHid6"
      },
      "execution_count": 88,
      "outputs": []
    },
    {
      "cell_type": "code",
      "source": [
        "# Adding a constant for the Intercept\n",
        "X = sm.add_constant(X)"
      ],
      "metadata": {
        "id": "p0iiSHQeSsi2"
      },
      "execution_count": 89,
      "outputs": []
    },
    {
      "cell_type": "markdown",
      "source": [
        "**Step 2:** Split the dataset into training and testing sets (70% training, 30% testing)."
      ],
      "metadata": {
        "id": "yJsbXgc7KdFg"
      }
    },
    {
      "cell_type": "code",
      "source": [
        "# Partitioning the dataset again for testing, resulting in 4 variables\n",
        "X_train, X_test, y_train, y_test = train_test_split(X, y, test_size=0.3, random_state=42)"
      ],
      "metadata": {
        "id": "rD9MtmyyKe8w"
      },
      "execution_count": 90,
      "outputs": []
    },
    {
      "cell_type": "code",
      "source": [
        "# Verification of the shape of the X variable full (200), training (140), and testing dataset (60)\n",
        "X.shape, X_train.shape, X_test.shape"
      ],
      "metadata": {
        "colab": {
          "base_uri": "https://localhost:8080/"
        },
        "id": "HpgpRd-mTTRL",
        "outputId": "b4e8e85f-254b-446e-c93c-5478ee66d238"
      },
      "execution_count": 91,
      "outputs": [
        {
          "output_type": "execute_result",
          "data": {
            "text/plain": [
              "((200, 4), (140, 4), (60, 4))"
            ]
          },
          "metadata": {},
          "execution_count": 91
        }
      ]
    },
    {
      "cell_type": "markdown",
      "source": [
        "**Step 3:** Train a multiple linear regression model on the training data."
      ],
      "metadata": {
        "id": "Mfb2Wn0FKfWM"
      }
    },
    {
      "cell_type": "code",
      "source": [
        "# Training an Ordinary Least Squares (OLS) linear regression model on training data.\n",
        "model = sm.OLS(y_train, X_train).fit()"
      ],
      "metadata": {
        "id": "Hvil8LO5KlcJ"
      },
      "execution_count": 92,
      "outputs": []
    },
    {
      "cell_type": "markdown",
      "source": [
        "**Step 4:** Make predictions on the testing data and evaluate model performance using:\n",
        "\n",
        "*   Mean Squared Error (MSE)\n",
        "*   Root Mean Squared Error (RMSE)\n",
        "*   R-squared score"
      ],
      "metadata": {
        "id": "DLrDh6XOKloD"
      }
    },
    {
      "cell_type": "code",
      "source": [
        "# Define function to print the regression equation from the model coefficients\n",
        "def print_regression_equation(model):\n",
        "    intercept = model.params.iloc[0]\n",
        "\n",
        "    # Get the coefficients for each predictor\n",
        "    predictors = model.params.iloc[1:]\n",
        "    equation = f\"Price = {intercept:.4f}\"\n",
        "\n",
        "    # Add each predictor with its coefficient to the equation\n",
        "    for predictor, coef in predictors.items():\n",
        "        equation += f\" + ({coef:.4f}) * {predictor}\"\n",
        "\n",
        "    return equation"
      ],
      "metadata": {
        "id": "kmXJ1p1dYnoZ"
      },
      "execution_count": 93,
      "outputs": []
    },
    {
      "cell_type": "code",
      "source": [
        "# This provides a variable to present the predictions of my model\n",
        "y_pred = model.predict(X_test)"
      ],
      "metadata": {
        "id": "WhdJAUOAnQIh"
      },
      "execution_count": 94,
      "outputs": []
    },
    {
      "cell_type": "code",
      "source": [
        "# This provides the equation my model is using to determine predictions based on the dataset\n",
        "print(print_regression_equation(model))"
      ],
      "metadata": {
        "colab": {
          "base_uri": "https://localhost:8080/"
        },
        "id": "ZAyjZT0zly-I",
        "outputId": "ccc56d81-b7b2-486c-bbeb-c06ca06ee9d3"
      },
      "execution_count": 95,
      "outputs": [
        {
          "output_type": "stream",
          "name": "stdout",
          "text": [
            "Price = 3.2507 + (0.0441) * youtube + (0.1993) * facebook + (0.0069) * newspaper\n"
          ]
        }
      ]
    },
    {
      "cell_type": "code",
      "source": [
        "# Finding the values of Mean Squared Error (MSE), Root Mean Squared Error (RSME), and R-Squared to asses the model's overall fit and explainability.\n",
        "mse = mean_squared_error(y_test, y_pred)\n",
        "rmse = np.sqrt(mse)\n",
        "r2 = r2_score(y_test, y_pred)"
      ],
      "metadata": {
        "id": "Y2mwbXq6Yj7R"
      },
      "execution_count": 96,
      "outputs": []
    },
    {
      "cell_type": "code",
      "source": [
        "# Provides the average squared difference between predicted values and the actual values in the dataset.\n",
        "print(f'Mean Squared Error: {mse:.2f}')\n",
        "# Proportion of variance in sales explained by the model\n",
        "print(f'R-squared: {r2:.2f}')\n",
        "# Everytime that you use the model, you will have a 2.34+-, this is the noise in the model\n",
        "print(f'Root Mean Squared Error: {rmse:.2f}')"
      ],
      "metadata": {
        "id": "wgA2-rDNUogR",
        "colab": {
          "base_uri": "https://localhost:8080/"
        },
        "outputId": "4c44278d-f7cf-4b8f-efc3-95dca6cd63f8"
      },
      "execution_count": 97,
      "outputs": [
        {
          "output_type": "stream",
          "name": "stdout",
          "text": [
            "Mean Squared Error: 5.47\n",
            "R-squared: 0.86\n",
            "Root Mean Squared Error: 2.34\n"
          ]
        }
      ]
    },
    {
      "cell_type": "markdown",
      "source": [
        "### 3. Model Assumptions Check"
      ],
      "metadata": {
        "id": "l6lnGZdRJW2H"
      }
    },
    {
      "cell_type": "markdown",
      "source": [
        "To ensure the validity of your model, check the following assumptions:\n",
        "\n",
        "\n",
        "*   Linearity: Verify linear relationships between predictors and the target.\n",
        "*   Normality of Residuals: Plot a histogram or Q-Q plot of residuals.\n",
        "*   Homoscedasticity: Check for constant variance of residuals across all levels of the predictor.\n",
        "*   Multicollinearity: Check for high correlations among predictors (using VIF or a correlation matrix)."
      ],
      "metadata": {
        "id": "FokexvlQLHwy"
      }
    },
    {
      "cell_type": "markdown",
      "source": [
        "**Linearity**"
      ],
      "metadata": {
        "id": "99fcI9ZELVfQ"
      }
    },
    {
      "cell_type": "code",
      "source": [
        "# Checking Linearity Assumption\n",
        "residuals = y_test - y_pred\n",
        "plt.scatter(y_pred, residuals)\n",
        "plt.xlabel('Predicted Sales')\n",
        "plt.ylabel('Residuals')\n",
        "plt.title('Residuals vs. Predicted Sales')\n",
        "plt.show()\n",
        "# The results presents randomly scattered points representing linearity"
      ],
      "metadata": {
        "id": "eKXEH-2ELUfg",
        "colab": {
          "base_uri": "https://localhost:8080/",
          "height": 472
        },
        "outputId": "61d38f86-6031-4a0c-8679-6d3dc7430d34"
      },
      "execution_count": 98,
      "outputs": [
        {
          "output_type": "display_data",
          "data": {
            "text/plain": [
              "<Figure size 640x480 with 1 Axes>"
            ],
            "image/png": "[encoded data removed]"
          },
          "metadata": {}
        }
      ]
    },
    {
      "cell_type": "markdown",
      "source": [
        "**Normality of Residuals**"
      ],
      "metadata": {
        "id": "1OshKJBYLd7F"
      }
    },
    {
      "cell_type": "code",
      "execution_count": 99,
      "metadata": {
        "id": "VX3s7BJLGwCl",
        "colab": {
          "base_uri": "https://localhost:8080/",
          "height": 472
        },
        "outputId": "adeec138-a21f-4c30-c4c7-97e29309b269"
      },
      "outputs": [
        {
          "output_type": "display_data",
          "data": {
            "text/plain": [
              "<Figure size 640x480 with 1 Axes>"
            ],
            "image/png": "[encoded data removed]"
          },
          "metadata": {}
        }
      ],
      "source": [
        "# Checking Normality Assumption\n",
        "sns.histplot(residuals, kde=True)\n",
        "plt.xlabel('Residuals')\n",
        "plt.ylabel('Frequency')\n",
        "plt.title('Distribution of Residuals')\n",
        "plt.show()\n",
        "# The results present a bell curve that represents normality"
      ]
    },
    {
      "cell_type": "markdown",
      "source": [
        "**Homoscedasticity**"
      ],
      "metadata": {
        "id": "wBo5o0QCLgyw"
      }
    },
    {
      "cell_type": "code",
      "source": [
        "# Checking Homoscedasticity Assumption\n",
        "plt.scatter(y_pred, residuals)\n",
        "plt.axhline(y=0, color='r', linestyle='--')\n",
        "plt.xlabel('Predicted Sales')\n",
        "plt.ylabel('Residuals')\n",
        "plt.title('Residuals vs. Predicted Sales')\n",
        "plt.show()\n",
        "#  The results checked for constant variance of residuals across all levels of the predictor."
      ],
      "metadata": {
        "id": "_MXHUz3kLlB9",
        "colab": {
          "base_uri": "https://localhost:8080/",
          "height": 472
        },
        "outputId": "da035448-36fb-466a-ef51-3a08ef9f38fd"
      },
      "execution_count": 100,
      "outputs": [
        {
          "output_type": "display_data",
          "data": {
            "text/plain": [
              "<Figure size 640x480 with 1 Axes>"
            ],
            "image/png": "[encoded data removed]"
          },
          "metadata": {}
        }
      ]
    },
    {
      "cell_type": "markdown",
      "source": [
        "**Multicollinearity**"
      ],
      "metadata": {
        "id": "MC34HByiLjG2"
      }
    },
    {
      "cell_type": "code",
      "source": [
        "# Checking Multicollinearity Assumtion\n",
        "vif_data = pd.DataFrame()\n",
        "vif_data[\"Features\"] = X_train.columns\n",
        "vif_data[\"VIF\"] = [variance_inflation_factor(X.values, i) for i in range(X.shape[1])]\n",
        "print(vif_data)\n",
        "# The VIF values are less than 10, which represents that the predictors are not highly correlated"
      ],
      "metadata": {
        "id": "QCqft9rMLi5L",
        "colab": {
          "base_uri": "https://localhost:8080/"
        },
        "outputId": "8181edd0-50aa-4e33-e855-9c1ecc105cb8"
      },
      "execution_count": 101,
      "outputs": [
        {
          "output_type": "stream",
          "name": "stdout",
          "text": [
            "    Features       VIF\n",
            "0      const  6.848900\n",
            "1    youtube  1.004611\n",
            "2   facebook  1.144952\n",
            "3  newspaper  1.145187\n"
          ]
        }
      ]
    },
    {
      "cell_type": "markdown",
      "source": [
        "### 4. Model Interpretation"
      ],
      "metadata": {
        "id": "2yavfjmaJaMy"
      }
    },
    {
      "cell_type": "markdown",
      "source": [
        "\n",
        "*   Coefficients: Interpret the coefficients of each predictor to understand their impact on sales.\n",
        "*   Significance: Identify which advertising channels (if any) are significant predictors of sales.\n",
        "*   Model Summary: Summarize your findings, explaining which advertising channels have the most substantial effect on sales, based on coefficient size and significance."
      ],
      "metadata": {
        "id": "tIIfgadHLot_"
      }
    },
    {
      "cell_type": "markdown",
      "source": [
        "**Model Summary**"
      ],
      "metadata": {
        "id": "zQyxvDpRL7TY"
      }
    },
    {
      "cell_type": "code",
      "source": [
        "# Displaying the model's summary\n",
        "print(model.summary())"
      ],
      "metadata": {
        "colab": {
          "base_uri": "https://localhost:8080/"
        },
        "id": "IVtcIbKIK2ym",
        "outputId": "64f6892d-ce26-4d5c-ef5b-25813d3617ea"
      },
      "execution_count": 102,
      "outputs": [
        {
          "output_type": "stream",
          "name": "stdout",
          "text": [
            "                            OLS Regression Results                            \n",
            "==============================================================================\n",
            "Dep. Variable:                  sales   R-squared:                       0.906\n",
            "Model:                            OLS   Adj. R-squared:                  0.903\n",
            "Method:                 Least Squares   F-statistic:                     434.5\n",
            "Date:                Wed, 30 Oct 2024   Prob (F-statistic):           1.88e-69\n",
            "Time:                        23:38:15   Log-Likelihood:                -287.74\n",
            "No. Observations:                 140   AIC:                             583.5\n",
            "Df Residuals:                     136   BIC:                             595.2\n",
            "Df Model:                           3                                         \n",
            "Covariance Type:            nonrobust                                         \n",
            "==============================================================================\n",
            "                 coef    std err          t      P>|t|      [0.025      0.975]\n",
            "------------------------------------------------------------------------------\n",
            "const          3.2507      0.448      7.250      0.000       2.364       4.137\n",
            "youtube        0.0441      0.002     27.219      0.000       0.041       0.047\n",
            "facebook       0.1993      0.010     20.195      0.000       0.180       0.219\n",
            "newspaper      0.0069      0.007      0.988      0.325      -0.007       0.021\n",
            "==============================================================================\n",
            "Omnibus:                       68.437   Durbin-Watson:                   2.285\n",
            "Prob(Omnibus):                  0.000   Jarque-Bera (JB):              325.342\n",
            "Skew:                          -1.709   Prob(JB):                     2.25e-71\n",
            "Kurtosis:                       9.640   Cond. No.                         600.\n",
            "==============================================================================\n",
            "\n",
            "Notes:\n",
            "[1] Standard Errors assume that the covariance matrix of the errors is correctly specified.\n"
          ]
        }
      ]
    },
    {
      "cell_type": "markdown",
      "source": [
        "**Coefficients**"
      ],
      "metadata": {
        "id": "dQyxctQZL25k"
      }
    },
    {
      "cell_type": "markdown",
      "source": [
        "*   **Intercept (const): 3.2507**\n",
        "*   **youtube Coefficient: 0.0441**\n",
        "*   **facebook Coefficient: 0.1993**\n",
        "*   **newspaper Coefficient: 0.0069**"
      ],
      "metadata": {
        "id": "DyhLL9R0Urye"
      }
    },
    {
      "cell_type": "markdown",
      "source": [
        "**Significance**"
      ],
      "metadata": {
        "id": "aGj79qHjL5RL"
      }
    },
    {
      "cell_type": "markdown",
      "source": [
        "**facebook advertisement (0.1993)** provides the highest coefficient related to the other modes of advertisements (0.0441, 0.0069), so we can conclude that **facebook advertisement has significance in generating sales.**"
      ],
      "metadata": {
        "id": "XhbzVU_gsEr-"
      }
    },
    {
      "cell_type": "markdown",
      "source": [
        "### 5. Analysis Questions"
      ],
      "metadata": {
        "id": "x9LDyR8AJdqN"
      }
    },
    {
      "cell_type": "markdown",
      "source": [
        "**What does each coefficient tell you about the relationship between the advertising budget and sales?**"
      ],
      "metadata": {
        "id": "fYhrmG88L_IP"
      }
    },
    {
      "cell_type": "markdown",
      "source": [
        "The coefficient value represents the mean change in the response given a one unit change in the predictor so:\n",
        "\n",
        "youtube with a coefficient of 0.0441, the sales will increase by 0.0441 for every one dollar invested in youtube.\n",
        "\n",
        "facebook with a coefficient of 0.1993, the sales will increase by 0.1993 for every one dollar invested in facebook.\n",
        "\n",
        "newspaper with a coefficient of 0.0069, the sales will increase by 0.0069 for every one dollar invested in newspaper."
      ],
      "metadata": {
        "id": "nt3BjcM7s1rY"
      }
    },
    {
      "cell_type": "markdown",
      "source": [
        "**How well does this model explain the variation in sales?**"
      ],
      "metadata": {
        "id": "k1spIDcgMCiW"
      }
    },
    {
      "cell_type": "markdown",
      "source": [
        "As observed earlier, using the value of R-squared which is 0.86 (86%). This indicates that the model explains the variability of the response data around it's mean. Knowing that the higher the R-Squared, the better the model fits the data, the model explains the variation in sales well.\n"
      ],
      "metadata": {
        "id": "EWWFqs3GvROx"
      }
    },
    {
      "cell_type": "markdown",
      "source": [
        "**Are there any advertising channels that do not contribute significantly to the model? If so, consider possible reasons why.**"
      ],
      "metadata": {
        "id": "1VNItTFQMEIf"
      }
    },
    {
      "cell_type": "markdown",
      "source": [
        "With the provided coefficients for youtube, facebook, and newspaper (0.0441, 0.1993, 0.0069) all being positive, none of the advertising channels impact the model negatively. If you were to decide which advertising channel to focus on more, facebook would be the best channel to decide on more investment to promote more sales according to the model."
      ],
      "metadata": {
        "id": "rCECUUYTwCkI"
      }
    }
  ]
}