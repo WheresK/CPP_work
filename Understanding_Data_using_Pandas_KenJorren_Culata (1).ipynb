{
  "nbformat": 4,
  "nbformat_minor": 0,
  "metadata": {
    "colab": {
      "provenance": []
    },
    "kernelspec": {
      "name": "python3",
      "display_name": "Python 3"
    },
    "language_info": {
      "name": "python"
    }
  },
  "cells": [
    {
      "cell_type": "markdown",
      "source": [
        "# **Python Basics**\n",
        "Let's start by learning how to work with Python **variables**, **data types**, and **basic operations**.\n",
        "\n",
        "## **Variables and Data Types**\n",
        "- In Python, a **variable** is a container for storing data values.\n",
        "- Python supports several **data types**, including:\n",
        "  - **Integers**\n",
        "  - **Floats**\n",
        "  - **Strings**\n",
        "  - **Lists**\n"
      ],
      "metadata": {
        "id": "0x-_-FRhhkyP"
      }
    },
    {
      "cell_type": "code",
      "source": [
        "name = \"John\"\n",
        "age = 30\n",
        "salary = 50000.1"
      ],
      "metadata": {
        "id": "SCvBfnudg8Pa"
      },
      "execution_count": 1,
      "outputs": []
    },
    {
      "cell_type": "code",
      "source": [
        "print(\"Name:\", name)"
      ],
      "metadata": {
        "colab": {
          "base_uri": "https://localhost:8080/"
        },
        "id": "giR5FTh9RVgD",
        "outputId": "b4b9a12a-da57-4a31-8ee1-c1e7df74bb42"
      },
      "execution_count": 2,
      "outputs": [
        {
          "output_type": "stream",
          "name": "stdout",
          "text": [
            "Name: John\n"
          ]
        }
      ]
    },
    {
      "cell_type": "code",
      "source": [
        "print(\"Age:\" , age)"
      ],
      "metadata": {
        "colab": {
          "base_uri": "https://localhost:8080/"
        },
        "id": "dQQyJBhPZY7O",
        "outputId": "09b48e1d-4567-46e8-fa62-ed9a401c783d"
      },
      "execution_count": 3,
      "outputs": [
        {
          "output_type": "stream",
          "name": "stdout",
          "text": [
            "Age: 30\n"
          ]
        }
      ]
    },
    {
      "cell_type": "markdown",
      "source": [
        "## **Basic Operations**\n",
        "- Python allows you to perform **arithmetic operations** on numbers and **concatenate strings**."
      ],
      "metadata": {
        "id": "ghIRkkUAh3fR"
      }
    },
    {
      "cell_type": "code",
      "source": [
        "sum_numbers = 10 + 5"
      ],
      "metadata": {
        "id": "C4BiXT46g8M2"
      },
      "execution_count": 4,
      "outputs": []
    },
    {
      "cell_type": "code",
      "source": [
        "diff_numbers = 20 - 10"
      ],
      "metadata": {
        "id": "QQ97SiRig8KS"
      },
      "execution_count": 5,
      "outputs": []
    },
    {
      "cell_type": "code",
      "source": [
        "4 * 5"
      ],
      "metadata": {
        "colab": {
          "base_uri": "https://localhost:8080/"
        },
        "id": "lP1VI15zZrtQ",
        "outputId": "da8a7575-6851-4241-980f-fc86e6ff285f"
      },
      "execution_count": 6,
      "outputs": [
        {
          "output_type": "execute_result",
          "data": {
            "text/plain": [
              "20"
            ]
          },
          "metadata": {},
          "execution_count": 6
        }
      ]
    },
    {
      "cell_type": "code",
      "source": [
        "20 / 4"
      ],
      "metadata": {
        "colab": {
          "base_uri": "https://localhost:8080/"
        },
        "id": "WT_tmJf4ijWL",
        "outputId": "04dbbaac-9ff6-4724-ad96-47fa067ed906"
      },
      "execution_count": 7,
      "outputs": [
        {
          "output_type": "execute_result",
          "data": {
            "text/plain": [
              "5.0"
            ]
          },
          "metadata": {},
          "execution_count": 7
        }
      ]
    },
    {
      "cell_type": "code",
      "source": [
        "name"
      ],
      "metadata": {
        "colab": {
          "base_uri": "https://localhost:8080/",
          "height": 35
        },
        "id": "GnKtKYsDilfI",
        "outputId": "0f38512c-1f00-4fd3-d343-9b8457e3d0a4"
      },
      "execution_count": 8,
      "outputs": [
        {
          "output_type": "execute_result",
          "data": {
            "text/plain": [
              "'John'"
            ],
            "application/vnd.google.colaboratory.intrinsic+json": {
              "type": "string"
            }
          },
          "metadata": {},
          "execution_count": 8
        }
      ]
    },
    {
      "cell_type": "code",
      "source": [
        "# String Concantentation\n",
        "greeting = \"Hello, \" + name + \"!\""
      ],
      "metadata": {
        "id": "Pz7Z5Ix2inYo"
      },
      "execution_count": 11,
      "outputs": []
    },
    {
      "cell_type": "code",
      "source": [
        "print(greeting)"
      ],
      "metadata": {
        "colab": {
          "base_uri": "https://localhost:8080/"
        },
        "id": "dqsOWcjriu74",
        "outputId": "4444ad58-b0f5-4a27-ca41-259073ecb1a5"
      },
      "execution_count": 12,
      "outputs": [
        {
          "output_type": "stream",
          "name": "stdout",
          "text": [
            "Hello, John!\n"
          ]
        }
      ]
    },
    {
      "cell_type": "markdown",
      "source": [
        "## **Conditional Statements**\n",
        "- **Conditional statements** (if-else) let you execute different blocks of code based on a condition."
      ],
      "metadata": {
        "id": "suEL15N6iJZz"
      }
    },
    {
      "cell_type": "code",
      "source": [
        "age"
      ],
      "metadata": {
        "id": "1yDL9qbwg8Hl",
        "colab": {
          "base_uri": "https://localhost:8080/"
        },
        "outputId": "d5a71678-eb82-4f94-eb2f-2287ef82bb60"
      },
      "execution_count": 13,
      "outputs": [
        {
          "output_type": "execute_result",
          "data": {
            "text/plain": [
              "30"
            ]
          },
          "metadata": {},
          "execution_count": 13
        }
      ]
    },
    {
      "cell_type": "code",
      "source": [
        "age = 19"
      ],
      "metadata": {
        "id": "6JjyjmdVjOxf"
      },
      "execution_count": 17,
      "outputs": []
    },
    {
      "cell_type": "code",
      "source": [
        "if age > 18:\n",
        "  print(name, \"is an adult.\")\n",
        "else:\n",
        "  print(name, \"is not an adult.\")"
      ],
      "metadata": {
        "colab": {
          "base_uri": "https://localhost:8080/"
        },
        "id": "wgB6PR5Xi2O7",
        "outputId": "36d74f93-b0be-4546-d66b-65af8db67cb9"
      },
      "execution_count": 18,
      "outputs": [
        {
          "output_type": "stream",
          "name": "stdout",
          "text": [
            "John is an adult.\n"
          ]
        }
      ]
    },
    {
      "cell_type": "markdown",
      "source": [
        "## **Loops**\n",
        "- **Loops** are used to repeat a block of code multiple times."
      ],
      "metadata": {
        "id": "y3r8smGOiUOF"
      }
    },
    {
      "cell_type": "code",
      "source": [
        "fruits =[\"apple\", \"banana\", \"cherry\"]"
      ],
      "metadata": {
        "id": "awgN8OVqg8Ep"
      },
      "execution_count": 19,
      "outputs": []
    },
    {
      "cell_type": "code",
      "source": [
        "type(fruits)"
      ],
      "metadata": {
        "colab": {
          "base_uri": "https://localhost:8080/"
        },
        "id": "Qzj-3q9jjZbv",
        "outputId": "f35807c1-9473-4087-a207-8326e26fd295"
      },
      "execution_count": 20,
      "outputs": [
        {
          "output_type": "execute_result",
          "data": {
            "text/plain": [
              "list"
            ]
          },
          "metadata": {},
          "execution_count": 20
        }
      ]
    },
    {
      "cell_type": "code",
      "source": [
        "for fruit in fruits:\n",
        "  print(fruit)"
      ],
      "metadata": {
        "colab": {
          "base_uri": "https://localhost:8080/"
        },
        "id": "C-pAGnapjceV",
        "outputId": "e67dc112-afec-4b69-ac65-a5a019ebca4e"
      },
      "execution_count": 21,
      "outputs": [
        {
          "output_type": "stream",
          "name": "stdout",
          "text": [
            "apple\n",
            "banana\n",
            "cherry\n"
          ]
        }
      ]
    },
    {
      "cell_type": "markdown",
      "source": [
        "### **Working with Data**\n",
        "Python provides powerful tools to work with data. Let's start by exploring **lists** and **dictionaries**.\n",
        "\n",
        "### **Lists**\n",
        "- **Lists** are used to store multiple items in a single variable.\n"
      ],
      "metadata": {
        "id": "aiGfD5e1ijFT"
      }
    },
    {
      "cell_type": "code",
      "source": [
        "sales_figures = [1000, 2000, 1500, 3000, 2500]"
      ],
      "metadata": {
        "id": "ChjXn-mdiqRz"
      },
      "execution_count": 22,
      "outputs": []
    },
    {
      "cell_type": "code",
      "source": [
        "total_sales = sum(sales_figures)"
      ],
      "metadata": {
        "id": "oA_v8trZjyNC"
      },
      "execution_count": 23,
      "outputs": []
    },
    {
      "cell_type": "code",
      "source": [
        "print(total_sales)"
      ],
      "metadata": {
        "colab": {
          "base_uri": "https://localhost:8080/"
        },
        "id": "0_ZayjSjj1Hu",
        "outputId": "fa797b51-593f-472c-b634-18d331973619"
      },
      "execution_count": 24,
      "outputs": [
        {
          "output_type": "stream",
          "name": "stdout",
          "text": [
            "10000\n"
          ]
        }
      ]
    },
    {
      "cell_type": "code",
      "source": [
        "sales_figures.append(1800)"
      ],
      "metadata": {
        "id": "47Ps9tD8j4iW"
      },
      "execution_count": 32,
      "outputs": []
    },
    {
      "cell_type": "code",
      "source": [
        "sales_figures"
      ],
      "metadata": {
        "colab": {
          "base_uri": "https://localhost:8080/"
        },
        "id": "ugZDIS-Cj9hS",
        "outputId": "fdd44730-9443-4212-cca9-150b22a8d6f7"
      },
      "execution_count": 33,
      "outputs": [
        {
          "output_type": "execute_result",
          "data": {
            "text/plain": [
              "[1000, 2000, 1500, 3000, 2500, 1800, 1800, 1800]"
            ]
          },
          "metadata": {},
          "execution_count": 33
        }
      ]
    },
    {
      "cell_type": "code",
      "source": [
        "print(total_sales)"
      ],
      "metadata": {
        "colab": {
          "base_uri": "https://localhost:8080/"
        },
        "id": "j9715wf6kB2m",
        "outputId": "6d6c5513-dda2-48a2-cd55-718b6ac5011d"
      },
      "execution_count": 34,
      "outputs": [
        {
          "output_type": "stream",
          "name": "stdout",
          "text": [
            "10000\n"
          ]
        }
      ]
    },
    {
      "cell_type": "markdown",
      "source": [
        "### **Dictionaries**\n",
        "- **Dictionaries** store data in **key-value pairs**, making it easy to organize related information."
      ],
      "metadata": {
        "id": "_LoCmFUNi5Nh"
      }
    },
    {
      "cell_type": "code",
      "source": [
        "#Dictionary of Store product prices.\n",
        "product_prices = {\n",
        "    \"Laptop\" : 1200,\n",
        "    \"Smartphone\": 800,\n",
        "    \"Tablet\" : 400\n",
        "}"
      ],
      "metadata": {
        "id": "jb5NTRbji9BZ"
      },
      "execution_count": 35,
      "outputs": []
    },
    {
      "cell_type": "code",
      "source": [
        "product_prices"
      ],
      "metadata": {
        "colab": {
          "base_uri": "https://localhost:8080/"
        },
        "id": "ysbwS_KfkdXe",
        "outputId": "f8d657e2-b4f2-43a5-b244-9de0f921b8d6"
      },
      "execution_count": 36,
      "outputs": [
        {
          "output_type": "execute_result",
          "data": {
            "text/plain": [
              "{'Laptop': 1200, 'Smartphone': 800, 'Tablet': 400}"
            ]
          },
          "metadata": {},
          "execution_count": 36
        }
      ]
    },
    {
      "cell_type": "code",
      "source": [
        "product_prices[\"Laptop\"]"
      ],
      "metadata": {
        "colab": {
          "base_uri": "https://localhost:8080/"
        },
        "id": "giNKDIN1kjtt",
        "outputId": "47489526-b39b-449d-d763-f49ab1fd3940"
      },
      "execution_count": 37,
      "outputs": [
        {
          "output_type": "execute_result",
          "data": {
            "text/plain": [
              "1200"
            ]
          },
          "metadata": {},
          "execution_count": 37
        }
      ]
    },
    {
      "cell_type": "markdown",
      "source": [
        "# **Data Understanding & Management for Business Intelligence**"
      ],
      "metadata": {
        "id": "aDZwZ-BP-I05"
      }
    },
    {
      "cell_type": "markdown",
      "source": [
        "### **Importance of Data:**\n",
        "Data is the foundation of Business Intelligence (BI), analytics, and data science. It's like the raw material needed to build insights and knowledge. Just as a chef needs ingredients to create a dish, BI requires data to generate insights.\n",
        "\n",
        "- **Decision-Making:** Data enables informed decisions, like analyzing sales data to identify best-selling products and focus marketing efforts.\n",
        "\n",
        "- **Trend Analysis:** Historical data analysis can reveal trends, helping predict future demands, as seen in seasonal sales patterns.\n",
        "\n",
        "- **Customer Insights:** Collecting customer feedback and behavior data helps tailor products and services, enhancing customer satisfaction and loyalty.\n",
        "\n",
        "- **Operational Efficiency:** Data analysis can streamline operations, such as optimizing supply chain logistics based on real-time inventory data.\n",
        "\n",
        "- **Risk Management:** Analyzing financial and operational data helps identify and mitigate risks, like fraud detection through unusual transaction patterns.\n"
      ],
      "metadata": {
        "id": "LIPo4Mro-YHL"
      }
    },
    {
      "cell_type": "markdown",
      "source": [
        "### **Characteristics of Data:**\n",
        "\n",
        "- **Size:** Data's scale impacts storage and processing. Small datasets might fit in a single spreadsheet, whereas Big Data, like internet traffic logs, requires robust databases and computing power.\n",
        "\n",
        "- **Structure:** Structured data, such as a customer database, follows a clear format. Unstructured data, like customer reviews, lacks a predefined format and needs more complex processing.\n",
        "\n",
        "- **Flow:** Data can be continuous, like sensor outputs in a smart factory, or batched, such as monthly sales reports, affecting how and when data is analyzed.\n"
      ],
      "metadata": {
        "id": "Psm5MFKG_AMt"
      }
    },
    {
      "cell_type": "markdown",
      "source": [
        "### **Making Data Analytics-Ready:**\n",
        "\n",
        "- **Relevance and Quality:** Data must be relevant to the specific problem and of high quality.\n",
        "\n",
        "- **Structure:** It should be organized in a way that's ready for analysis, with key fields and normalized values.\n",
        "\n",
        "- **Common Definitions:** Terms and variables should have agreed-upon definitions across the organization (Master Data Management).\n",
        "    - Date formats varying between MM/DD/YYYY and DD/MM/YYYY.\n",
        "    - Using both abbreviations and full names for states, like \"CA\" and \"California.\"\n"
      ],
      "metadata": {
        "id": "8xq0Jptm_Lzy"
      }
    },
    {
      "cell_type": "markdown",
      "source": [
        "### **Analytics Readiness Metrics:**\n",
        "\n",
        "- **Reliability:** Ensuring data comes from credible sources and is stored securely, like using authenticated APIs for data collection.\n",
        "\n",
        "- **Accuracy:** Verifying data matches real-world values, such as ensuring sales figures align with transaction records.\n",
        "\n",
        "- **Accessibility:** Making data easily available to authorized users through user-friendly platforms or databases.\n",
        "\n",
        "- **Security and Privacy:** Implementing measures like encryption and access controls to protect data from breaches.\n",
        "\n",
        "- **Richness:** Gathering comprehensive data sets that cover all aspects needed for analysis, like customer demographics, behaviors, and transaction histories.\n",
        "\n",
        "- **Consistency:** Standardizing data collection and integration methods to ensure uniformity across all data sources.\n",
        "\n"
      ],
      "metadata": {
        "id": "XGH4f_ZGAtxN"
      }
    },
    {
      "cell_type": "markdown",
      "source": [
        "### **Understanding Data Taxonomy for Analytics**\n",
        "\n",
        "**Structured Data:** This includes data organized in a fixed format, making it easily searchable, such as in databases. It is further divided into:\n",
        "\n",
        "- **Categorical Data:** Data that represents categories or groups. It includes:\n",
        "  - **Nominal Data:** Data without a natural order, like colors or marital status.\n",
        "    - *Nominal Data Example:* Consider a Python list holding colors: **`colors = [\"Red\", \"Blue\", \"Green\"]`**. This list represents nominal data as there's no inherent order among these colors.\n",
        "  - **Ordinal Data:** Data with a natural order but no fixed spacing, like education levels or customer satisfaction ratings.\n",
        "    - *Ordinal Data Example:* An education level list: **`education_levels = [\"High School\", \"Bachelor's\", \"Master's\", \"Ph.D.\"]`** shows ordinal data. The list has a natural order from least to most advanced education level, but the spacing between each level isn't defined.\n",
        "\n",
        "- **Numeric Data:** Data represented by numbers. It includes:\n",
        "  - **Interval Data:** Numerical data without a true zero point, such as temperature.\n",
        "    - *Interval Data Example:* Temperature readings in Celsius: **`temperatures = [20, 22, 25, 28]`**. These temperatures are interval data as they are numerical with equal spacing but lack a true zero point (where 0 does not mean 'no temperature').\n",
        "  - **Ratio Data:** Numerical data with a true zero point, allowing for comparisons of magnitudes, like height or weight.\n",
        "    - *Ratio Data Example:* Weights of objects in kilograms: **`weights = [0, 0.5, 1, 1.5]`**. This list is an example of ratio data because it includes numerical values with a true zero point, indicating the absence of weight.\n",
        "\n",
        "**Unstructured Data:** Data that does not have a predefined data model, making it harder to collect, process, and analyze. Examples include text documents, images, and videos.\n",
        "\n",
        "**Semistructured Data:** A blend of structured and unstructured data, which can include elements of both, like XML or JSON files used in web data.\n",
        "\n"
      ],
      "metadata": {
        "id": "MnwXM7VkC3L_"
      }
    },
    {
      "cell_type": "markdown",
      "source": [
        "#### Summary of the **Mathematical Operations** applicable to each level of data taxonomy:\n",
        "\n",
        "| Data Type | Countable | Comparable | Addable | Subtractable | Multiplicable | Dividable |\n",
        "|-----------|-----------|------------|---------|--------------|---------------|-----------|\n",
        "| Nominal   | Yes       | No         | No      | No           | No            | No        |\n",
        "| Ordinal   | Yes       | Yes        | No      | No           | No            | No        |\n",
        "| Interval  | Yes       | Yes        | Yes     | Yes          | No            | No        |\n",
        "| Ratio     | Yes       | Yes        | Yes     | Yes          | Yes           | Yes       |\n"
      ],
      "metadata": {
        "id": "qt_8tGuCDwED"
      }
    },
    {
      "cell_type": "markdown",
      "source": [
        ">> For example, 20°C is not \"twice as warm\" as 10°C because the zero point in the Celsius scale is arbitrary, not representing an absence of temperature."
      ],
      "metadata": {
        "id": "90N3u9PrEBOJ"
      }
    },
    {
      "cell_type": "code",
      "source": [],
      "metadata": {
        "id": "FFhjH8301VBA"
      },
      "execution_count": null,
      "outputs": []
    },
    {
      "cell_type": "code",
      "source": [],
      "metadata": {
        "id": "wNa24FNm1U-w"
      },
      "execution_count": null,
      "outputs": []
    },
    {
      "cell_type": "code",
      "source": [],
      "metadata": {
        "id": "jC39VHwI1T_2"
      },
      "execution_count": null,
      "outputs": []
    },
    {
      "cell_type": "markdown",
      "source": [
        "# Introduction to Pandas for Business Intelligence\n",
        "\n",
        "- Pandas is a cornerstone tool for anyone studying Business Intelligence (BI), providing powerful and easy-to-use data structures and data analysis tools for Python. Its name, derived from \"panel data\" and \"Python data analysis,\" hints at its capabilities and intended use. Here's a brief introduction to get you started:\n",
        "\n",
        "## Why Pandas?\n",
        "\n",
        "- In the realm of Business Intelligence, data is king. You're often tasked with collecting, cleaning, analyzing, and reporting data to inform strategic decisions. Pandas excel in handling and transforming data, making it an indispensable tool for BI students. It allows you to read data from various sources, manipulate it efficiently, and prepare insightful visualizations.\n",
        "\n",
        "## Key Features:\n",
        "\n",
        "### Data Structures:\n",
        "- Pandas introduce two primary data structures: Series and DataFrame. A Series is a one-dimensional array-like structure, while a DataFrame is a two-dimensional, table-like structure with rows and columns. These structures are designed to handle data in a way that is intuitive and aligned with spreadsheet-like operations, which are familiar to most BI professionals.\n",
        "\n",
        "### Data Manipulation:\n",
        "- With Pandas, you can easily filter, sort, group, and aggregate your data. Whether you're dealing with time-series data, categorical data, or missing values, Pandas provides a rich set of methods to perform data munging tasks efficiently.\n",
        "\n",
        "### Integration with Data Sources:\n",
        "- Pandas can seamlessly read and write data from and to various sources like CSV files, Excel spreadsheets, databases, and even cloud storage services. This versatility makes it a great tool for BI tasks, where data might come from disparate sources.\n",
        "\n",
        "### Data Analysis:\n",
        "- Beyond data manipulation, Pandas also supports more complex data analysis tasks. It integrates well with other libraries like NumPy for numerical operations, Matplotlib and Seaborn for data visualization, and Scikit-learn for machine learning, making it a central part of the Python data science ecosystem.\n"
      ],
      "metadata": {
        "id": "NEn3wKR-El1t"
      }
    },
    {
      "cell_type": "markdown",
      "source": [
        "**Loading the Dataset**\n",
        "\n",
        "   First, you need to have the dataset in a format that Pandas can read, such as a CSV file. Assuming the data you provided is saved in a file named `university_data.csv`, you can load it into a Pandas DataFrame.\n"
      ],
      "metadata": {
        "id": "vlGIQwRhFqsc"
      }
    },
    {
      "cell_type": "code",
      "source": [
        "import pandas as pd"
      ],
      "metadata": {
        "id": "yQv_li7Sf_c4"
      },
      "execution_count": 38,
      "outputs": []
    },
    {
      "cell_type": "code",
      "source": [
        "df = pd.read_csv(\"/university_data-1.csv\")"
      ],
      "metadata": {
        "id": "7suxLnHLFCh0"
      },
      "execution_count": 39,
      "outputs": []
    },
    {
      "cell_type": "code",
      "source": [
        "# Display the data,  5 first rows # variables/features each row observation/cell is a value of measurement\n",
        "df.head(10)"
      ],
      "metadata": {
        "colab": {
          "base_uri": "https://localhost:8080/",
          "height": 363
        },
        "id": "qgMqtK5rmglM",
        "outputId": "f9c2bd8b-c99e-414c-ef65-aadd9cbcc986"
      },
      "execution_count": 40,
      "outputs": [
        {
          "output_type": "execute_result",
          "data": {
            "text/plain": [
              "  Private  Outstate  PhD  Apps  Accept  Enroll  Top10perc  Grad.Rate Region  \\\n",
              "0     Yes     21341   70  1457     959   206.0         58  83.689409   West   \n",
              "1      No     22180   76  4330    3787  1404.0         49  87.403395  North   \n",
              "2      No     22258   64  2590    2092   659.0         29  78.054363  North   \n",
              "3      No     24457   71  4119    3580  1529.0         27  86.422863  North   \n",
              "4     Yes     32254   98  2087    1600   467.0         54  97.753025   East   \n",
              "5     Yes     39092   79  1838    1331   503.0         55  90.062261  North   \n",
              "6     Yes     31344   97  2283    1795   649.0         63  97.721357   East   \n",
              "7      No     20736   73  2574    2084   420.0         29  84.737357   East   \n",
              "8      No     14875   71  2891    2410   534.0         39  86.892463  South   \n",
              "9      No     11256   70  4059    3551  1020.0         42  88.905499   East   \n",
              "\n",
              "   Temperature Reputation  \n",
              "0           28       Good  \n",
              "1            6   Moderate  \n",
              "2           11       Poor  \n",
              "3            4   Moderate  \n",
              "4           14   Moderate  \n",
              "5            3       Good  \n",
              "6           14       Good  \n",
              "7           14   Moderate  \n",
              "8           30       Good  \n",
              "9           24   Moderate  "
            ],
            "text/html": [
              "\n",
              "  <div id=\"df-8b0fbad1-8dcb-4114-9545-a3c3fe6f9a9b\" class=\"colab-df-container\">\n",
              "    <div>\n",
              "<style scoped>\n",
              "    .dataframe tbody tr th:only-of-type {\n",
              "        vertical-align: middle;\n",
              "    }\n",
              "\n",
              "    .dataframe tbody tr th {\n",
              "        vertical-align: top;\n",
              "    }\n",
              "\n",
              "    .dataframe thead th {\n",
              "        text-align: right;\n",
              "    }\n",
              "</style>\n",
              "<table border=\"1\" class=\"dataframe\">\n",
              "  <thead>\n",
              "    <tr style=\"text-align: right;\">\n",
              "      <th></th>\n",
              "      <th>Private</th>\n",
              "      <th>Outstate</th>\n",
              "      <th>PhD</th>\n",
              "      <th>Apps</th>\n",
              "      <th>Accept</th>\n",
              "      <th>Enroll</th>\n",
              "      <th>Top10perc</th>\n",
              "      <th>Grad.Rate</th>\n",
              "      <th>Region</th>\n",
              "      <th>Temperature</th>\n",
              "      <th>Reputation</th>\n",
              "    </tr>\n",
              "  </thead>\n",
              "  <tbody>\n",
              "    <tr>\n",
              "      <th>0</th>\n",
              "      <td>Yes</td>\n",
              "      <td>21341</td>\n",
              "      <td>70</td>\n",
              "      <td>1457</td>\n",
              "      <td>959</td>\n",
              "      <td>206.0</td>\n",
              "      <td>58</td>\n",
              "      <td>83.689409</td>\n",
              "      <td>West</td>\n",
              "      <td>28</td>\n",
              "      <td>Good</td>\n",
              "    </tr>\n",
              "    <tr>\n",
              "      <th>1</th>\n",
              "      <td>No</td>\n",
              "      <td>22180</td>\n",
              "      <td>76</td>\n",
              "      <td>4330</td>\n",
              "      <td>3787</td>\n",
              "      <td>1404.0</td>\n",
              "      <td>49</td>\n",
              "      <td>87.403395</td>\n",
              "      <td>North</td>\n",
              "      <td>6</td>\n",
              "      <td>Moderate</td>\n",
              "    </tr>\n",
              "    <tr>\n",
              "      <th>2</th>\n",
              "      <td>No</td>\n",
              "      <td>22258</td>\n",
              "      <td>64</td>\n",
              "      <td>2590</td>\n",
              "      <td>2092</td>\n",
              "      <td>659.0</td>\n",
              "      <td>29</td>\n",
              "      <td>78.054363</td>\n",
              "      <td>North</td>\n",
              "      <td>11</td>\n",
              "      <td>Poor</td>\n",
              "    </tr>\n",
              "    <tr>\n",
              "      <th>3</th>\n",
              "      <td>No</td>\n",
              "      <td>24457</td>\n",
              "      <td>71</td>\n",
              "      <td>4119</td>\n",
              "      <td>3580</td>\n",
              "      <td>1529.0</td>\n",
              "      <td>27</td>\n",
              "      <td>86.422863</td>\n",
              "      <td>North</td>\n",
              "      <td>4</td>\n",
              "      <td>Moderate</td>\n",
              "    </tr>\n",
              "    <tr>\n",
              "      <th>4</th>\n",
              "      <td>Yes</td>\n",
              "      <td>32254</td>\n",
              "      <td>98</td>\n",
              "      <td>2087</td>\n",
              "      <td>1600</td>\n",
              "      <td>467.0</td>\n",
              "      <td>54</td>\n",
              "      <td>97.753025</td>\n",
              "      <td>East</td>\n",
              "      <td>14</td>\n",
              "      <td>Moderate</td>\n",
              "    </tr>\n",
              "    <tr>\n",
              "      <th>5</th>\n",
              "      <td>Yes</td>\n",
              "      <td>39092</td>\n",
              "      <td>79</td>\n",
              "      <td>1838</td>\n",
              "      <td>1331</td>\n",
              "      <td>503.0</td>\n",
              "      <td>55</td>\n",
              "      <td>90.062261</td>\n",
              "      <td>North</td>\n",
              "      <td>3</td>\n",
              "      <td>Good</td>\n",
              "    </tr>\n",
              "    <tr>\n",
              "      <th>6</th>\n",
              "      <td>Yes</td>\n",
              "      <td>31344</td>\n",
              "      <td>97</td>\n",
              "      <td>2283</td>\n",
              "      <td>1795</td>\n",
              "      <td>649.0</td>\n",
              "      <td>63</td>\n",
              "      <td>97.721357</td>\n",
              "      <td>East</td>\n",
              "      <td>14</td>\n",
              "      <td>Good</td>\n",
              "    </tr>\n",
              "    <tr>\n",
              "      <th>7</th>\n",
              "      <td>No</td>\n",
              "      <td>20736</td>\n",
              "      <td>73</td>\n",
              "      <td>2574</td>\n",
              "      <td>2084</td>\n",
              "      <td>420.0</td>\n",
              "      <td>29</td>\n",
              "      <td>84.737357</td>\n",
              "      <td>East</td>\n",
              "      <td>14</td>\n",
              "      <td>Moderate</td>\n",
              "    </tr>\n",
              "    <tr>\n",
              "      <th>8</th>\n",
              "      <td>No</td>\n",
              "      <td>14875</td>\n",
              "      <td>71</td>\n",
              "      <td>2891</td>\n",
              "      <td>2410</td>\n",
              "      <td>534.0</td>\n",
              "      <td>39</td>\n",
              "      <td>86.892463</td>\n",
              "      <td>South</td>\n",
              "      <td>30</td>\n",
              "      <td>Good</td>\n",
              "    </tr>\n",
              "    <tr>\n",
              "      <th>9</th>\n",
              "      <td>No</td>\n",
              "      <td>11256</td>\n",
              "      <td>70</td>\n",
              "      <td>4059</td>\n",
              "      <td>3551</td>\n",
              "      <td>1020.0</td>\n",
              "      <td>42</td>\n",
              "      <td>88.905499</td>\n",
              "      <td>East</td>\n",
              "      <td>24</td>\n",
              "      <td>Moderate</td>\n",
              "    </tr>\n",
              "  </tbody>\n",
              "</table>\n",
              "</div>\n",
              "    <div class=\"colab-df-buttons\">\n",
              "\n",
              "  <div class=\"colab-df-container\">\n",
              "    <button class=\"colab-df-convert\" onclick=\"convertToInteractive('df-8b0fbad1-8dcb-4114-9545-a3c3fe6f9a9b')\"\n",
              "            title=\"Convert this dataframe to an interactive table.\"\n",
              "            style=\"display:none;\">\n",
              "\n",
              "  <svg xmlns=\"http://www.w3.org/2000/svg\" height=\"24px\" viewBox=\"0 -960 960 960\">\n",
              "    <path d=\"M120-120v-720h720v720H120Zm60-500h600v-160H180v160Zm220 220h160v-160H400v160Zm0 220h160v-160H400v160ZM180-400h160v-160H180v160Zm440 0h160v-160H620v160ZM180-180h160v-160H180v160Zm440 0h160v-160H620v160Z\"/>\n",
              "  </svg>\n",
              "    </button>\n",
              "\n",
              "  <style>\n",
              "    .colab-df-container {\n",
              "      display:flex;\n",
              "      gap: 12px;\n",
              "    }\n",
              "\n",
              "    .colab-df-convert {\n",
              "      background-color: #E8F0FE;\n",
              "      border: none;\n",
              "      border-radius: 50%;\n",
              "      cursor: pointer;\n",
              "      display: none;\n",
              "      fill: #1967D2;\n",
              "      height: 32px;\n",
              "      padding: 0 0 0 0;\n",
              "      width: 32px;\n",
              "    }\n",
              "\n",
              "    .colab-df-convert:hover {\n",
              "      background-color: #E2EBFA;\n",
              "      box-shadow: 0px 1px 2px rgba(60, 64, 67, 0.3), 0px 1px 3px 1px rgba(60, 64, 67, 0.15);\n",
              "      fill: #174EA6;\n",
              "    }\n",
              "\n",
              "    .colab-df-buttons div {\n",
              "      margin-bottom: 4px;\n",
              "    }\n",
              "\n",
              "    [theme=dark] .colab-df-convert {\n",
              "      background-color: #3B4455;\n",
              "      fill: #D2E3FC;\n",
              "    }\n",
              "\n",
              "    [theme=dark] .colab-df-convert:hover {\n",
              "      background-color: #434B5C;\n",
              "      box-shadow: 0px 1px 3px 1px rgba(0, 0, 0, 0.15);\n",
              "      filter: drop-shadow(0px 1px 2px rgba(0, 0, 0, 0.3));\n",
              "      fill: #FFFFFF;\n",
              "    }\n",
              "  </style>\n",
              "\n",
              "    <script>\n",
              "      const buttonEl =\n",
              "        document.querySelector('#df-8b0fbad1-8dcb-4114-9545-a3c3fe6f9a9b button.colab-df-convert');\n",
              "      buttonEl.style.display =\n",
              "        google.colab.kernel.accessAllowed ? 'block' : 'none';\n",
              "\n",
              "      async function convertToInteractive(key) {\n",
              "        const element = document.querySelector('#df-8b0fbad1-8dcb-4114-9545-a3c3fe6f9a9b');\n",
              "        const dataTable =\n",
              "          await google.colab.kernel.invokeFunction('convertToInteractive',\n",
              "                                                    [key], {});\n",
              "        if (!dataTable) return;\n",
              "\n",
              "        const docLinkHtml = 'Like what you see? Visit the ' +\n",
              "          '<a target=\"_blank\" href=https://colab.research.google.com/notebooks/data_table.ipynb>data table notebook</a>'\n",
              "          + ' to learn more about interactive tables.';\n",
              "        element.innerHTML = '';\n",
              "        dataTable['output_type'] = 'display_data';\n",
              "        await google.colab.output.renderOutput(dataTable, element);\n",
              "        const docLink = document.createElement('div');\n",
              "        docLink.innerHTML = docLinkHtml;\n",
              "        element.appendChild(docLink);\n",
              "      }\n",
              "    </script>\n",
              "  </div>\n",
              "\n",
              "\n",
              "<div id=\"df-c2d407c2-8e4e-47fe-8a0e-31ee6dd1963a\">\n",
              "  <button class=\"colab-df-quickchart\" onclick=\"quickchart('df-c2d407c2-8e4e-47fe-8a0e-31ee6dd1963a')\"\n",
              "            title=\"Suggest charts\"\n",
              "            style=\"display:none;\">\n",
              "\n",
              "<svg xmlns=\"http://www.w3.org/2000/svg\" height=\"24px\"viewBox=\"0 0 24 24\"\n",
              "     width=\"24px\">\n",
              "    <g>\n",
              "        <path d=\"M19 3H5c-1.1 0-2 .9-2 2v14c0 1.1.9 2 2 2h14c1.1 0 2-.9 2-2V5c0-1.1-.9-2-2-2zM9 17H7v-7h2v7zm4 0h-2V7h2v10zm4 0h-2v-4h2v4z\"/>\n",
              "    </g>\n",
              "</svg>\n",
              "  </button>\n",
              "\n",
              "<style>\n",
              "  .colab-df-quickchart {\n",
              "      --bg-color: #E8F0FE;\n",
              "      --fill-color: #1967D2;\n",
              "      --hover-bg-color: #E2EBFA;\n",
              "      --hover-fill-color: #174EA6;\n",
              "      --disabled-fill-color: #AAA;\n",
              "      --disabled-bg-color: #DDD;\n",
              "  }\n",
              "\n",
              "  [theme=dark] .colab-df-quickchart {\n",
              "      --bg-color: #3B4455;\n",
              "      --fill-color: #D2E3FC;\n",
              "      --hover-bg-color: #434B5C;\n",
              "      --hover-fill-color: #FFFFFF;\n",
              "      --disabled-bg-color: #3B4455;\n",
              "      --disabled-fill-color: #666;\n",
              "  }\n",
              "\n",
              "  .colab-df-quickchart {\n",
              "    background-color: var(--bg-color);\n",
              "    border: none;\n",
              "    border-radius: 50%;\n",
              "    cursor: pointer;\n",
              "    display: none;\n",
              "    fill: var(--fill-color);\n",
              "    height: 32px;\n",
              "    padding: 0;\n",
              "    width: 32px;\n",
              "  }\n",
              "\n",
              "  .colab-df-quickchart:hover {\n",
              "    background-color: var(--hover-bg-color);\n",
              "    box-shadow: 0 1px 2px rgba(60, 64, 67, 0.3), 0 1px 3px 1px rgba(60, 64, 67, 0.15);\n",
              "    fill: var(--button-hover-fill-color);\n",
              "  }\n",
              "\n",
              "  .colab-df-quickchart-complete:disabled,\n",
              "  .colab-df-quickchart-complete:disabled:hover {\n",
              "    background-color: var(--disabled-bg-color);\n",
              "    fill: var(--disabled-fill-color);\n",
              "    box-shadow: none;\n",
              "  }\n",
              "\n",
              "  .colab-df-spinner {\n",
              "    border: 2px solid var(--fill-color);\n",
              "    border-color: transparent;\n",
              "    border-bottom-color: var(--fill-color);\n",
              "    animation:\n",
              "      spin 1s steps(1) infinite;\n",
              "  }\n",
              "\n",
              "  @keyframes spin {\n",
              "    0% {\n",
              "      border-color: transparent;\n",
              "      border-bottom-color: var(--fill-color);\n",
              "      border-left-color: var(--fill-color);\n",
              "    }\n",
              "    20% {\n",
              "      border-color: transparent;\n",
              "      border-left-color: var(--fill-color);\n",
              "      border-top-color: var(--fill-color);\n",
              "    }\n",
              "    30% {\n",
              "      border-color: transparent;\n",
              "      border-left-color: var(--fill-color);\n",
              "      border-top-color: var(--fill-color);\n",
              "      border-right-color: var(--fill-color);\n",
              "    }\n",
              "    40% {\n",
              "      border-color: transparent;\n",
              "      border-right-color: var(--fill-color);\n",
              "      border-top-color: var(--fill-color);\n",
              "    }\n",
              "    60% {\n",
              "      border-color: transparent;\n",
              "      border-right-color: var(--fill-color);\n",
              "    }\n",
              "    80% {\n",
              "      border-color: transparent;\n",
              "      border-right-color: var(--fill-color);\n",
              "      border-bottom-color: var(--fill-color);\n",
              "    }\n",
              "    90% {\n",
              "      border-color: transparent;\n",
              "      border-bottom-color: var(--fill-color);\n",
              "    }\n",
              "  }\n",
              "</style>\n",
              "\n",
              "  <script>\n",
              "    async function quickchart(key) {\n",
              "      const quickchartButtonEl =\n",
              "        document.querySelector('#' + key + ' button');\n",
              "      quickchartButtonEl.disabled = true;  // To prevent multiple clicks.\n",
              "      quickchartButtonEl.classList.add('colab-df-spinner');\n",
              "      try {\n",
              "        const charts = await google.colab.kernel.invokeFunction(\n",
              "            'suggestCharts', [key], {});\n",
              "      } catch (error) {\n",
              "        console.error('Error during call to suggestCharts:', error);\n",
              "      }\n",
              "      quickchartButtonEl.classList.remove('colab-df-spinner');\n",
              "      quickchartButtonEl.classList.add('colab-df-quickchart-complete');\n",
              "    }\n",
              "    (() => {\n",
              "      let quickchartButtonEl =\n",
              "        document.querySelector('#df-c2d407c2-8e4e-47fe-8a0e-31ee6dd1963a button');\n",
              "      quickchartButtonEl.style.display =\n",
              "        google.colab.kernel.accessAllowed ? 'block' : 'none';\n",
              "    })();\n",
              "  </script>\n",
              "</div>\n",
              "\n",
              "    </div>\n",
              "  </div>\n"
            ],
            "application/vnd.google.colaboratory.intrinsic+json": {
              "type": "dataframe",
              "variable_name": "df",
              "summary": "{\n  \"name\": \"df\",\n  \"rows\": 1000,\n  \"fields\": [\n    {\n      \"column\": \"Private\",\n      \"properties\": {\n        \"dtype\": \"category\",\n        \"num_unique_values\": 2,\n        \"samples\": [\n          \"No\",\n          \"Yes\"\n        ],\n        \"semantic_type\": \"\",\n        \"description\": \"\"\n      }\n    },\n    {\n      \"column\": \"Outstate\",\n      \"properties\": {\n        \"dtype\": \"number\",\n        \"std\": 8072,\n        \"min\": 10007,\n        \"max\": 39994,\n        \"num_unique_values\": 983,\n        \"samples\": [\n          14650,\n          15808\n        ],\n        \"semantic_type\": \"\",\n        \"description\": \"\"\n      }\n    },\n    {\n      \"column\": \"PhD\",\n      \"properties\": {\n        \"dtype\": \"number\",\n        \"std\": 12,\n        \"min\": 50,\n        \"max\": 99,\n        \"num_unique_values\": 50,\n        \"samples\": [\n          74,\n          52\n        ],\n        \"semantic_type\": \"\",\n        \"description\": \"\"\n      }\n    },\n    {\n      \"column\": \"Apps\",\n      \"properties\": {\n        \"dtype\": \"number\",\n        \"std\": 1003,\n        \"min\": 1005,\n        \"max\": 4999,\n        \"num_unique_values\": 842,\n        \"samples\": [\n          2602,\n          2055\n        ],\n        \"semantic_type\": \"\",\n        \"description\": \"\"\n      }\n    },\n    {\n      \"column\": \"Accept\",\n      \"properties\": {\n        \"dtype\": \"number\",\n        \"std\": 1003,\n        \"min\": 486,\n        \"max\": 4538,\n        \"num_unique_values\": 869,\n        \"samples\": [\n          3370,\n          3438\n        ],\n        \"semantic_type\": \"\",\n        \"description\": \"\"\n      }\n    },\n    {\n      \"column\": \"Enroll\",\n      \"properties\": {\n        \"dtype\": \"number\",\n        \"std\": 412.0852750219181,\n        \"min\": 119.0,\n        \"max\": 2187.0,\n        \"num_unique_values\": 725,\n        \"samples\": [\n          476.0,\n          508.0\n        ],\n        \"semantic_type\": \"\",\n        \"description\": \"\"\n      }\n    },\n    {\n      \"column\": \"Top10perc\",\n      \"properties\": {\n        \"dtype\": \"number\",\n        \"std\": 17,\n        \"min\": 20,\n        \"max\": 89,\n        \"num_unique_values\": 70,\n        \"samples\": [\n          53,\n          58\n        ],\n        \"semantic_type\": \"\",\n        \"description\": \"\"\n      }\n    },\n    {\n      \"column\": \"Grad.Rate\",\n      \"properties\": {\n        \"dtype\": \"number\",\n        \"std\": 8.391001247177808,\n        \"min\": 62.59121198712363,\n        \"max\": 113.04384303354014,\n        \"num_unique_values\": 1000,\n        \"samples\": [\n          96.18948022207672,\n          95.61205832583164\n        ],\n        \"semantic_type\": \"\",\n        \"description\": \"\"\n      }\n    },\n    {\n      \"column\": \"Region\",\n      \"properties\": {\n        \"dtype\": \"category\",\n        \"num_unique_values\": 4,\n        \"samples\": [\n          \"North\",\n          \"South\"\n        ],\n        \"semantic_type\": \"\",\n        \"description\": \"\"\n      }\n    },\n    {\n      \"column\": \"Temperature\",\n      \"properties\": {\n        \"dtype\": \"number\",\n        \"std\": 8,\n        \"min\": 0,\n        \"max\": 34,\n        \"num_unique_values\": 35,\n        \"samples\": [\n          16,\n          9\n        ],\n        \"semantic_type\": \"\",\n        \"description\": \"\"\n      }\n    },\n    {\n      \"column\": \"Reputation\",\n      \"properties\": {\n        \"dtype\": \"category\",\n        \"num_unique_values\": 3,\n        \"samples\": [\n          \"Good\",\n          \"Moderate\"\n        ],\n        \"semantic_type\": \"\",\n        \"description\": \"\"\n      }\n    }\n  ]\n}"
            }
          },
          "metadata": {},
          "execution_count": 40
        }
      ]
    },
    {
      "cell_type": "markdown",
      "source": [
        "**Understanding the Data**\n",
        "\n",
        "Once the data is loaded, you can perform various operations to understand its structure, content, and characteristics.\n",
        "\n",
        "**Data Overview:** Use `df.info()` to get a concise summary of the DataFrame, including the number of non-null entries, data types, and memory usage.\n"
      ],
      "metadata": {
        "id": "k6jMGnwrF0EI"
      }
    },
    {
      "cell_type": "code",
      "source": [
        "# to see if there is any missing data use df.info() first step, evaluate your data set.\n",
        "df.info()"
      ],
      "metadata": {
        "id": "fUFm_kPKFU14",
        "colab": {
          "base_uri": "https://localhost:8080/"
        },
        "outputId": "bd033dec-b5e9-4b40-cbe0-4fc75d72eb1b"
      },
      "execution_count": 41,
      "outputs": [
        {
          "output_type": "stream",
          "name": "stdout",
          "text": [
            "<class 'pandas.core.frame.DataFrame'>\n",
            "RangeIndex: 1000 entries, 0 to 999\n",
            "Data columns (total 11 columns):\n",
            " #   Column       Non-Null Count  Dtype  \n",
            "---  ------       --------------  -----  \n",
            " 0   Private      1000 non-null   object \n",
            " 1   Outstate     1000 non-null   int64  \n",
            " 2   PhD          1000 non-null   int64  \n",
            " 3   Apps         1000 non-null   int64  \n",
            " 4   Accept       1000 non-null   int64  \n",
            " 5   Enroll       1000 non-null   float64\n",
            " 6   Top10perc    1000 non-null   int64  \n",
            " 7   Grad.Rate    1000 non-null   float64\n",
            " 8   Region       1000 non-null   object \n",
            " 9   Temperature  1000 non-null   int64  \n",
            " 10  Reputation   1000 non-null   object \n",
            "dtypes: float64(2), int64(6), object(3)\n",
            "memory usage: 86.1+ KB\n"
          ]
        }
      ]
    },
    {
      "cell_type": "code",
      "source": [],
      "metadata": {
        "id": "CDqC6VwWo2rd"
      },
      "execution_count": null,
      "outputs": []
    },
    {
      "cell_type": "markdown",
      "source": [
        "**Descriptive Statistics:**\n",
        "\n",
        "Use `df.describe()` to view summary statistics that help describe each numeric column's central tendency, dispersion, and shape of the dataset's distribution.\n"
      ],
      "metadata": {
        "id": "q5CN9IMHF9bu"
      }
    },
    {
      "cell_type": "code",
      "source": [
        "# use to summarize data\n",
        "df.describe()"
      ],
      "metadata": {
        "id": "mKk5L05QF6d6",
        "colab": {
          "base_uri": "https://localhost:8080/",
          "height": 300
        },
        "outputId": "01839c79-6d74-4a85-93cf-55de0b50be9d"
      },
      "execution_count": 42,
      "outputs": [
        {
          "output_type": "execute_result",
          "data": {
            "text/plain": [
              "           Outstate          PhD         Apps       Accept       Enroll  \\\n",
              "count   1000.000000  1000.000000  1000.000000  1000.000000  1000.000000   \n",
              "mean   23772.946000    75.067000  2687.221000  2187.186000   774.628000   \n",
              "std     8072.784115    12.989351  1003.399146  1003.356255   412.085275   \n",
              "min    10007.000000    50.000000  1005.000000   486.000000   119.000000   \n",
              "25%    17834.500000    66.000000  1970.750000  1460.750000   464.250000   \n",
              "50%    23113.000000    75.000000  2514.500000  2023.000000   717.000000   \n",
              "75%    29882.500000    85.000000  3367.750000  2860.250000   993.500000   \n",
              "max    39994.000000    99.000000  4999.000000  4538.000000  2187.000000   \n",
              "\n",
              "         Top10perc    Grad.Rate  Temperature  \n",
              "count  1000.000000  1000.000000  1000.000000  \n",
              "mean     51.859000    87.294761    18.579000  \n",
              "std      17.785484     8.391001     8.561487  \n",
              "min      20.000000    62.591212     0.000000  \n",
              "25%      40.000000    81.216268    12.000000  \n",
              "50%      51.000000    87.320361    20.000000  \n",
              "75%      64.000000    93.284037    25.000000  \n",
              "max      89.000000   113.043843    34.000000  "
            ],
            "text/html": [
              "\n",
              "  <div id=\"df-ba4cb148-a7da-49ea-9a54-d9b1c4a1c131\" class=\"colab-df-container\">\n",
              "    <div>\n",
              "<style scoped>\n",
              "    .dataframe tbody tr th:only-of-type {\n",
              "        vertical-align: middle;\n",
              "    }\n",
              "\n",
              "    .dataframe tbody tr th {\n",
              "        vertical-align: top;\n",
              "    }\n",
              "\n",
              "    .dataframe thead th {\n",
              "        text-align: right;\n",
              "    }\n",
              "</style>\n",
              "<table border=\"1\" class=\"dataframe\">\n",
              "  <thead>\n",
              "    <tr style=\"text-align: right;\">\n",
              "      <th></th>\n",
              "      <th>Outstate</th>\n",
              "      <th>PhD</th>\n",
              "      <th>Apps</th>\n",
              "      <th>Accept</th>\n",
              "      <th>Enroll</th>\n",
              "      <th>Top10perc</th>\n",
              "      <th>Grad.Rate</th>\n",
              "      <th>Temperature</th>\n",
              "    </tr>\n",
              "  </thead>\n",
              "  <tbody>\n",
              "    <tr>\n",
              "      <th>count</th>\n",
              "      <td>1000.000000</td>\n",
              "      <td>1000.000000</td>\n",
              "      <td>1000.000000</td>\n",
              "      <td>1000.000000</td>\n",
              "      <td>1000.000000</td>\n",
              "      <td>1000.000000</td>\n",
              "      <td>1000.000000</td>\n",
              "      <td>1000.000000</td>\n",
              "    </tr>\n",
              "    <tr>\n",
              "      <th>mean</th>\n",
              "      <td>23772.946000</td>\n",
              "      <td>75.067000</td>\n",
              "      <td>2687.221000</td>\n",
              "      <td>2187.186000</td>\n",
              "      <td>774.628000</td>\n",
              "      <td>51.859000</td>\n",
              "      <td>87.294761</td>\n",
              "      <td>18.579000</td>\n",
              "    </tr>\n",
              "    <tr>\n",
              "      <th>std</th>\n",
              "      <td>8072.784115</td>\n",
              "      <td>12.989351</td>\n",
              "      <td>1003.399146</td>\n",
              "      <td>1003.356255</td>\n",
              "      <td>412.085275</td>\n",
              "      <td>17.785484</td>\n",
              "      <td>8.391001</td>\n",
              "      <td>8.561487</td>\n",
              "    </tr>\n",
              "    <tr>\n",
              "      <th>min</th>\n",
              "      <td>10007.000000</td>\n",
              "      <td>50.000000</td>\n",
              "      <td>1005.000000</td>\n",
              "      <td>486.000000</td>\n",
              "      <td>119.000000</td>\n",
              "      <td>20.000000</td>\n",
              "      <td>62.591212</td>\n",
              "      <td>0.000000</td>\n",
              "    </tr>\n",
              "    <tr>\n",
              "      <th>25%</th>\n",
              "      <td>17834.500000</td>\n",
              "      <td>66.000000</td>\n",
              "      <td>1970.750000</td>\n",
              "      <td>1460.750000</td>\n",
              "      <td>464.250000</td>\n",
              "      <td>40.000000</td>\n",
              "      <td>81.216268</td>\n",
              "      <td>12.000000</td>\n",
              "    </tr>\n",
              "    <tr>\n",
              "      <th>50%</th>\n",
              "      <td>23113.000000</td>\n",
              "      <td>75.000000</td>\n",
              "      <td>2514.500000</td>\n",
              "      <td>2023.000000</td>\n",
              "      <td>717.000000</td>\n",
              "      <td>51.000000</td>\n",
              "      <td>87.320361</td>\n",
              "      <td>20.000000</td>\n",
              "    </tr>\n",
              "    <tr>\n",
              "      <th>75%</th>\n",
              "      <td>29882.500000</td>\n",
              "      <td>85.000000</td>\n",
              "      <td>3367.750000</td>\n",
              "      <td>2860.250000</td>\n",
              "      <td>993.500000</td>\n",
              "      <td>64.000000</td>\n",
              "      <td>93.284037</td>\n",
              "      <td>25.000000</td>\n",
              "    </tr>\n",
              "    <tr>\n",
              "      <th>max</th>\n",
              "      <td>39994.000000</td>\n",
              "      <td>99.000000</td>\n",
              "      <td>4999.000000</td>\n",
              "      <td>4538.000000</td>\n",
              "      <td>2187.000000</td>\n",
              "      <td>89.000000</td>\n",
              "      <td>113.043843</td>\n",
              "      <td>34.000000</td>\n",
              "    </tr>\n",
              "  </tbody>\n",
              "</table>\n",
              "</div>\n",
              "    <div class=\"colab-df-buttons\">\n",
              "\n",
              "  <div class=\"colab-df-container\">\n",
              "    <button class=\"colab-df-convert\" onclick=\"convertToInteractive('df-ba4cb148-a7da-49ea-9a54-d9b1c4a1c131')\"\n",
              "            title=\"Convert this dataframe to an interactive table.\"\n",
              "            style=\"display:none;\">\n",
              "\n",
              "  <svg xmlns=\"http://www.w3.org/2000/svg\" height=\"24px\" viewBox=\"0 -960 960 960\">\n",
              "    <path d=\"M120-120v-720h720v720H120Zm60-500h600v-160H180v160Zm220 220h160v-160H400v160Zm0 220h160v-160H400v160ZM180-400h160v-160H180v160Zm440 0h160v-160H620v160ZM180-180h160v-160H180v160Zm440 0h160v-160H620v160Z\"/>\n",
              "  </svg>\n",
              "    </button>\n",
              "\n",
              "  <style>\n",
              "    .colab-df-container {\n",
              "      display:flex;\n",
              "      gap: 12px;\n",
              "    }\n",
              "\n",
              "    .colab-df-convert {\n",
              "      background-color: #E8F0FE;\n",
              "      border: none;\n",
              "      border-radius: 50%;\n",
              "      cursor: pointer;\n",
              "      display: none;\n",
              "      fill: #1967D2;\n",
              "      height: 32px;\n",
              "      padding: 0 0 0 0;\n",
              "      width: 32px;\n",
              "    }\n",
              "\n",
              "    .colab-df-convert:hover {\n",
              "      background-color: #E2EBFA;\n",
              "      box-shadow: 0px 1px 2px rgba(60, 64, 67, 0.3), 0px 1px 3px 1px rgba(60, 64, 67, 0.15);\n",
              "      fill: #174EA6;\n",
              "    }\n",
              "\n",
              "    .colab-df-buttons div {\n",
              "      margin-bottom: 4px;\n",
              "    }\n",
              "\n",
              "    [theme=dark] .colab-df-convert {\n",
              "      background-color: #3B4455;\n",
              "      fill: #D2E3FC;\n",
              "    }\n",
              "\n",
              "    [theme=dark] .colab-df-convert:hover {\n",
              "      background-color: #434B5C;\n",
              "      box-shadow: 0px 1px 3px 1px rgba(0, 0, 0, 0.15);\n",
              "      filter: drop-shadow(0px 1px 2px rgba(0, 0, 0, 0.3));\n",
              "      fill: #FFFFFF;\n",
              "    }\n",
              "  </style>\n",
              "\n",
              "    <script>\n",
              "      const buttonEl =\n",
              "        document.querySelector('#df-ba4cb148-a7da-49ea-9a54-d9b1c4a1c131 button.colab-df-convert');\n",
              "      buttonEl.style.display =\n",
              "        google.colab.kernel.accessAllowed ? 'block' : 'none';\n",
              "\n",
              "      async function convertToInteractive(key) {\n",
              "        const element = document.querySelector('#df-ba4cb148-a7da-49ea-9a54-d9b1c4a1c131');\n",
              "        const dataTable =\n",
              "          await google.colab.kernel.invokeFunction('convertToInteractive',\n",
              "                                                    [key], {});\n",
              "        if (!dataTable) return;\n",
              "\n",
              "        const docLinkHtml = 'Like what you see? Visit the ' +\n",
              "          '<a target=\"_blank\" href=https://colab.research.google.com/notebooks/data_table.ipynb>data table notebook</a>'\n",
              "          + ' to learn more about interactive tables.';\n",
              "        element.innerHTML = '';\n",
              "        dataTable['output_type'] = 'display_data';\n",
              "        await google.colab.output.renderOutput(dataTable, element);\n",
              "        const docLink = document.createElement('div');\n",
              "        docLink.innerHTML = docLinkHtml;\n",
              "        element.appendChild(docLink);\n",
              "      }\n",
              "    </script>\n",
              "  </div>\n",
              "\n",
              "\n",
              "<div id=\"df-acf8dc8a-26a0-4aa4-a302-6b9a50406d7f\">\n",
              "  <button class=\"colab-df-quickchart\" onclick=\"quickchart('df-acf8dc8a-26a0-4aa4-a302-6b9a50406d7f')\"\n",
              "            title=\"Suggest charts\"\n",
              "            style=\"display:none;\">\n",
              "\n",
              "<svg xmlns=\"http://www.w3.org/2000/svg\" height=\"24px\"viewBox=\"0 0 24 24\"\n",
              "     width=\"24px\">\n",
              "    <g>\n",
              "        <path d=\"M19 3H5c-1.1 0-2 .9-2 2v14c0 1.1.9 2 2 2h14c1.1 0 2-.9 2-2V5c0-1.1-.9-2-2-2zM9 17H7v-7h2v7zm4 0h-2V7h2v10zm4 0h-2v-4h2v4z\"/>\n",
              "    </g>\n",
              "</svg>\n",
              "  </button>\n",
              "\n",
              "<style>\n",
              "  .colab-df-quickchart {\n",
              "      --bg-color: #E8F0FE;\n",
              "      --fill-color: #1967D2;\n",
              "      --hover-bg-color: #E2EBFA;\n",
              "      --hover-fill-color: #174EA6;\n",
              "      --disabled-fill-color: #AAA;\n",
              "      --disabled-bg-color: #DDD;\n",
              "  }\n",
              "\n",
              "  [theme=dark] .colab-df-quickchart {\n",
              "      --bg-color: #3B4455;\n",
              "      --fill-color: #D2E3FC;\n",
              "      --hover-bg-color: #434B5C;\n",
              "      --hover-fill-color: #FFFFFF;\n",
              "      --disabled-bg-color: #3B4455;\n",
              "      --disabled-fill-color: #666;\n",
              "  }\n",
              "\n",
              "  .colab-df-quickchart {\n",
              "    background-color: var(--bg-color);\n",
              "    border: none;\n",
              "    border-radius: 50%;\n",
              "    cursor: pointer;\n",
              "    display: none;\n",
              "    fill: var(--fill-color);\n",
              "    height: 32px;\n",
              "    padding: 0;\n",
              "    width: 32px;\n",
              "  }\n",
              "\n",
              "  .colab-df-quickchart:hover {\n",
              "    background-color: var(--hover-bg-color);\n",
              "    box-shadow: 0 1px 2px rgba(60, 64, 67, 0.3), 0 1px 3px 1px rgba(60, 64, 67, 0.15);\n",
              "    fill: var(--button-hover-fill-color);\n",
              "  }\n",
              "\n",
              "  .colab-df-quickchart-complete:disabled,\n",
              "  .colab-df-quickchart-complete:disabled:hover {\n",
              "    background-color: var(--disabled-bg-color);\n",
              "    fill: var(--disabled-fill-color);\n",
              "    box-shadow: none;\n",
              "  }\n",
              "\n",
              "  .colab-df-spinner {\n",
              "    border: 2px solid var(--fill-color);\n",
              "    border-color: transparent;\n",
              "    border-bottom-color: var(--fill-color);\n",
              "    animation:\n",
              "      spin 1s steps(1) infinite;\n",
              "  }\n",
              "\n",
              "  @keyframes spin {\n",
              "    0% {\n",
              "      border-color: transparent;\n",
              "      border-bottom-color: var(--fill-color);\n",
              "      border-left-color: var(--fill-color);\n",
              "    }\n",
              "    20% {\n",
              "      border-color: transparent;\n",
              "      border-left-color: var(--fill-color);\n",
              "      border-top-color: var(--fill-color);\n",
              "    }\n",
              "    30% {\n",
              "      border-color: transparent;\n",
              "      border-left-color: var(--fill-color);\n",
              "      border-top-color: var(--fill-color);\n",
              "      border-right-color: var(--fill-color);\n",
              "    }\n",
              "    40% {\n",
              "      border-color: transparent;\n",
              "      border-right-color: var(--fill-color);\n",
              "      border-top-color: var(--fill-color);\n",
              "    }\n",
              "    60% {\n",
              "      border-color: transparent;\n",
              "      border-right-color: var(--fill-color);\n",
              "    }\n",
              "    80% {\n",
              "      border-color: transparent;\n",
              "      border-right-color: var(--fill-color);\n",
              "      border-bottom-color: var(--fill-color);\n",
              "    }\n",
              "    90% {\n",
              "      border-color: transparent;\n",
              "      border-bottom-color: var(--fill-color);\n",
              "    }\n",
              "  }\n",
              "</style>\n",
              "\n",
              "  <script>\n",
              "    async function quickchart(key) {\n",
              "      const quickchartButtonEl =\n",
              "        document.querySelector('#' + key + ' button');\n",
              "      quickchartButtonEl.disabled = true;  // To prevent multiple clicks.\n",
              "      quickchartButtonEl.classList.add('colab-df-spinner');\n",
              "      try {\n",
              "        const charts = await google.colab.kernel.invokeFunction(\n",
              "            'suggestCharts', [key], {});\n",
              "      } catch (error) {\n",
              "        console.error('Error during call to suggestCharts:', error);\n",
              "      }\n",
              "      quickchartButtonEl.classList.remove('colab-df-spinner');\n",
              "      quickchartButtonEl.classList.add('colab-df-quickchart-complete');\n",
              "    }\n",
              "    (() => {\n",
              "      let quickchartButtonEl =\n",
              "        document.querySelector('#df-acf8dc8a-26a0-4aa4-a302-6b9a50406d7f button');\n",
              "      quickchartButtonEl.style.display =\n",
              "        google.colab.kernel.accessAllowed ? 'block' : 'none';\n",
              "    })();\n",
              "  </script>\n",
              "</div>\n",
              "\n",
              "    </div>\n",
              "  </div>\n"
            ],
            "application/vnd.google.colaboratory.intrinsic+json": {
              "type": "dataframe",
              "summary": "{\n  \"name\": \"df\",\n  \"rows\": 8,\n  \"fields\": [\n    {\n      \"column\": \"Outstate\",\n      \"properties\": {\n        \"dtype\": \"number\",\n        \"std\": 12672.578286743843,\n        \"min\": 1000.0,\n        \"max\": 39994.0,\n        \"num_unique_values\": 8,\n        \"samples\": [\n          23772.946,\n          23113.0,\n          1000.0\n        ],\n        \"semantic_type\": \"\",\n        \"description\": \"\"\n      }\n    },\n    {\n      \"column\": \"PhD\",\n      \"properties\": {\n        \"dtype\": \"number\",\n        \"std\": 331.17626770148564,\n        \"min\": 12.989350801107584,\n        \"max\": 1000.0,\n        \"num_unique_values\": 8,\n        \"samples\": [\n          75.067,\n          75.0,\n          1000.0\n        ],\n        \"semantic_type\": \"\",\n        \"description\": \"\"\n      }\n    },\n    {\n      \"column\": \"Apps\",\n      \"properties\": {\n        \"dtype\": \"number\",\n        \"std\": 1402.7789658512784,\n        \"min\": 1000.0,\n        \"max\": 4999.0,\n        \"num_unique_values\": 8,\n        \"samples\": [\n          2687.221,\n          2514.5,\n          1000.0\n        ],\n        \"semantic_type\": \"\",\n        \"description\": \"\"\n      }\n    },\n    {\n      \"column\": \"Accept\",\n      \"properties\": {\n        \"dtype\": \"number\",\n        \"std\": 1296.6421667291052,\n        \"min\": 486.0,\n        \"max\": 4538.0,\n        \"num_unique_values\": 8,\n        \"samples\": [\n          2187.186,\n          2023.0,\n          1000.0\n        ],\n        \"semantic_type\": \"\",\n        \"description\": \"\"\n      }\n    },\n    {\n      \"column\": \"Enroll\",\n      \"properties\": {\n        \"dtype\": \"number\",\n        \"std\": 624.1301157042656,\n        \"min\": 119.0,\n        \"max\": 2187.0,\n        \"num_unique_values\": 8,\n        \"samples\": [\n          774.628,\n          717.0,\n          1000.0\n        ],\n        \"semantic_type\": \"\",\n        \"description\": \"\"\n      }\n    },\n    {\n      \"column\": \"Top10perc\",\n      \"properties\": {\n        \"dtype\": \"number\",\n        \"std\": 337.490259774378,\n        \"min\": 17.78548403733906,\n        \"max\": 1000.0,\n        \"num_unique_values\": 8,\n        \"samples\": [\n          51.859,\n          51.0,\n          1000.0\n        ],\n        \"semantic_type\": \"\",\n        \"description\": \"\"\n      }\n    },\n    {\n      \"column\": \"Grad.Rate\",\n      \"properties\": {\n        \"dtype\": \"number\",\n        \"std\": 328.0885861853983,\n        \"min\": 8.391001247177808,\n        \"max\": 1000.0,\n        \"num_unique_values\": 8,\n        \"samples\": [\n          87.29476144238404,\n          87.32036100939106,\n          1000.0\n        ],\n        \"semantic_type\": \"\",\n        \"description\": \"\"\n      }\n    },\n    {\n      \"column\": \"Temperature\",\n      \"properties\": {\n        \"dtype\": \"number\",\n        \"std\": 347.74040188900585,\n        \"min\": 0.0,\n        \"max\": 1000.0,\n        \"num_unique_values\": 8,\n        \"samples\": [\n          18.579,\n          20.0,\n          1000.0\n        ],\n        \"semantic_type\": \"\",\n        \"description\": \"\"\n      }\n    }\n  ]\n}"
            }
          },
          "metadata": {},
          "execution_count": 42
        }
      ]
    },
    {
      "cell_type": "markdown",
      "source": [
        "**Check for Missing Values:**\n",
        "\n",
        "It's important to identify if the dataset contains any missing values.\n"
      ],
      "metadata": {
        "id": "E_jCOX_vGEFY"
      }
    },
    {
      "cell_type": "code",
      "source": [
        "df.isnull().sum()"
      ],
      "metadata": {
        "id": "-I1NMsAlGATe",
        "colab": {
          "base_uri": "https://localhost:8080/",
          "height": 429
        },
        "outputId": "19dad754-6281-4650-f2f2-030bcc1a51e8"
      },
      "execution_count": 44,
      "outputs": [
        {
          "output_type": "execute_result",
          "data": {
            "text/plain": [
              "Private        0\n",
              "Outstate       0\n",
              "PhD            0\n",
              "Apps           0\n",
              "Accept         0\n",
              "Enroll         0\n",
              "Top10perc      0\n",
              "Grad.Rate      0\n",
              "Region         0\n",
              "Temperature    0\n",
              "Reputation     0\n",
              "dtype: int64"
            ],
            "text/html": [
              "<div>\n",
              "<style scoped>\n",
              "    .dataframe tbody tr th:only-of-type {\n",
              "        vertical-align: middle;\n",
              "    }\n",
              "\n",
              "    .dataframe tbody tr th {\n",
              "        vertical-align: top;\n",
              "    }\n",
              "\n",
              "    .dataframe thead th {\n",
              "        text-align: right;\n",
              "    }\n",
              "</style>\n",
              "<table border=\"1\" class=\"dataframe\">\n",
              "  <thead>\n",
              "    <tr style=\"text-align: right;\">\n",
              "      <th></th>\n",
              "      <th>0</th>\n",
              "    </tr>\n",
              "  </thead>\n",
              "  <tbody>\n",
              "    <tr>\n",
              "      <th>Private</th>\n",
              "      <td>0</td>\n",
              "    </tr>\n",
              "    <tr>\n",
              "      <th>Outstate</th>\n",
              "      <td>0</td>\n",
              "    </tr>\n",
              "    <tr>\n",
              "      <th>PhD</th>\n",
              "      <td>0</td>\n",
              "    </tr>\n",
              "    <tr>\n",
              "      <th>Apps</th>\n",
              "      <td>0</td>\n",
              "    </tr>\n",
              "    <tr>\n",
              "      <th>Accept</th>\n",
              "      <td>0</td>\n",
              "    </tr>\n",
              "    <tr>\n",
              "      <th>Enroll</th>\n",
              "      <td>0</td>\n",
              "    </tr>\n",
              "    <tr>\n",
              "      <th>Top10perc</th>\n",
              "      <td>0</td>\n",
              "    </tr>\n",
              "    <tr>\n",
              "      <th>Grad.Rate</th>\n",
              "      <td>0</td>\n",
              "    </tr>\n",
              "    <tr>\n",
              "      <th>Region</th>\n",
              "      <td>0</td>\n",
              "    </tr>\n",
              "    <tr>\n",
              "      <th>Temperature</th>\n",
              "      <td>0</td>\n",
              "    </tr>\n",
              "    <tr>\n",
              "      <th>Reputation</th>\n",
              "      <td>0</td>\n",
              "    </tr>\n",
              "  </tbody>\n",
              "</table>\n",
              "</div><br><label><b>dtype:</b> int64</label>"
            ]
          },
          "metadata": {},
          "execution_count": 44
        }
      ]
    },
    {
      "cell_type": "markdown",
      "source": [
        "**Unique Values in Categorical Columns:**\n",
        "\n",
        "For columns like 'Private', 'Region', and 'Reputation', checking unique values can be insightful.\n"
      ],
      "metadata": {
        "id": "QcJVCx4jGOib"
      }
    },
    {
      "cell_type": "code",
      "source": [
        "df['Private'].unique()"
      ],
      "metadata": {
        "id": "Hx47sWKVGJIy",
        "colab": {
          "base_uri": "https://localhost:8080/"
        },
        "outputId": "3087e3c6-d15f-4c99-e73f-4f3b2f041649"
      },
      "execution_count": 45,
      "outputs": [
        {
          "output_type": "execute_result",
          "data": {
            "text/plain": [
              "array(['Yes', 'No'], dtype=object)"
            ]
          },
          "metadata": {},
          "execution_count": 45
        }
      ]
    },
    {
      "cell_type": "code",
      "source": [
        "df['Private'].value_counts()"
      ],
      "metadata": {
        "colab": {
          "base_uri": "https://localhost:8080/",
          "height": 178
        },
        "id": "WALQUY83oG1_",
        "outputId": "660fc156-d45f-4caa-f13b-18a402a7448a"
      },
      "execution_count": 47,
      "outputs": [
        {
          "output_type": "execute_result",
          "data": {
            "text/plain": [
              "Private\n",
              "Yes    503\n",
              "No     497\n",
              "Name: count, dtype: int64"
            ],
            "text/html": [
              "<div>\n",
              "<style scoped>\n",
              "    .dataframe tbody tr th:only-of-type {\n",
              "        vertical-align: middle;\n",
              "    }\n",
              "\n",
              "    .dataframe tbody tr th {\n",
              "        vertical-align: top;\n",
              "    }\n",
              "\n",
              "    .dataframe thead th {\n",
              "        text-align: right;\n",
              "    }\n",
              "</style>\n",
              "<table border=\"1\" class=\"dataframe\">\n",
              "  <thead>\n",
              "    <tr style=\"text-align: right;\">\n",
              "      <th></th>\n",
              "      <th>count</th>\n",
              "    </tr>\n",
              "    <tr>\n",
              "      <th>Private</th>\n",
              "      <th></th>\n",
              "    </tr>\n",
              "  </thead>\n",
              "  <tbody>\n",
              "    <tr>\n",
              "      <th>Yes</th>\n",
              "      <td>503</td>\n",
              "    </tr>\n",
              "    <tr>\n",
              "      <th>No</th>\n",
              "      <td>497</td>\n",
              "    </tr>\n",
              "  </tbody>\n",
              "</table>\n",
              "</div><br><label><b>dtype:</b> int64</label>"
            ]
          },
          "metadata": {},
          "execution_count": 47
        }
      ]
    },
    {
      "cell_type": "code",
      "source": [
        "df['Region'].unique()"
      ],
      "metadata": {
        "colab": {
          "base_uri": "https://localhost:8080/"
        },
        "id": "wcDi8TNpoiQW",
        "outputId": "14f256e4-40f4-451e-a885-21864572176b"
      },
      "execution_count": 49,
      "outputs": [
        {
          "output_type": "execute_result",
          "data": {
            "text/plain": [
              "array(['West', 'North', 'East', 'South'], dtype=object)"
            ]
          },
          "metadata": {},
          "execution_count": 49
        }
      ]
    },
    {
      "cell_type": "code",
      "source": [
        "df['Region'].value_counts()"
      ],
      "metadata": {
        "colab": {
          "base_uri": "https://localhost:8080/",
          "height": 241
        },
        "id": "riatRzybokfI",
        "outputId": "31b9ca73-99bc-49df-ddd1-455eb0d930e2"
      },
      "execution_count": 50,
      "outputs": [
        {
          "output_type": "execute_result",
          "data": {
            "text/plain": [
              "Region\n",
              "South    270\n",
              "East     255\n",
              "West     240\n",
              "North    235\n",
              "Name: count, dtype: int64"
            ],
            "text/html": [
              "<div>\n",
              "<style scoped>\n",
              "    .dataframe tbody tr th:only-of-type {\n",
              "        vertical-align: middle;\n",
              "    }\n",
              "\n",
              "    .dataframe tbody tr th {\n",
              "        vertical-align: top;\n",
              "    }\n",
              "\n",
              "    .dataframe thead th {\n",
              "        text-align: right;\n",
              "    }\n",
              "</style>\n",
              "<table border=\"1\" class=\"dataframe\">\n",
              "  <thead>\n",
              "    <tr style=\"text-align: right;\">\n",
              "      <th></th>\n",
              "      <th>count</th>\n",
              "    </tr>\n",
              "    <tr>\n",
              "      <th>Region</th>\n",
              "      <th></th>\n",
              "    </tr>\n",
              "  </thead>\n",
              "  <tbody>\n",
              "    <tr>\n",
              "      <th>South</th>\n",
              "      <td>270</td>\n",
              "    </tr>\n",
              "    <tr>\n",
              "      <th>East</th>\n",
              "      <td>255</td>\n",
              "    </tr>\n",
              "    <tr>\n",
              "      <th>West</th>\n",
              "      <td>240</td>\n",
              "    </tr>\n",
              "    <tr>\n",
              "      <th>North</th>\n",
              "      <td>235</td>\n",
              "    </tr>\n",
              "  </tbody>\n",
              "</table>\n",
              "</div><br><label><b>dtype:</b> int64</label>"
            ]
          },
          "metadata": {},
          "execution_count": 50
        }
      ]
    },
    {
      "cell_type": "code",
      "source": [
        "# Ordinal Data\n",
        "df['Reputation'].unique()"
      ],
      "metadata": {
        "colab": {
          "base_uri": "https://localhost:8080/"
        },
        "id": "CcGOiIsIopnA",
        "outputId": "b75a7626-b272-49cf-ea68-7c8086885415"
      },
      "execution_count": 51,
      "outputs": [
        {
          "output_type": "execute_result",
          "data": {
            "text/plain": [
              "array(['Good', 'Moderate', 'Poor'], dtype=object)"
            ]
          },
          "metadata": {},
          "execution_count": 51
        }
      ]
    },
    {
      "cell_type": "code",
      "source": [
        "# Interval Data because 0 is not a true 0\n",
        "df['Temperature'].mean()"
      ],
      "metadata": {
        "colab": {
          "base_uri": "https://localhost:8080/"
        },
        "id": "FsSpRPekpTRo",
        "outputId": "cae871d2-3d44-4a4f-dd5b-223bd5780bcc"
      },
      "execution_count": 57,
      "outputs": [
        {
          "output_type": "execute_result",
          "data": {
            "text/plain": [
              "18.579"
            ]
          },
          "metadata": {},
          "execution_count": 57
        }
      ]
    },
    {
      "cell_type": "code",
      "source": [
        "df['Reputation'].value_counts()"
      ],
      "metadata": {
        "colab": {
          "base_uri": "https://localhost:8080/",
          "height": 210
        },
        "id": "uXjvzIQsors0",
        "outputId": "4f1d8d37-215b-48cf-9d3a-4bfa29dc634d"
      },
      "execution_count": 52,
      "outputs": [
        {
          "output_type": "execute_result",
          "data": {
            "text/plain": [
              "Reputation\n",
              "Moderate    494\n",
              "Good        410\n",
              "Poor         96\n",
              "Name: count, dtype: int64"
            ],
            "text/html": [
              "<div>\n",
              "<style scoped>\n",
              "    .dataframe tbody tr th:only-of-type {\n",
              "        vertical-align: middle;\n",
              "    }\n",
              "\n",
              "    .dataframe tbody tr th {\n",
              "        vertical-align: top;\n",
              "    }\n",
              "\n",
              "    .dataframe thead th {\n",
              "        text-align: right;\n",
              "    }\n",
              "</style>\n",
              "<table border=\"1\" class=\"dataframe\">\n",
              "  <thead>\n",
              "    <tr style=\"text-align: right;\">\n",
              "      <th></th>\n",
              "      <th>count</th>\n",
              "    </tr>\n",
              "    <tr>\n",
              "      <th>Reputation</th>\n",
              "      <th></th>\n",
              "    </tr>\n",
              "  </thead>\n",
              "  <tbody>\n",
              "    <tr>\n",
              "      <th>Moderate</th>\n",
              "      <td>494</td>\n",
              "    </tr>\n",
              "    <tr>\n",
              "      <th>Good</th>\n",
              "      <td>410</td>\n",
              "    </tr>\n",
              "    <tr>\n",
              "      <th>Poor</th>\n",
              "      <td>96</td>\n",
              "    </tr>\n",
              "  </tbody>\n",
              "</table>\n",
              "</div><br><label><b>dtype:</b> int64</label>"
            ]
          },
          "metadata": {},
          "execution_count": 52
        }
      ]
    },
    {
      "cell_type": "markdown",
      "source": [
        "Using the 'Private' column in the dataset, perform the following tasks:\n",
        "\n",
        "\n",
        "- Count how many universities are private versus public.\n",
        "\n"
      ],
      "metadata": {
        "id": "TjE3PHZTG6CI"
      }
    },
    {
      "cell_type": "code",
      "source": [
        "df['Region'].value_counts()"
      ],
      "metadata": {
        "id": "OqBJF3OOGRtm",
        "colab": {
          "base_uri": "https://localhost:8080/",
          "height": 241
        },
        "outputId": "eb4c2c7d-7bf4-435f-cf29-c94a10b78fdf"
      },
      "execution_count": 48,
      "outputs": [
        {
          "output_type": "execute_result",
          "data": {
            "text/plain": [
              "Region\n",
              "South    270\n",
              "East     255\n",
              "West     240\n",
              "North    235\n",
              "Name: count, dtype: int64"
            ],
            "text/html": [
              "<div>\n",
              "<style scoped>\n",
              "    .dataframe tbody tr th:only-of-type {\n",
              "        vertical-align: middle;\n",
              "    }\n",
              "\n",
              "    .dataframe tbody tr th {\n",
              "        vertical-align: top;\n",
              "    }\n",
              "\n",
              "    .dataframe thead th {\n",
              "        text-align: right;\n",
              "    }\n",
              "</style>\n",
              "<table border=\"1\" class=\"dataframe\">\n",
              "  <thead>\n",
              "    <tr style=\"text-align: right;\">\n",
              "      <th></th>\n",
              "      <th>count</th>\n",
              "    </tr>\n",
              "    <tr>\n",
              "      <th>Region</th>\n",
              "      <th></th>\n",
              "    </tr>\n",
              "  </thead>\n",
              "  <tbody>\n",
              "    <tr>\n",
              "      <th>South</th>\n",
              "      <td>270</td>\n",
              "    </tr>\n",
              "    <tr>\n",
              "      <th>East</th>\n",
              "      <td>255</td>\n",
              "    </tr>\n",
              "    <tr>\n",
              "      <th>West</th>\n",
              "      <td>240</td>\n",
              "    </tr>\n",
              "    <tr>\n",
              "      <th>North</th>\n",
              "      <td>235</td>\n",
              "    </tr>\n",
              "  </tbody>\n",
              "</table>\n",
              "</div><br><label><b>dtype:</b> int64</label>"
            ]
          },
          "metadata": {},
          "execution_count": 48
        }
      ]
    },
    {
      "cell_type": "code",
      "source": [
        "# count of how many universities are private & public\n",
        "df['Private'].value_counts()"
      ],
      "metadata": {
        "id": "MRx3Yb4NjqIz",
        "colab": {
          "base_uri": "https://localhost:8080/",
          "height": 178
        },
        "outputId": "7de05246-b91e-4afe-97f3-d8d560a2291b"
      },
      "execution_count": 53,
      "outputs": [
        {
          "output_type": "execute_result",
          "data": {
            "text/plain": [
              "Private\n",
              "Yes    503\n",
              "No     497\n",
              "Name: count, dtype: int64"
            ],
            "text/html": [
              "<div>\n",
              "<style scoped>\n",
              "    .dataframe tbody tr th:only-of-type {\n",
              "        vertical-align: middle;\n",
              "    }\n",
              "\n",
              "    .dataframe tbody tr th {\n",
              "        vertical-align: top;\n",
              "    }\n",
              "\n",
              "    .dataframe thead th {\n",
              "        text-align: right;\n",
              "    }\n",
              "</style>\n",
              "<table border=\"1\" class=\"dataframe\">\n",
              "  <thead>\n",
              "    <tr style=\"text-align: right;\">\n",
              "      <th></th>\n",
              "      <th>count</th>\n",
              "    </tr>\n",
              "    <tr>\n",
              "      <th>Private</th>\n",
              "      <th></th>\n",
              "    </tr>\n",
              "  </thead>\n",
              "  <tbody>\n",
              "    <tr>\n",
              "      <th>Yes</th>\n",
              "      <td>503</td>\n",
              "    </tr>\n",
              "    <tr>\n",
              "      <th>No</th>\n",
              "      <td>497</td>\n",
              "    </tr>\n",
              "  </tbody>\n",
              "</table>\n",
              "</div><br><label><b>dtype:</b> int64</label>"
            ]
          },
          "metadata": {},
          "execution_count": 53
        }
      ]
    },
    {
      "cell_type": "code",
      "source": [],
      "metadata": {
        "id": "Ta6kS1Vmj8Vf"
      },
      "execution_count": null,
      "outputs": []
    },
    {
      "cell_type": "code",
      "source": [],
      "metadata": {
        "id": "S6nw3w0tj_XG"
      },
      "execution_count": null,
      "outputs": []
    }
  ]
}